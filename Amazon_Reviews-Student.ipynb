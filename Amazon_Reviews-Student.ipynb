{
 "cells": [
  {
   "cell_type": "markdown",
   "metadata": {},
   "source": [
    "# Problem: Recommend Movies or Shows to Users"
   ]
  },
  {
   "cell_type": "markdown",
   "metadata": {},
   "source": [
    "Modified from:\n",
    "- [Implementing a Recommender System with SageMaker, MXNet, and Gluon](https://github.com/awslabs/amazon-sagemaker-examples/blob/master/introduction_to_applying_machine_learning/gluon_recommender_system/gluon_recommender_system.ipynb)\n",
    "- [An Introduction to Factorization Machines with MNIST](https://github.com/awslabs/amazon-sagemaker-examples/blob/master/introduction_to_amazon_algorithms/factorization_machines_mnist/factorization_machines_mnist.ipynb)\n",
    "- [Extending Amazon SageMaker Factorization Machines Algorithm to Predict Top X Recommendations](https://aws.amazon.com/blogs/machine-learning/extending-amazon-sagemaker-factorization-machines-algorithm-to-predict-top-x-recommendations/)"
   ]
  },
  {
   "cell_type": "markdown",
   "metadata": {},
   "source": [
    "## Introduction to business scenario\n",
    "\n",
    "You work for a startup that focuses on delivering on-demand video streaming services to users. The company wants to introduce movie/show recommendations for their users based on their viewing history.\n",
    "\n",
    "You are tasked with solving part of this problem by leveraging machine learning to create a recommendation engine to be used on the user website. You are given access to the dataset of historical user preferences and the movies they watched. You can use this to train a machine learning model to recommend movies/shows to watch.\n",
    "\n",
    "## About this dataset  \n",
    "The Amazon Customer Reviews Dataset is a collection of reviews on different products from the Amazon.com marketplace from 1995 until 2015. Customer reviews are one of the most important data types at Amazon. Collecting and showing reviews has been part of the Amazon culture since the beginning of the company and is arguably one important source of innovation. For more details on this dataset, see [Amazon Customer Reviews Dataset](https://s3.amazonaws.com/amazon-reviews-pds/readme.html).\n",
    "\n",
    "This exercise focuses on reviews of videos. The videos dataset contains 1- to 5-star ratings from over 2M Amazon customers on 160K digital videos."
   ]
  },
  {
   "cell_type": "markdown",
   "metadata": {},
   "source": [
    "### Features\n",
    "\n",
    "**Data columns**\n",
    "\n",
    "- `marketplace`: Two-letter country code (in this case, all \"US\")\n",
    "- `customer_id`: Random identifier that can be used to aggregate reviews written by a single author\n",
    "- `review_id`: Unique ID for the review\n",
    "- `product_id`: Amazon Standard Identification Number (ASIN). http://www.amazon.com/dp/<ASIN\\> links to the product's detail page.\n",
    "- `product_parent`: The parent of that ASIN. Multiple ASINs (color or format variations of the same product) can roll up into a single parent.\n",
    "- `product_title`: Title description of the product\n",
    "- `product_category`: Broad product category that can be used to group reviews (in this case, digital videos)\n",
    "- `star_rating`: Product's rating (1 to 5 stars)\n",
    "- `helpful_votes`: Number of helpful votes for the review\n",
    "- `total_votes`: Number of total votes the review received\n",
    "- `vine`: Was the review written as part of the Vine program?\n",
    "- `verified_purchase`: Was the review from a verified purchase?\n",
    "- `review_headline`: Title of the review itself\n",
    "- `review_body`: Text of the review\n",
    "- `review_date`: Date the review was written\n",
    "\n",
    "\n",
    "**Data format**\n",
    "- Tab `\\t` separated text file, without quote or escape characters\n",
    "- First line in each file is header; 1 line corresponds to 1 record\n",
    "\n",
    "### Dataset attributions\n",
    "\n",
    "Website: https://s3.amazonaws.com/amazon-reviews-pds/readme.html\n",
    "\n",
    "This dataset is being provided to you by permission of Amazon and is subject to the terms of the AWS Digital Training Service Agreement (available at https://aws.amazon.com/training/digital-training-agreement). You are expressly prohibited from copying, modifying, selling, exporting, or using this dataset in any way other than for the purpose of completing this lab."
   ]
  },
  {
   "cell_type": "markdown",
   "metadata": {},
   "source": [
    "## Brainstorming and designing a question...\n",
    "\n",
    "...That you can answer with machine learning. \n",
    "\n",
    "The first step in most projects is to think about the question you want to ask, how the data available supports this question, and which tool (in this case, machine learning model) you are going to use to answer the question. This is an important step because it helps narrow the scope of exploration and gives clarity on the features that you are going to use. \n",
    "\n",
    "Take a moment to write your thoughts regarding the dataset in the cell below. What are the things you can predict with machine learning? Why may that be relevant from a business/client perspective? Explain why you consider these thoughts important."
   ]
  },
  {
   "cell_type": "markdown",
   "metadata": {},
   "source": [
    "## Write your thoughts here\n",
    "Increase online conversion by recommending product (in this case movie/show) based on customer preference. Because customer may not know all the product they like, by showing them what they might like will increase the number of customer conversion.\n",
    "There might be several ideas about what to do with the data, but for now we are all going to work on recommending a video to a particular user."
   ]
  },
  {
   "cell_type": "markdown",
   "metadata": {},
   "source": [
    "There might be several ideas about what to do with the data, but for now we are all going to work on recommending a video to a particular user."
   ]
  },
  {
   "cell_type": "markdown",
   "metadata": {},
   "source": [
    "## Recommendation and factorization machines\n",
    "\n",
    "In many ways, recommender systems were a catalyst for the current popularity of machine learning. One of Amazon's earliest successes was the \"Customers who bought this, also bought...\" feature. The million dollar Netflix Prize spurred research, raised public awareness, and inspired numerous other data science competitions.\n",
    "\n",
    "Recommender systems can utilize a multitude of data sources and machine learning algorithms. Most combine various unsupervised, supervised, and reinforcement learning techniques into a holistic framework. However, the core component is almost always a model that predicts a user's rating (or purchase) for a certain item based on that user's historical ratings of similar items as well as the behavior of other similar users. The minimal required dataset for this is a history of user item ratings (which we have).\n",
    "\n",
    "The method that you'll use is a factorization machine. A factorization machine is a general-purpose supervised learning algorithm that you can use for both classification and regression tasks. It is an extension of a linear model and is designed to parsimoniously (simply) capture interactions between features in high-dimensional sparse datasets. This makes it a good candidate to handle data patterns with features such as click prediction and item recommendation."
   ]
  },
  {
   "cell_type": "markdown",
   "metadata": {},
   "source": [
    "# Step 1: Problem formulation and data collection\n",
    "\n",
    "Start this project off by writing a few sentences below that summarize the business problem and the business goal you're trying to achieve in this scenario. Include a business metric you would like your team to aspire toward. With that information defined, clearly write out the machine learning problem statement. Finally, add a comment or two about the type of machine learning this represents.\n",
    "\n",
    "#### <span style=\"color: blue;\">Project presentation: Include a summary of these details in your project presentations.</span>"
   ]
  },
  {
   "cell_type": "markdown",
   "metadata": {},
   "source": [
    "### Read through a business scenario and:\n",
    "\n",
    "### 1. Determine if and why ML is an appropriate solution to deploy."
   ]
  },
  {
   "cell_type": "markdown",
   "metadata": {},
   "source": [
    "## Write your answer here\n",
    "\n",
    "This problem is appropriate for ML because there is a lot of data because of a lot of possible combinations. It is impossible to custom code patterns for each customer.\n"
   ]
  },
  {
   "cell_type": "markdown",
   "metadata": {},
   "source": [
    "### 2. Formulate the business problem, success metrics, and desired ML output."
   ]
  },
  {
   "cell_type": "markdown",
   "metadata": {},
   "source": [
    "## Write your answer here\n",
    "\n",
    "Provide recommendation of Movie/show based on Movie/shows viewed by similar customers. Success metrics are Click through rates, conversion (movie/show purchase)\n"
   ]
  },
  {
   "cell_type": "markdown",
   "metadata": {},
   "source": [
    "### 3. Identify the type of ML problem you’re dealing with."
   ]
  },
  {
   "cell_type": "code",
   "execution_count": 1,
   "metadata": {},
   "outputs": [],
   "source": [
    "# Write your answer here\n",
    "# Multi-classification"
   ]
  },
  {
   "cell_type": "markdown",
   "metadata": {},
   "source": [
    "### 4. Analyze the appropriateness of the data you’re working with."
   ]
  },
  {
   "cell_type": "code",
   "execution_count": 2,
   "metadata": {},
   "outputs": [],
   "source": [
    "# Write your answer here\n",
    "# The data is appropriate.  we will be base our supervise learning model on rating score"
   ]
  },
  {
   "cell_type": "markdown",
   "metadata": {},
   "source": [
    "### Setup\n",
    "\n",
    "Now that we have decided where to focus our energy, let's set things up so you can start working on solving the problem.\n",
    "\n",
    "**Note:** This notebook was created and tested on an `ml.m4.xlarge` notebook instance. \n",
    "\n",
    "Start by specifying:\n",
    "- The Amazon Simple Storage Service (Amazon S3) bucket and prefix(?) that you want to use for training and model data. This should be within the same Region as the Notebook Instance, training, and hosting.\n",
    "- The AWS Identity and Access Management (IAM) role [Amazon Resource Name (ARN)](https://docs.aws.amazon.com/general/latest/gr/aws-arns-and-namespaces.html) used to give training and hosting access to your data. See the documentation for how to create these.\n",
    "\n",
    "**Note:** If more than one role is required for notebook instances, training, and/or hosting, replace the `get_execution_role()` call with the appropriate full IAM role ARN string(s)."
   ]
  },
  {
   "cell_type": "markdown",
   "metadata": {},
   "source": [
    "Replace **`<LabBucketName>`** with the resource name that was provided with your lab account."
   ]
  },
  {
   "cell_type": "code",
   "execution_count": 45,
   "metadata": {},
   "outputs": [],
   "source": [
    "# Change the bucket and prefix according to your information\n",
    "bucket = 'qls-3878224-71cb2447d6a77f0c-labbucket-1sl35fi8b5ae6'\n",
    "prefix = 'sagemaker-fm' \n",
    "\n",
    "import sagemaker\n",
    "role = sagemaker.get_execution_role()"
   ]
  },
  {
   "cell_type": "markdown",
   "metadata": {},
   "source": [
    "Now, load some Python libraries you'll need for the remainder of this example notebook."
   ]
  },
  {
   "cell_type": "code",
   "execution_count": 4,
   "metadata": {},
   "outputs": [],
   "source": [
    "import os, subprocess\n",
    "import warnings\n",
    "import pandas as pd\n",
    "import numpy as np\n",
    "import sagemaker\n",
    "from sagemaker.mxnet import MXNet\n",
    "import boto3\n",
    "import json\n",
    "import matplotlib.pyplot as plt\n",
    "import seaborn as sns\n",
    "\n",
    "# Add this to display all the outputs in the cell and not just the last one\n",
    "from IPython.core.interactiveshell import InteractiveShell\n",
    "InteractiveShell.ast_node_interactivity = \"all\"\n",
    "\n",
    "# Ignore warnings\n",
    "warnings.filterwarnings(\"ignore\")"
   ]
  },
  {
   "cell_type": "markdown",
   "metadata": {},
   "source": [
    "# Step 2: Data preprocessing and visualization \n",
    "In this data preprocessing phase, you should take the opportunity to explore and visualize your data to better understand it. First, import the necessary libraries and read the data into a Pandas dataframe. After that, explore your data. Look for the shape of the dataset and explore your columns and the types of columns you're working with (numerical, categorical). Consider performing basic statistics on the features to get a sense of feature means and ranges. Take a close look at your target column and determine its distribution.\n",
    "\n",
    "### Specific questions to consider\n",
    "1. What can you deduce from the basic statistics you ran on the features? \n",
    "\n",
    "2. What can you deduce from the distributions of the target classes?\n",
    "\n",
    "3. Is there anything else you deduced from exploring the data?\n",
    "\n",
    "#### <span style=\"color: blue;\">Project presentation: Include a summary of your answers to these and other similar questions in your project presentations.</span>\n",
    "\n",
    "Start by bringing in the dataset from an Amazon S3 public bucket to this notebook environment."
   ]
  },
  {
   "cell_type": "code",
   "execution_count": 5,
   "metadata": {},
   "outputs": [
    {
     "data": {
      "text/plain": [
       "CompletedProcess(args=['mkdir', '-p', '/home/ec2-user/SageMaker/project/data/AmazonReviews'], returncode=0)"
      ]
     },
     "execution_count": 5,
     "metadata": {},
     "output_type": "execute_result"
    },
    {
     "data": {
      "text/plain": [
       "CompletedProcess(args=['aws', 's3', 'cp', 's3://amazon-reviews-pds/tsv/amazon_reviews_us_Digital_Video_Download_v1_00.tsv.gz', '/home/ec2-user/SageMaker/project/data/AmazonReviews'], returncode=0)"
      ]
     },
     "execution_count": 5,
     "metadata": {},
     "output_type": "execute_result"
    }
   ],
   "source": [
    "# Check whether the file is already in the desired path or if it needs to be downloaded\n",
    "\n",
    "base_path = '/home/ec2-user/SageMaker/project/data/AmazonReviews'\n",
    "file_path = '/amazon_reviews_us_Digital_Video_Download_v1_00.tsv.gz'\n",
    "\n",
    "if not os.path.isfile(base_path + file_path):\n",
    "    subprocess.run(['mkdir', '-p', base_path])\n",
    "    subprocess.run(['aws', 's3', 'cp', 's3://amazon-reviews-pds/tsv' + file_path, base_path])\n",
    "else:\n",
    "    print('File already downloaded!')"
   ]
  },
  {
   "cell_type": "markdown",
   "metadata": {},
   "source": [
    "### Reading the dataset\n",
    "\n",
    "Read the data into a Pandas dataframe so that you can know what you are dealing with.\n",
    "\n",
    "**Note:** You'll set `error_bad_lines=False` when reading the file in, because there appear to be a very small number of records that would create a problem otherwise.\n",
    "\n",
    "**Hint:** You can use the built-in Python `read_csv` function ([documentation](https://pandas.pydata.org/pandas-docs/stable/reference/api/pandas.read_csv.html)). You can use the file path directly with Pandas `read_csv` with `delimiter='\\t'`.\n",
    "\n",
    "For example: `pd.read_csv('filename.tar.gz', delimiter = '\\t', error_bad_lines=False)`"
   ]
  },
  {
   "cell_type": "code",
   "execution_count": 6,
   "metadata": {},
   "outputs": [
    {
     "name": "stderr",
     "output_type": "stream",
     "text": [
      "b'Skipping line 92523: expected 15 fields, saw 22\\n'\n",
      "b'Skipping line 343254: expected 15 fields, saw 22\\n'\n",
      "b'Skipping line 524626: expected 15 fields, saw 22\\n'\n",
      "b'Skipping line 623024: expected 15 fields, saw 22\\n'\n",
      "b'Skipping line 977412: expected 15 fields, saw 22\\n'\n",
      "b'Skipping line 1496867: expected 15 fields, saw 22\\n'\n",
      "b'Skipping line 1711638: expected 15 fields, saw 22\\n'\n",
      "b'Skipping line 1787213: expected 15 fields, saw 22\\n'\n",
      "b'Skipping line 2395306: expected 15 fields, saw 22\\n'\n",
      "b'Skipping line 2527690: expected 15 fields, saw 22\\n'\n"
     ]
    }
   ],
   "source": [
    "df = pd.read_csv('data/AmazonReviews/amazon_reviews_us_Digital_Video_Download_v1_00.tsv.gz',\n",
    "                 delimiter = '\\t', error_bad_lines=False) # Enter your code here"
   ]
  },
  {
   "cell_type": "markdown",
   "metadata": {},
   "source": [
    "Print the first few rows of your dataset.  \n",
    "\n",
    "**Hint**: Use the `pandas.head(<number>)` function to print the rows."
   ]
  },
  {
   "cell_type": "code",
   "execution_count": 7,
   "metadata": {
    "scrolled": true
   },
   "outputs": [
    {
     "data": {
      "text/html": [
       "<div>\n",
       "<style scoped>\n",
       "    .dataframe tbody tr th:only-of-type {\n",
       "        vertical-align: middle;\n",
       "    }\n",
       "\n",
       "    .dataframe tbody tr th {\n",
       "        vertical-align: top;\n",
       "    }\n",
       "\n",
       "    .dataframe thead th {\n",
       "        text-align: right;\n",
       "    }\n",
       "</style>\n",
       "<table border=\"1\" class=\"dataframe\">\n",
       "  <thead>\n",
       "    <tr style=\"text-align: right;\">\n",
       "      <th></th>\n",
       "      <th>marketplace</th>\n",
       "      <th>customer_id</th>\n",
       "      <th>review_id</th>\n",
       "      <th>product_id</th>\n",
       "      <th>product_parent</th>\n",
       "      <th>product_title</th>\n",
       "      <th>product_category</th>\n",
       "      <th>star_rating</th>\n",
       "      <th>helpful_votes</th>\n",
       "      <th>total_votes</th>\n",
       "      <th>vine</th>\n",
       "      <th>verified_purchase</th>\n",
       "      <th>review_headline</th>\n",
       "      <th>review_body</th>\n",
       "      <th>review_date</th>\n",
       "    </tr>\n",
       "  </thead>\n",
       "  <tbody>\n",
       "    <tr>\n",
       "      <th>0</th>\n",
       "      <td>US</td>\n",
       "      <td>12190288</td>\n",
       "      <td>R3FU16928EP5TC</td>\n",
       "      <td>B00AYB1482</td>\n",
       "      <td>668895143</td>\n",
       "      <td>Enlightened: Season 1</td>\n",
       "      <td>Digital_Video_Download</td>\n",
       "      <td>5</td>\n",
       "      <td>0</td>\n",
       "      <td>0</td>\n",
       "      <td>N</td>\n",
       "      <td>Y</td>\n",
       "      <td>I loved it and I wish there was a season 3</td>\n",
       "      <td>I loved it and I wish there was a season 3... ...</td>\n",
       "      <td>2015-08-31</td>\n",
       "    </tr>\n",
       "    <tr>\n",
       "      <th>1</th>\n",
       "      <td>US</td>\n",
       "      <td>30549954</td>\n",
       "      <td>R1IZHHS1MH3AQ4</td>\n",
       "      <td>B00KQD28OM</td>\n",
       "      <td>246219280</td>\n",
       "      <td>Vicious</td>\n",
       "      <td>Digital_Video_Download</td>\n",
       "      <td>5</td>\n",
       "      <td>0</td>\n",
       "      <td>0</td>\n",
       "      <td>N</td>\n",
       "      <td>Y</td>\n",
       "      <td>As always it seems that the best shows come fr...</td>\n",
       "      <td>As always it seems that the best shows come fr...</td>\n",
       "      <td>2015-08-31</td>\n",
       "    </tr>\n",
       "    <tr>\n",
       "      <th>2</th>\n",
       "      <td>US</td>\n",
       "      <td>52895410</td>\n",
       "      <td>R52R85WC6TIAH</td>\n",
       "      <td>B01489L5LQ</td>\n",
       "      <td>534732318</td>\n",
       "      <td>After Words</td>\n",
       "      <td>Digital_Video_Download</td>\n",
       "      <td>4</td>\n",
       "      <td>17</td>\n",
       "      <td>18</td>\n",
       "      <td>N</td>\n",
       "      <td>Y</td>\n",
       "      <td>Charming movie</td>\n",
       "      <td>This movie isn't perfect, but it gets a lot of...</td>\n",
       "      <td>2015-08-31</td>\n",
       "    </tr>\n",
       "    <tr>\n",
       "      <th>3</th>\n",
       "      <td>US</td>\n",
       "      <td>27072354</td>\n",
       "      <td>R7HOOYTVIB0DS</td>\n",
       "      <td>B008LOVIIK</td>\n",
       "      <td>239012694</td>\n",
       "      <td>Masterpiece: Inspector Lewis Season 5</td>\n",
       "      <td>Digital_Video_Download</td>\n",
       "      <td>5</td>\n",
       "      <td>0</td>\n",
       "      <td>0</td>\n",
       "      <td>N</td>\n",
       "      <td>Y</td>\n",
       "      <td>Five Stars</td>\n",
       "      <td>excellant this is what tv should be</td>\n",
       "      <td>2015-08-31</td>\n",
       "    </tr>\n",
       "    <tr>\n",
       "      <th>4</th>\n",
       "      <td>US</td>\n",
       "      <td>26939022</td>\n",
       "      <td>R1XQ2N5CDOZGNX</td>\n",
       "      <td>B0094LZMT0</td>\n",
       "      <td>535858974</td>\n",
       "      <td>On The Waterfront</td>\n",
       "      <td>Digital_Video_Download</td>\n",
       "      <td>5</td>\n",
       "      <td>0</td>\n",
       "      <td>0</td>\n",
       "      <td>N</td>\n",
       "      <td>Y</td>\n",
       "      <td>Brilliant film from beginning to end</td>\n",
       "      <td>Brilliant film from beginning to end. All of t...</td>\n",
       "      <td>2015-08-31</td>\n",
       "    </tr>\n",
       "    <tr>\n",
       "      <th>5</th>\n",
       "      <td>US</td>\n",
       "      <td>4772040</td>\n",
       "      <td>R1HCST57W334KN</td>\n",
       "      <td>B0112OSOQE</td>\n",
       "      <td>38517795</td>\n",
       "      <td>Rick and Morty Season 2</td>\n",
       "      <td>Digital_Video_Download</td>\n",
       "      <td>5</td>\n",
       "      <td>5</td>\n",
       "      <td>6</td>\n",
       "      <td>N</td>\n",
       "      <td>Y</td>\n",
       "      <td>Best show on TV right now</td>\n",
       "      <td>If you don't like this show. Go back to your n...</td>\n",
       "      <td>2015-08-31</td>\n",
       "    </tr>\n",
       "    <tr>\n",
       "      <th>6</th>\n",
       "      <td>US</td>\n",
       "      <td>12910040</td>\n",
       "      <td>R32BUTYQS1ZJBQ</td>\n",
       "      <td>B000NPE5SA</td>\n",
       "      <td>373323715</td>\n",
       "      <td>Africa Screams</td>\n",
       "      <td>Digital_Video_Download</td>\n",
       "      <td>4</td>\n",
       "      <td>1</td>\n",
       "      <td>1</td>\n",
       "      <td>N</td>\n",
       "      <td>Y</td>\n",
       "      <td>Very funny. A typical mid 50's comedy</td>\n",
       "      <td>Very funny.  A typical mid 50's comedy.</td>\n",
       "      <td>2015-08-31</td>\n",
       "    </tr>\n",
       "    <tr>\n",
       "      <th>7</th>\n",
       "      <td>US</td>\n",
       "      <td>38805573</td>\n",
       "      <td>RH4SXPL4L9QU</td>\n",
       "      <td>B00XWV4QXG</td>\n",
       "      <td>633842417</td>\n",
       "      <td>Entourage: Season 7</td>\n",
       "      <td>Digital_Video_Download</td>\n",
       "      <td>3</td>\n",
       "      <td>0</td>\n",
       "      <td>0</td>\n",
       "      <td>N</td>\n",
       "      <td>Y</td>\n",
       "      <td>it was not as good as the series</td>\n",
       "      <td>Strange as it is, it was not as good as the se...</td>\n",
       "      <td>2015-08-31</td>\n",
       "    </tr>\n",
       "    <tr>\n",
       "      <th>8</th>\n",
       "      <td>US</td>\n",
       "      <td>37100714</td>\n",
       "      <td>R37INWIQA5YW8N</td>\n",
       "      <td>B00X8UKOUK</td>\n",
       "      <td>666093513</td>\n",
       "      <td>Catastrophe - Season 1</td>\n",
       "      <td>Digital_Video_Download</td>\n",
       "      <td>2</td>\n",
       "      <td>0</td>\n",
       "      <td>0</td>\n",
       "      <td>N</td>\n",
       "      <td>Y</td>\n",
       "      <td>Two Stars</td>\n",
       "      <td>Funny shows! We laughed out loud, alot!</td>\n",
       "      <td>2015-08-31</td>\n",
       "    </tr>\n",
       "    <tr>\n",
       "      <th>9</th>\n",
       "      <td>US</td>\n",
       "      <td>41234409</td>\n",
       "      <td>R18GSVAAS3N8GX</td>\n",
       "      <td>B00OOKXTFU</td>\n",
       "      <td>801680808</td>\n",
       "      <td>The Worricker Trilogy Season 1</td>\n",
       "      <td>Digital_Video_Download</td>\n",
       "      <td>3</td>\n",
       "      <td>0</td>\n",
       "      <td>0</td>\n",
       "      <td>N</td>\n",
       "      <td>Y</td>\n",
       "      <td>A tad Stuffy</td>\n",
       "      <td>Well made. Great actors! Christopher Walken ma...</td>\n",
       "      <td>2015-08-31</td>\n",
       "    </tr>\n",
       "  </tbody>\n",
       "</table>\n",
       "</div>"
      ],
      "text/plain": [
       "  marketplace  customer_id       review_id  product_id  product_parent  \\\n",
       "0          US     12190288  R3FU16928EP5TC  B00AYB1482       668895143   \n",
       "1          US     30549954  R1IZHHS1MH3AQ4  B00KQD28OM       246219280   \n",
       "2          US     52895410   R52R85WC6TIAH  B01489L5LQ       534732318   \n",
       "3          US     27072354   R7HOOYTVIB0DS  B008LOVIIK       239012694   \n",
       "4          US     26939022  R1XQ2N5CDOZGNX  B0094LZMT0       535858974   \n",
       "5          US      4772040  R1HCST57W334KN  B0112OSOQE        38517795   \n",
       "6          US     12910040  R32BUTYQS1ZJBQ  B000NPE5SA       373323715   \n",
       "7          US     38805573    RH4SXPL4L9QU  B00XWV4QXG       633842417   \n",
       "8          US     37100714  R37INWIQA5YW8N  B00X8UKOUK       666093513   \n",
       "9          US     41234409  R18GSVAAS3N8GX  B00OOKXTFU       801680808   \n",
       "\n",
       "                           product_title        product_category  star_rating  \\\n",
       "0                  Enlightened: Season 1  Digital_Video_Download            5   \n",
       "1                                Vicious  Digital_Video_Download            5   \n",
       "2                            After Words  Digital_Video_Download            4   \n",
       "3  Masterpiece: Inspector Lewis Season 5  Digital_Video_Download            5   \n",
       "4                      On The Waterfront  Digital_Video_Download            5   \n",
       "5                Rick and Morty Season 2  Digital_Video_Download            5   \n",
       "6                         Africa Screams  Digital_Video_Download            4   \n",
       "7                    Entourage: Season 7  Digital_Video_Download            3   \n",
       "8                 Catastrophe - Season 1  Digital_Video_Download            2   \n",
       "9         The Worricker Trilogy Season 1  Digital_Video_Download            3   \n",
       "\n",
       "   helpful_votes  total_votes vine verified_purchase  \\\n",
       "0              0            0    N                 Y   \n",
       "1              0            0    N                 Y   \n",
       "2             17           18    N                 Y   \n",
       "3              0            0    N                 Y   \n",
       "4              0            0    N                 Y   \n",
       "5              5            6    N                 Y   \n",
       "6              1            1    N                 Y   \n",
       "7              0            0    N                 Y   \n",
       "8              0            0    N                 Y   \n",
       "9              0            0    N                 Y   \n",
       "\n",
       "                                     review_headline  \\\n",
       "0         I loved it and I wish there was a season 3   \n",
       "1  As always it seems that the best shows come fr...   \n",
       "2                                     Charming movie   \n",
       "3                                         Five Stars   \n",
       "4               Brilliant film from beginning to end   \n",
       "5                          Best show on TV right now   \n",
       "6              Very funny. A typical mid 50's comedy   \n",
       "7                   it was not as good as the series   \n",
       "8                                          Two Stars   \n",
       "9                                       A tad Stuffy   \n",
       "\n",
       "                                         review_body review_date  \n",
       "0  I loved it and I wish there was a season 3... ...  2015-08-31  \n",
       "1  As always it seems that the best shows come fr...  2015-08-31  \n",
       "2  This movie isn't perfect, but it gets a lot of...  2015-08-31  \n",
       "3                excellant this is what tv should be  2015-08-31  \n",
       "4  Brilliant film from beginning to end. All of t...  2015-08-31  \n",
       "5  If you don't like this show. Go back to your n...  2015-08-31  \n",
       "6            Very funny.  A typical mid 50's comedy.  2015-08-31  \n",
       "7  Strange as it is, it was not as good as the se...  2015-08-31  \n",
       "8            Funny shows! We laughed out loud, alot!  2015-08-31  \n",
       "9  Well made. Great actors! Christopher Walken ma...  2015-08-31  "
      ]
     },
     "execution_count": 7,
     "metadata": {},
     "output_type": "execute_result"
    }
   ],
   "source": [
    "# Enter your code here\n",
    "df.head(10)"
   ]
  },
  {
   "cell_type": "markdown",
   "metadata": {},
   "source": [
    "Now what is the information contained in all the columns?"
   ]
  },
  {
   "cell_type": "markdown",
   "metadata": {},
   "source": [
    "### Anatomy of the dataset\n",
    "\n",
    "Get a little more comfortable with the data and see what features are at hand.\n",
    "\n",
    "- `marketplace`: Two-letter country code (in this case, all \"US\")\n",
    "- `customer_id`: Random identifier that can be used to aggregate reviews written by a single author\n",
    "- `review_id`: Unique ID for the review\n",
    "- `product_id`: Amazon Standard Identification Number (ASIN). http://www.amazon.com/dp/<ASIN\\> links to the product's detail page.\n",
    "- `product_parent`: The parent of that ASIN. Multiple ASINs (color or format variations of the same product) can roll up into a single parent.\n",
    "- `product_title`: Title description of the product\n",
    "- `product_category`: Broad product category that can be used to group reviews (in this case, digital videos)\n",
    "- `star_rating`: Product's rating (1 to 5 stars)\n",
    "- `helpful_votes`: Number of helpful votes for the review\n",
    "- `total_votes`: Number of total votes the review received\n",
    "- `vine`: Was the review written as part of the Vine program?\n",
    "- `verified_purchase`: Was the review from a verified purchase?\n",
    "- `review_headline`: Title of the review itself\n",
    "- `review_body`: Text of the review\n",
    "- `review_date`: Date the review was written"
   ]
  },
  {
   "cell_type": "markdown",
   "metadata": {},
   "source": [
    "### Analyzing and understanding the dataset\n",
    "\n",
    "#### Exploring the data"
   ]
  },
  {
   "cell_type": "markdown",
   "metadata": {},
   "source": [
    "**Hint:** You can refer [here](https://pandas.pydata.org/pandas-docs/stable/reference/frame.html) to answer the following questions. \n",
    "\n",
    "**Question:** How many rows and columns do you have in the dataset?"
   ]
  },
  {
   "cell_type": "markdown",
   "metadata": {},
   "source": [
    "Check the size of the dataset.  \n",
    "\n",
    "**Hint**: Use the `<dataframe>.shape` function to check the size of your dataframe"
   ]
  },
  {
   "cell_type": "code",
   "execution_count": 8,
   "metadata": {},
   "outputs": [
    {
     "data": {
      "text/plain": [
       "(3998345, 15)"
      ]
     },
     "execution_count": 8,
     "metadata": {},
     "output_type": "execute_result"
    }
   ],
   "source": [
    "# Enter your code here\n",
    "df.shape"
   ]
  },
  {
   "cell_type": "code",
   "execution_count": 9,
   "metadata": {},
   "outputs": [],
   "source": [
    "# Enter your Answer here\n",
    "# 3998345"
   ]
  },
  {
   "cell_type": "markdown",
   "metadata": {},
   "source": [
    "**Question:** Which columns contain null values, and how many null values do they contain?"
   ]
  },
  {
   "cell_type": "markdown",
   "metadata": {},
   "source": [
    "Print a summary of the dataset.  \n",
    "\n",
    "**Hint**: Use `<dataframe>.info` function using the keyword arguments `null_counts = True`"
   ]
  },
  {
   "cell_type": "code",
   "execution_count": 10,
   "metadata": {
    "scrolled": true
   },
   "outputs": [
    {
     "name": "stdout",
     "output_type": "stream",
     "text": [
      "<class 'pandas.core.frame.DataFrame'>\n",
      "RangeIndex: 3998345 entries, 0 to 3998344\n",
      "Data columns (total 15 columns):\n",
      " #   Column             Non-Null Count    Dtype \n",
      "---  ------             --------------    ----- \n",
      " 0   marketplace        3998345 non-null  object\n",
      " 1   customer_id        3998345 non-null  int64 \n",
      " 2   review_id          3998345 non-null  object\n",
      " 3   product_id         3998345 non-null  object\n",
      " 4   product_parent     3998345 non-null  int64 \n",
      " 5   product_title      3998345 non-null  object\n",
      " 6   product_category   3998345 non-null  object\n",
      " 7   star_rating        3998345 non-null  int64 \n",
      " 8   helpful_votes      3998345 non-null  int64 \n",
      " 9   total_votes        3998345 non-null  int64 \n",
      " 10  vine               3998345 non-null  object\n",
      " 11  verified_purchase  3998345 non-null  object\n",
      " 12  review_headline    3998320 non-null  object\n",
      " 13  review_body        3998267 non-null  object\n",
      " 14  review_date        3998207 non-null  object\n",
      "dtypes: int64(5), object(10)\n",
      "memory usage: 457.6+ MB\n"
     ]
    }
   ],
   "source": [
    "# Enter your code here\n",
    "df.info(null_counts=True)"
   ]
  },
  {
   "cell_type": "code",
   "execution_count": 11,
   "metadata": {},
   "outputs": [],
   "source": [
    "# Enter your Answer here\n",
    "\n",
    "# review_headline    \n",
    "# review_body        \n",
    "# review_date"
   ]
  },
  {
   "cell_type": "markdown",
   "metadata": {},
   "source": [
    "**Question:** Are there any duplicate rows? If yes, how many are there?  \n",
    "\n",
    "**Hint**: Filter the dataframe using `dataframe.duplicated()` ([documentation](https://pandas.pydata.org/pandas-docs/stable/reference/api/pandas.DataFrame.duplicated.html#pandas.DataFrame.duplicated)) and check the length of the new dataframe."
   ]
  },
  {
   "cell_type": "code",
   "execution_count": 12,
   "metadata": {},
   "outputs": [
    {
     "data": {
      "text/plain": [
       "(0, 15)"
      ]
     },
     "execution_count": 12,
     "metadata": {},
     "output_type": "execute_result"
    }
   ],
   "source": [
    "duplicates = df.duplicated()# Enter your code here\n",
    "\n",
    "# Enter your code here\n",
    "df[duplicates].shape"
   ]
  },
  {
   "cell_type": "code",
   "execution_count": 13,
   "metadata": {},
   "outputs": [],
   "source": [
    "# Enter your Answer here\n",
    "# 0"
   ]
  },
  {
   "cell_type": "markdown",
   "metadata": {},
   "source": [
    "### Data preprocessing\n",
    "\n",
    "Now it's time to decide what features you are going to use and how you are going to prepare them for your model. For this example, limit yourself to `customer_id`, `product_id`, `product_title`, and `star_rating`. Including additional features in the recommendation system could be beneficial but would require substantial processing (particularly the text data), which would be beyond the scope of this notebook.\n",
    "\n",
    "Reduce this dataset and only use the columns mentioned.  \n",
    "\n",
    "**Hint**: Select multiple columns as a dataframe by passing the columns as a list. For example: `df[['column_name 1', 'column_name 2']]`"
   ]
  },
  {
   "cell_type": "code",
   "execution_count": 14,
   "metadata": {},
   "outputs": [],
   "source": [
    "df_reduced = df[['customer_id', 'product_id', 'product_title', 'star_rating']]# Enter your code here"
   ]
  },
  {
   "cell_type": "markdown",
   "metadata": {},
   "source": [
    "Check again if you have duplicates after reducing the dataset. "
   ]
  },
  {
   "cell_type": "code",
   "execution_count": 15,
   "metadata": {},
   "outputs": [
    {
     "data": {
      "text/plain": [
       "(131, 4)"
      ]
     },
     "execution_count": 15,
     "metadata": {},
     "output_type": "execute_result"
    }
   ],
   "source": [
    "duplicates = df_reduced.duplicated()# Enter your code here\n",
    "\n",
    "# Enter your code here\n",
    "df_reduced[duplicates].shape"
   ]
  },
  {
   "cell_type": "code",
   "execution_count": 16,
   "metadata": {},
   "outputs": [],
   "source": [
    "# Enter your Answer here\n",
    "# 131 rows are duplicates"
   ]
  },
  {
   "cell_type": "markdown",
   "metadata": {},
   "source": [
    "**Question:** Why do you have duplicates in your dataset now? What changed after you reduced the dataset? Review the first 20 lines of the duplicates. \n",
    "\n",
    "**Hint**: Use the `pandas.head(<number>)` function to print the rows."
   ]
  },
  {
   "cell_type": "code",
   "execution_count": 17,
   "metadata": {},
   "outputs": [
    {
     "data": {
      "text/html": [
       "<div>\n",
       "<style scoped>\n",
       "    .dataframe tbody tr th:only-of-type {\n",
       "        vertical-align: middle;\n",
       "    }\n",
       "\n",
       "    .dataframe tbody tr th {\n",
       "        vertical-align: top;\n",
       "    }\n",
       "\n",
       "    .dataframe thead th {\n",
       "        text-align: right;\n",
       "    }\n",
       "</style>\n",
       "<table border=\"1\" class=\"dataframe\">\n",
       "  <thead>\n",
       "    <tr style=\"text-align: right;\">\n",
       "      <th></th>\n",
       "      <th>customer_id</th>\n",
       "      <th>product_id</th>\n",
       "      <th>product_title</th>\n",
       "      <th>star_rating</th>\n",
       "    </tr>\n",
       "  </thead>\n",
       "  <tbody>\n",
       "    <tr>\n",
       "      <th>565194</th>\n",
       "      <td>41454255</td>\n",
       "      <td>B00Y2UYRFS</td>\n",
       "      <td>unseen 2</td>\n",
       "      <td>1</td>\n",
       "    </tr>\n",
       "    <tr>\n",
       "      <th>594322</th>\n",
       "      <td>17570065</td>\n",
       "      <td>B00R3EEO2G</td>\n",
       "      <td>The Maze Runner</td>\n",
       "      <td>2</td>\n",
       "    </tr>\n",
       "    <tr>\n",
       "      <th>611264</th>\n",
       "      <td>15703996</td>\n",
       "      <td>B00I3MQNWG</td>\n",
       "      <td>Bosch Season 1</td>\n",
       "      <td>5</td>\n",
       "    </tr>\n",
       "    <tr>\n",
       "      <th>612471</th>\n",
       "      <td>28456429</td>\n",
       "      <td>B008Y6W7J4</td>\n",
       "      <td>Rabbit Hole</td>\n",
       "      <td>5</td>\n",
       "    </tr>\n",
       "    <tr>\n",
       "      <th>613791</th>\n",
       "      <td>52388381</td>\n",
       "      <td>B00YORA25I</td>\n",
       "      <td>McFarland, USA (Theatrical)</td>\n",
       "      <td>5</td>\n",
       "    </tr>\n",
       "    <tr>\n",
       "      <th>685156</th>\n",
       "      <td>31828958</td>\n",
       "      <td>B00TT53YSW</td>\n",
       "      <td>Bates Motel, Season 3</td>\n",
       "      <td>5</td>\n",
       "    </tr>\n",
       "    <tr>\n",
       "      <th>1204110</th>\n",
       "      <td>19462</td>\n",
       "      <td>B00QWUL4AW</td>\n",
       "      <td>Exodus: Gods and Kings</td>\n",
       "      <td>5</td>\n",
       "    </tr>\n",
       "    <tr>\n",
       "      <th>1564816</th>\n",
       "      <td>24892653</td>\n",
       "      <td>B00L2GPYKW</td>\n",
       "      <td>The Escape Artist Season 1</td>\n",
       "      <td>5</td>\n",
       "    </tr>\n",
       "    <tr>\n",
       "      <th>1601662</th>\n",
       "      <td>44513234</td>\n",
       "      <td>B00NY4UIKG</td>\n",
       "      <td>The Equalizer</td>\n",
       "      <td>5</td>\n",
       "    </tr>\n",
       "    <tr>\n",
       "      <th>1616429</th>\n",
       "      <td>43345475</td>\n",
       "      <td>B00P5968FC</td>\n",
       "      <td>The Babadook</td>\n",
       "      <td>3</td>\n",
       "    </tr>\n",
       "    <tr>\n",
       "      <th>1616584</th>\n",
       "      <td>20779855</td>\n",
       "      <td>B00O99GXPE</td>\n",
       "      <td>Max Lucado's The Christmas Candle</td>\n",
       "      <td>5</td>\n",
       "    </tr>\n",
       "    <tr>\n",
       "      <th>1617034</th>\n",
       "      <td>52861226</td>\n",
       "      <td>B00Q4FMCDS</td>\n",
       "      <td>The November Man</td>\n",
       "      <td>2</td>\n",
       "    </tr>\n",
       "    <tr>\n",
       "      <th>1618497</th>\n",
       "      <td>735926</td>\n",
       "      <td>B00IQBE0BU</td>\n",
       "      <td>Once Upon A Forest</td>\n",
       "      <td>3</td>\n",
       "    </tr>\n",
       "    <tr>\n",
       "      <th>1618598</th>\n",
       "      <td>3283400</td>\n",
       "      <td>B000NPQ0II</td>\n",
       "      <td>Creator</td>\n",
       "      <td>4</td>\n",
       "    </tr>\n",
       "    <tr>\n",
       "      <th>1618822</th>\n",
       "      <td>50380731</td>\n",
       "      <td>B00C58TGQ4</td>\n",
       "      <td>Hemingway &amp; Gellhorn</td>\n",
       "      <td>3</td>\n",
       "    </tr>\n",
       "    <tr>\n",
       "      <th>1618896</th>\n",
       "      <td>5465295</td>\n",
       "      <td>B009AP2B9Y</td>\n",
       "      <td>Kickin' It Volume 3</td>\n",
       "      <td>5</td>\n",
       "    </tr>\n",
       "    <tr>\n",
       "      <th>1619053</th>\n",
       "      <td>39849456</td>\n",
       "      <td>B0035LN5YO</td>\n",
       "      <td>Gallipoli</td>\n",
       "      <td>5</td>\n",
       "    </tr>\n",
       "    <tr>\n",
       "      <th>1620635</th>\n",
       "      <td>22158610</td>\n",
       "      <td>B00M0HXNPK</td>\n",
       "      <td>Transcendence (2014)</td>\n",
       "      <td>5</td>\n",
       "    </tr>\n",
       "    <tr>\n",
       "      <th>1621358</th>\n",
       "      <td>46543213</td>\n",
       "      <td>B005OPTSIQ</td>\n",
       "      <td>Workaholics Season 2</td>\n",
       "      <td>5</td>\n",
       "    </tr>\n",
       "    <tr>\n",
       "      <th>1621751</th>\n",
       "      <td>25315183</td>\n",
       "      <td>B00NEFWXNK</td>\n",
       "      <td>Arrow: Season 3</td>\n",
       "      <td>5</td>\n",
       "    </tr>\n",
       "  </tbody>\n",
       "</table>\n",
       "</div>"
      ],
      "text/plain": [
       "         customer_id  product_id                      product_title  \\\n",
       "565194      41454255  B00Y2UYRFS                           unseen 2   \n",
       "594322      17570065  B00R3EEO2G                    The Maze Runner   \n",
       "611264      15703996  B00I3MQNWG                     Bosch Season 1   \n",
       "612471      28456429  B008Y6W7J4                        Rabbit Hole   \n",
       "613791      52388381  B00YORA25I        McFarland, USA (Theatrical)   \n",
       "685156      31828958  B00TT53YSW              Bates Motel, Season 3   \n",
       "1204110        19462  B00QWUL4AW             Exodus: Gods and Kings   \n",
       "1564816     24892653  B00L2GPYKW         The Escape Artist Season 1   \n",
       "1601662     44513234  B00NY4UIKG                      The Equalizer   \n",
       "1616429     43345475  B00P5968FC                       The Babadook   \n",
       "1616584     20779855  B00O99GXPE  Max Lucado's The Christmas Candle   \n",
       "1617034     52861226  B00Q4FMCDS                   The November Man   \n",
       "1618497       735926  B00IQBE0BU                 Once Upon A Forest   \n",
       "1618598      3283400  B000NPQ0II                            Creator   \n",
       "1618822     50380731  B00C58TGQ4               Hemingway & Gellhorn   \n",
       "1618896      5465295  B009AP2B9Y                Kickin' It Volume 3   \n",
       "1619053     39849456  B0035LN5YO                          Gallipoli   \n",
       "1620635     22158610  B00M0HXNPK               Transcendence (2014)   \n",
       "1621358     46543213  B005OPTSIQ               Workaholics Season 2   \n",
       "1621751     25315183  B00NEFWXNK                    Arrow: Season 3   \n",
       "\n",
       "         star_rating  \n",
       "565194             1  \n",
       "594322             2  \n",
       "611264             5  \n",
       "612471             5  \n",
       "613791             5  \n",
       "685156             5  \n",
       "1204110            5  \n",
       "1564816            5  \n",
       "1601662            5  \n",
       "1616429            3  \n",
       "1616584            5  \n",
       "1617034            2  \n",
       "1618497            3  \n",
       "1618598            4  \n",
       "1618822            3  \n",
       "1618896            5  \n",
       "1619053            5  \n",
       "1620635            5  \n",
       "1621358            5  \n",
       "1621751            5  "
      ]
     },
     "execution_count": 17,
     "metadata": {},
     "output_type": "execute_result"
    }
   ],
   "source": [
    "# Enter your code here\n",
    "df_reduced[duplicates].head(20)"
   ]
  },
  {
   "cell_type": "markdown",
   "metadata": {},
   "source": [
    "**Hint:** Take a look at the first two elements in the duplicates dataframe, and query the original dataframe df to see what the data looks like. You can use the `query` function ([documentation](https://pandas.pydata.org/pandas-docs/stable/reference/api/pandas.DataFrame.query.html)).\n",
    "\n",
    "For example:\n",
    "\n",
    "```\n",
    "df_eg = pd.DataFrame({\n",
    "            'A': [1,2,3,4],\n",
    "            'B': [\n",
    "        })\n",
    "df_eg.query('A > 1 & B > 0')\n",
    "```"
   ]
  },
  {
   "cell_type": "code",
   "execution_count": 18,
   "metadata": {},
   "outputs": [
    {
     "data": {
      "text/html": [
       "<div>\n",
       "<style scoped>\n",
       "    .dataframe tbody tr th:only-of-type {\n",
       "        vertical-align: middle;\n",
       "    }\n",
       "\n",
       "    .dataframe tbody tr th {\n",
       "        vertical-align: top;\n",
       "    }\n",
       "\n",
       "    .dataframe thead th {\n",
       "        text-align: right;\n",
       "    }\n",
       "</style>\n",
       "<table border=\"1\" class=\"dataframe\">\n",
       "  <thead>\n",
       "    <tr style=\"text-align: right;\">\n",
       "      <th></th>\n",
       "      <th>marketplace</th>\n",
       "      <th>customer_id</th>\n",
       "      <th>review_id</th>\n",
       "      <th>product_id</th>\n",
       "      <th>product_parent</th>\n",
       "      <th>product_title</th>\n",
       "      <th>product_category</th>\n",
       "      <th>star_rating</th>\n",
       "      <th>helpful_votes</th>\n",
       "      <th>total_votes</th>\n",
       "      <th>vine</th>\n",
       "      <th>verified_purchase</th>\n",
       "      <th>review_headline</th>\n",
       "      <th>review_body</th>\n",
       "      <th>review_date</th>\n",
       "    </tr>\n",
       "  </thead>\n",
       "  <tbody>\n",
       "    <tr>\n",
       "      <th>541362</th>\n",
       "      <td>US</td>\n",
       "      <td>41454255</td>\n",
       "      <td>R2F1FQI9DGBJVT</td>\n",
       "      <td>B00Y2UYRFS</td>\n",
       "      <td>542345963</td>\n",
       "      <td>unseen 2</td>\n",
       "      <td>Digital_Video_Download</td>\n",
       "      <td>1</td>\n",
       "      <td>3</td>\n",
       "      <td>3</td>\n",
       "      <td>N</td>\n",
       "      <td>Y</td>\n",
       "      <td>Do Not Waste Any Money On This Horrible Attemp...</td>\n",
       "      <td>Lorenzo Lamas has hit the bottom of the barrel...</td>\n",
       "      <td>2015-06-16</td>\n",
       "    </tr>\n",
       "    <tr>\n",
       "      <th>565194</th>\n",
       "      <td>US</td>\n",
       "      <td>41454255</td>\n",
       "      <td>R2WZRCYMUC7LLV</td>\n",
       "      <td>B00Y2UYRFS</td>\n",
       "      <td>542345963</td>\n",
       "      <td>unseen 2</td>\n",
       "      <td>Digital_Video_Download</td>\n",
       "      <td>1</td>\n",
       "      <td>1</td>\n",
       "      <td>1</td>\n",
       "      <td>N</td>\n",
       "      <td>Y</td>\n",
       "      <td>Do NOT spend money on this movie!</td>\n",
       "      <td>Lorenzo Lamas has hit the bottom of the barrel...</td>\n",
       "      <td>2015-06-12</td>\n",
       "    </tr>\n",
       "  </tbody>\n",
       "</table>\n",
       "</div>"
      ],
      "text/plain": [
       "       marketplace  customer_id       review_id  product_id  product_parent  \\\n",
       "541362          US     41454255  R2F1FQI9DGBJVT  B00Y2UYRFS       542345963   \n",
       "565194          US     41454255  R2WZRCYMUC7LLV  B00Y2UYRFS       542345963   \n",
       "\n",
       "       product_title        product_category  star_rating  helpful_votes  \\\n",
       "541362      unseen 2  Digital_Video_Download            1              3   \n",
       "565194      unseen 2  Digital_Video_Download            1              1   \n",
       "\n",
       "        total_votes vine verified_purchase  \\\n",
       "541362            3    N                 Y   \n",
       "565194            1    N                 Y   \n",
       "\n",
       "                                          review_headline  \\\n",
       "541362  Do Not Waste Any Money On This Horrible Attemp...   \n",
       "565194                  Do NOT spend money on this movie!   \n",
       "\n",
       "                                              review_body review_date  \n",
       "541362  Lorenzo Lamas has hit the bottom of the barrel...  2015-06-16  \n",
       "565194  Lorenzo Lamas has hit the bottom of the barrel...  2015-06-12  "
      ]
     },
     "execution_count": 18,
     "metadata": {},
     "output_type": "execute_result"
    }
   ],
   "source": [
    "# Enter your code here\n",
    "df.query(\"customer_id ==41454255 & product_id=='B00Y2UYRFS'\")"
   ]
  },
  {
   "cell_type": "code",
   "execution_count": 19,
   "metadata": {},
   "outputs": [
    {
     "data": {
      "text/plain": [
       "(3998345, 4)"
      ]
     },
     "execution_count": 19,
     "metadata": {},
     "output_type": "execute_result"
    }
   ],
   "source": [
    "# Enter your Answer here\n",
    "# same guy reviewed on same movie multiple times\n",
    "df_reduced.shape"
   ]
  },
  {
   "cell_type": "markdown",
   "metadata": {},
   "source": [
    "Before continuing, remove the duplicate rows.\n",
    "\n",
    "**Hint**: Use the `~` operator to select all the rows that aren't duplicated. For example:\n",
    "    \n",
    "```\n",
    "df_eg = pd.DataFrame({\n",
    "            'A': [1,2,3,4],\n",
    "            'B': [2,0,5,2]\n",
    "        })\n",
    "df_eg[~(df_eg['B'] > 0)]\n",
    "```"
   ]
  },
  {
   "cell_type": "code",
   "execution_count": 20,
   "metadata": {},
   "outputs": [
    {
     "name": "stdout",
     "output_type": "stream",
     "text": [
      "(3998214, 4)\n"
     ]
    }
   ],
   "source": [
    "df_reduced = df_reduced[-df_reduced.duplicated()]# Enter your code here\n",
    "print(df_reduced.shape)"
   ]
  },
  {
   "cell_type": "markdown",
   "metadata": {},
   "source": [
    "### Visualize some of the rows in the dataset\n",
    "If you haven't done so in the above, you can use the space below to further visualize some of your data. Look specifically at the distribution of features like `star_rating`, `customer_id`, and `product_id`.\n",
    "\n",
    "**Specific questions to consider**\n",
    "\n",
    "1. After looking at the distributions of features, to what extent might those features help your model? Is there anything you can deduce from those distributions that might be helpful in better understanding your data? \n",
    "\n",
    "2. Should you use all the data? What features should you use?\n",
    "\n",
    "3. What month has the highest count of user ratings?\n",
    "\n",
    "Use the cells below to visualize your data and answer these and other questions that might be of interest to you. Insert and delete cells where needed.\n",
    "\n",
    "#### <span style=\"color: blue;\">Project presentation: Include a summary of your answers to these and similar questions in your project presentations.</span>"
   ]
  },
  {
   "cell_type": "markdown",
   "metadata": {},
   "source": [
    "Use `sns.barplot` ([documentation](https://seaborn.pydata.org/generated/seaborn.barplot.html)) to plot the `star_rating` density and distribution."
   ]
  },
  {
   "cell_type": "code",
   "execution_count": 21,
   "metadata": {},
   "outputs": [
    {
     "data": {
      "text/html": [
       "<div>\n",
       "<style scoped>\n",
       "    .dataframe tbody tr th:only-of-type {\n",
       "        vertical-align: middle;\n",
       "    }\n",
       "\n",
       "    .dataframe tbody tr th {\n",
       "        vertical-align: top;\n",
       "    }\n",
       "\n",
       "    .dataframe thead th {\n",
       "        text-align: right;\n",
       "    }\n",
       "</style>\n",
       "<table border=\"1\" class=\"dataframe\">\n",
       "  <thead>\n",
       "    <tr style=\"text-align: right;\">\n",
       "      <th></th>\n",
       "      <th>index</th>\n",
       "      <th>star_rating</th>\n",
       "    </tr>\n",
       "  </thead>\n",
       "  <tbody>\n",
       "    <tr>\n",
       "      <th>0</th>\n",
       "      <td>5</td>\n",
       "      <td>2410533</td>\n",
       "    </tr>\n",
       "    <tr>\n",
       "      <th>1</th>\n",
       "      <td>4</td>\n",
       "      <td>756423</td>\n",
       "    </tr>\n",
       "    <tr>\n",
       "      <th>2</th>\n",
       "      <td>3</td>\n",
       "      <td>345891</td>\n",
       "    </tr>\n",
       "    <tr>\n",
       "      <th>3</th>\n",
       "      <td>1</td>\n",
       "      <td>289731</td>\n",
       "    </tr>\n",
       "    <tr>\n",
       "      <th>4</th>\n",
       "      <td>2</td>\n",
       "      <td>195767</td>\n",
       "    </tr>\n",
       "  </tbody>\n",
       "</table>\n",
       "</div>"
      ],
      "text/plain": [
       "   index  star_rating\n",
       "0      5      2410533\n",
       "1      4       756423\n",
       "2      3       345891\n",
       "3      1       289731\n",
       "4      2       195767"
      ]
     },
     "execution_count": 21,
     "metadata": {},
     "output_type": "execute_result"
    },
    {
     "data": {
      "text/plain": [
       "<matplotlib.axes._subplots.AxesSubplot at 0x7fd83b5f1518>"
      ]
     },
     "execution_count": 21,
     "metadata": {},
     "output_type": "execute_result"
    },
    {
     "data": {
      "image/png": "[encoded data removed]",
      "text/plain": [
       "<Figure size 432x288 with 1 Axes>"
      ]
     },
     "metadata": {
      "needs_background": "light"
     },
     "output_type": "display_data"
    }
   ],
   "source": [
    "df['star_rating'].value_counts().reset_index()\n",
    "sns.barplot(\n",
    "    x='index', \n",
    "    y='star_rating', \n",
    "    data=_,  # The underscore symbol in Python is used to store the output of the last operation\n",
    "    palette='GnBu_d'\n",
    ")"
   ]
  },
  {
   "cell_type": "markdown",
   "metadata": {},
   "source": [
    "**Question:** What month contains the highest count of user ratings?  \n",
    "\n",
    "**Hint**:  \n",
    "1. Use `pd.to_datetime` to convert the `review_date` column to a datetime column.  \n",
    "2. Use the month from the `review_date` column. You can access it for a datetime column using `<column_name>.dt.month`.  \n",
    "3. Use the `groupby` function using `idxmax`.  "
   ]
  },
  {
   "cell_type": "code",
   "execution_count": 22,
   "metadata": {},
   "outputs": [
    {
     "data": {
      "text/html": [
       "<div>\n",
       "<style scoped>\n",
       "    .dataframe tbody tr th:only-of-type {\n",
       "        vertical-align: middle;\n",
       "    }\n",
       "\n",
       "    .dataframe tbody tr th {\n",
       "        vertical-align: top;\n",
       "    }\n",
       "\n",
       "    .dataframe thead th {\n",
       "        text-align: right;\n",
       "    }\n",
       "</style>\n",
       "<table border=\"1\" class=\"dataframe\">\n",
       "  <thead>\n",
       "    <tr style=\"text-align: right;\">\n",
       "      <th></th>\n",
       "      <th>month</th>\n",
       "      <th>star_rating</th>\n",
       "    </tr>\n",
       "  </thead>\n",
       "  <tbody>\n",
       "    <tr>\n",
       "      <th>0</th>\n",
       "      <td>1.0</td>\n",
       "      <td>309083</td>\n",
       "    </tr>\n",
       "    <tr>\n",
       "      <th>1</th>\n",
       "      <td>2.0</td>\n",
       "      <td>369059</td>\n",
       "    </tr>\n",
       "    <tr>\n",
       "      <th>2</th>\n",
       "      <td>3.0</td>\n",
       "      <td>432084</td>\n",
       "    </tr>\n",
       "    <tr>\n",
       "      <th>3</th>\n",
       "      <td>4.0</td>\n",
       "      <td>363611</td>\n",
       "    </tr>\n",
       "    <tr>\n",
       "      <th>4</th>\n",
       "      <td>5.0</td>\n",
       "      <td>339285</td>\n",
       "    </tr>\n",
       "    <tr>\n",
       "      <th>5</th>\n",
       "      <td>6.0</td>\n",
       "      <td>328114</td>\n",
       "    </tr>\n",
       "    <tr>\n",
       "      <th>6</th>\n",
       "      <td>7.0</td>\n",
       "      <td>417844</td>\n",
       "    </tr>\n",
       "    <tr>\n",
       "      <th>7</th>\n",
       "      <td>8.0</td>\n",
       "      <td>464912</td>\n",
       "    </tr>\n",
       "    <tr>\n",
       "      <th>8</th>\n",
       "      <td>9.0</td>\n",
       "      <td>206453</td>\n",
       "    </tr>\n",
       "    <tr>\n",
       "      <th>9</th>\n",
       "      <td>10.0</td>\n",
       "      <td>218583</td>\n",
       "    </tr>\n",
       "    <tr>\n",
       "      <th>10</th>\n",
       "      <td>11.0</td>\n",
       "      <td>219316</td>\n",
       "    </tr>\n",
       "    <tr>\n",
       "      <th>11</th>\n",
       "      <td>12.0</td>\n",
       "      <td>329863</td>\n",
       "    </tr>\n",
       "  </tbody>\n",
       "</table>\n",
       "</div>"
      ],
      "text/plain": [
       "    month  star_rating\n",
       "0     1.0       309083\n",
       "1     2.0       369059\n",
       "2     3.0       432084\n",
       "3     4.0       363611\n",
       "4     5.0       339285\n",
       "5     6.0       328114\n",
       "6     7.0       417844\n",
       "7     8.0       464912\n",
       "8     9.0       206453\n",
       "9    10.0       218583\n",
       "10   11.0       219316\n",
       "11   12.0       329863"
      ]
     },
     "execution_count": 22,
     "metadata": {},
     "output_type": "execute_result"
    },
    {
     "data": {
      "text/plain": [
       "<matplotlib.axes._subplots.AxesSubplot at 0x7fd7eedcdeb8>"
      ]
     },
     "execution_count": 22,
     "metadata": {},
     "output_type": "execute_result"
    },
    {
     "data": {
      "image/png": "[encoded data removed]",
      "text/plain": [
       "<Figure size 432x288 with 1 Axes>"
      ]
     },
     "metadata": {
      "needs_background": "light"
     },
     "output_type": "display_data"
    }
   ],
   "source": [
    "# Convert the review date to a datetime type. Here you will use original dataframe 'df'\n",
    "df['review_date'] = pd.to_datetime(df['review_date'])# Enter your code here\n",
    "\n",
    "df['month'] = df['review_date'].dt.month\n",
    "# Count the number of ratings by month\n",
    "df.groupby(['month']).star_rating.count().reset_index()\n",
    "\n",
    "# Use the bar plot again to plot the ratings(y) vs. review_date(x)\n",
    "sns.barplot(x='month', y='star_rating', data=_, palette='GnBu_d') # Enter your code here"
   ]
  },
  {
   "cell_type": "code",
   "execution_count": 23,
   "metadata": {},
   "outputs": [
    {
     "name": "stdout",
     "output_type": "stream",
     "text": [
      "The month with the most reviews is: 8.0\n"
     ]
    }
   ],
   "source": [
    "# Use the Pandas groupby function on month to get the star rating count\n",
    "max_month = df.groupby(['month']).star_rating.count().idxmax() # Enter your code here\n",
    "print(f'The month with the most reviews is: {max_month}')"
   ]
  },
  {
   "cell_type": "code",
   "execution_count": 24,
   "metadata": {},
   "outputs": [],
   "source": [
    "# Enter your Answer here\n",
    "# August"
   ]
  },
  {
   "cell_type": "markdown",
   "metadata": {},
   "source": [
    "**Bonus question (optional):** Which years have the most and least reviews?"
   ]
  },
  {
   "cell_type": "code",
   "execution_count": 25,
   "metadata": {},
   "outputs": [
    {
     "data": {
      "text/html": [
       "<div>\n",
       "<style scoped>\n",
       "    .dataframe tbody tr th:only-of-type {\n",
       "        vertical-align: middle;\n",
       "    }\n",
       "\n",
       "    .dataframe tbody tr th {\n",
       "        vertical-align: top;\n",
       "    }\n",
       "\n",
       "    .dataframe thead th {\n",
       "        text-align: right;\n",
       "    }\n",
       "</style>\n",
       "<table border=\"1\" class=\"dataframe\">\n",
       "  <thead>\n",
       "    <tr style=\"text-align: right;\">\n",
       "      <th></th>\n",
       "      <th>review_date</th>\n",
       "      <th>star_rating</th>\n",
       "    </tr>\n",
       "  </thead>\n",
       "  <tbody>\n",
       "    <tr>\n",
       "      <th>0</th>\n",
       "      <td>2000.0</td>\n",
       "      <td>1</td>\n",
       "    </tr>\n",
       "    <tr>\n",
       "      <th>1</th>\n",
       "      <td>2001.0</td>\n",
       "      <td>1</td>\n",
       "    </tr>\n",
       "    <tr>\n",
       "      <th>2</th>\n",
       "      <td>2002.0</td>\n",
       "      <td>5</td>\n",
       "    </tr>\n",
       "    <tr>\n",
       "      <th>3</th>\n",
       "      <td>2003.0</td>\n",
       "      <td>4</td>\n",
       "    </tr>\n",
       "    <tr>\n",
       "      <th>4</th>\n",
       "      <td>2004.0</td>\n",
       "      <td>6</td>\n",
       "    </tr>\n",
       "    <tr>\n",
       "      <th>5</th>\n",
       "      <td>2005.0</td>\n",
       "      <td>11</td>\n",
       "    </tr>\n",
       "    <tr>\n",
       "      <th>6</th>\n",
       "      <td>2006.0</td>\n",
       "      <td>185</td>\n",
       "    </tr>\n",
       "    <tr>\n",
       "      <th>7</th>\n",
       "      <td>2007.0</td>\n",
       "      <td>2597</td>\n",
       "    </tr>\n",
       "    <tr>\n",
       "      <th>8</th>\n",
       "      <td>2008.0</td>\n",
       "      <td>3079</td>\n",
       "    </tr>\n",
       "    <tr>\n",
       "      <th>9</th>\n",
       "      <td>2009.0</td>\n",
       "      <td>3262</td>\n",
       "    </tr>\n",
       "    <tr>\n",
       "      <th>10</th>\n",
       "      <td>2010.0</td>\n",
       "      <td>6091</td>\n",
       "    </tr>\n",
       "    <tr>\n",
       "      <th>11</th>\n",
       "      <td>2011.0</td>\n",
       "      <td>20890</td>\n",
       "    </tr>\n",
       "    <tr>\n",
       "      <th>12</th>\n",
       "      <td>2012.0</td>\n",
       "      <td>142466</td>\n",
       "    </tr>\n",
       "    <tr>\n",
       "      <th>13</th>\n",
       "      <td>2013.0</td>\n",
       "      <td>721748</td>\n",
       "    </tr>\n",
       "    <tr>\n",
       "      <th>14</th>\n",
       "      <td>2014.0</td>\n",
       "      <td>1543049</td>\n",
       "    </tr>\n",
       "    <tr>\n",
       "      <th>15</th>\n",
       "      <td>2015.0</td>\n",
       "      <td>1554812</td>\n",
       "    </tr>\n",
       "  </tbody>\n",
       "</table>\n",
       "</div>"
      ],
      "text/plain": [
       "    review_date  star_rating\n",
       "0        2000.0            1\n",
       "1        2001.0            1\n",
       "2        2002.0            5\n",
       "3        2003.0            4\n",
       "4        2004.0            6\n",
       "5        2005.0           11\n",
       "6        2006.0          185\n",
       "7        2007.0         2597\n",
       "8        2008.0         3079\n",
       "9        2009.0         3262\n",
       "10       2010.0         6091\n",
       "11       2011.0        20890\n",
       "12       2012.0       142466\n",
       "13       2013.0       721748\n",
       "14       2014.0      1543049\n",
       "15       2015.0      1554812"
      ]
     },
     "execution_count": 25,
     "metadata": {},
     "output_type": "execute_result"
    },
    {
     "data": {
      "text/plain": [
       "<matplotlib.axes._subplots.AxesSubplot at 0x7fd83a552ac8>"
      ]
     },
     "execution_count": 25,
     "metadata": {},
     "output_type": "execute_result"
    },
    {
     "data": {
      "image/png": "[encoded data removed]",
      "text/plain": [
       "<Figure size 720x360 with 1 Axes>"
      ]
     },
     "metadata": {
      "needs_background": "light"
     },
     "output_type": "display_data"
    }
   ],
   "source": [
    "# Use the Pandas groupby function on year and get the star rating count\n",
    "df.groupby(df.review_date.dt.year).star_rating.count().reset_index()\n",
    "\n",
    "fig = plt.gcf()\n",
    "fig.set_size_inches(10, 5)\n",
    "\n",
    "# Use the bar plot to plot star_rating(y) vs. review_date(x)\n",
    "sns.barplot(x='review_date', y='star_rating', data=_, palette='GnBu_d')"
   ]
  },
  {
   "cell_type": "code",
   "execution_count": 26,
   "metadata": {},
   "outputs": [],
   "source": [
    "# Enter your Answer here\n",
    "# 2015"
   ]
  },
  {
   "cell_type": "markdown",
   "metadata": {},
   "source": [
    "### Cleaning data"
   ]
  },
  {
   "cell_type": "markdown",
   "metadata": {},
   "source": [
    "**Question**: How heterogeneous are the number of reviews per customer and reviews per video? Use quantiles to find out.\n",
    "\n",
    "**Hint**: Use `<dataframe>['columns_name'].value_counts()` for the customers and products dataframe, and use `<dataframe>.quantile(<list>)` to find the relationship."
   ]
  },
  {
   "cell_type": "code",
   "execution_count": 27,
   "metadata": {},
   "outputs": [
    {
     "name": "stdout",
     "output_type": "stream",
     "text": [
      "customers\n",
      " 0.000       1.0\n",
      "0.010       1.0\n",
      "0.020       1.0\n",
      "0.030       1.0\n",
      "0.040       1.0\n",
      "0.050       1.0\n",
      "0.100       1.0\n",
      "0.250       1.0\n",
      "0.500       1.0\n",
      "0.750       2.0\n",
      "0.900       4.0\n",
      "0.950       5.0\n",
      "0.960       6.0\n",
      "0.970       7.0\n",
      "0.980       9.0\n",
      "0.990      13.0\n",
      "0.995      18.0\n",
      "0.999      37.0\n",
      "1.000    2704.0\n",
      "Name: customer_id, dtype: float64\n",
      "products\n",
      " 0.000        1.000\n",
      "0.010        1.000\n",
      "0.020        1.000\n",
      "0.030        1.000\n",
      "0.040        1.000\n",
      "0.050        1.000\n",
      "0.100        1.000\n",
      "0.250        1.000\n",
      "0.500        3.000\n",
      "0.750        9.000\n",
      "0.900       31.000\n",
      "0.950       73.000\n",
      "0.960       95.000\n",
      "0.970      130.000\n",
      "0.980      199.000\n",
      "0.990      386.670\n",
      "0.995      699.000\n",
      "0.999     1993.901\n",
      "1.000    32790.000\n",
      "Name: product_id, dtype: float64\n"
     ]
    }
   ],
   "source": [
    "customers = df['customer_id'].value_counts()# Enter your code here\n",
    "products = df['product_id'].value_counts()# Enter your code here\n",
    "\n",
    "quantiles = [0, 0.01, 0.02, 0.03, 0.04, 0.05, 0.1, 0.25, 0.5, \n",
    "             0.75, 0.9, 0.95, 0.96, 0.97, 0.98, 0.99, 0.995, \n",
    "             0.999, 1]\n",
    "print('customers\\n', customers.quantile(quantiles)) # Enter your code here\n",
    "print('products\\n', products.quantile(quantiles)) # Enter your code here"
   ]
  },
  {
   "cell_type": "code",
   "execution_count": 28,
   "metadata": {},
   "outputs": [],
   "source": [
    "# Enter your Answer here\n",
    "# very few people rate multiple times.  Very few movies got more than 10 review."
   ]
  },
  {
   "cell_type": "markdown",
   "metadata": {},
   "source": [
    "Filter out this long tail. Select the customers that have rated 18 or more videos and the products that have more than 95 reviews. "
   ]
  },
  {
   "cell_type": "code",
   "execution_count": 29,
   "metadata": {},
   "outputs": [],
   "source": [
    "customers1 = customers[customers >= 18]\n",
    "products1 = products[products >= 95]\n",
    "\n",
    "# Use the Pandas merge function to merge the customer1 and products1 with the original df_reduced dataset\n",
    "reduced_df = (\n",
    "            df_reduced.merge(pd.DataFrame({'customer_id': customers1.index}))\n",
    "                      .merge(pd.DataFrame({'product_id': products1.index}))\n",
    "            )# Enter your code here"
   ]
  },
  {
   "cell_type": "markdown",
   "metadata": {},
   "source": [
    "**Question:** What is the shape of `customers1`, `products1`, and the new dataframe reduced_df?  \n",
    "\n",
    "**Note**: Use f-strings for this:\n",
    "```\n",
    "x= 3\n",
    "print(f'X = {x}')\n",
    "```"
   ]
  },
  {
   "cell_type": "code",
   "execution_count": 30,
   "metadata": {},
   "outputs": [
    {
     "name": "stdout",
     "output_type": "stream",
     "text": [
      "Number of users is 10538 and number of items is 6683.\n",
      "Length of reduced df is 173500.\n"
     ]
    }
   ],
   "source": [
    "print(f'Number of users is {customers1.shape[0]} and number of items is {products1.shape[0]}.')\n",
    "print(f'Length of reduced df is {reduced_df.shape[0]}.')"
   ]
  },
  {
   "cell_type": "markdown",
   "metadata": {},
   "source": [
    "Print the first 5 columns of the dataframe."
   ]
  },
  {
   "cell_type": "code",
   "execution_count": 31,
   "metadata": {},
   "outputs": [
    {
     "data": {
      "text/html": [
       "<div>\n",
       "<style scoped>\n",
       "    .dataframe tbody tr th:only-of-type {\n",
       "        vertical-align: middle;\n",
       "    }\n",
       "\n",
       "    .dataframe tbody tr th {\n",
       "        vertical-align: top;\n",
       "    }\n",
       "\n",
       "    .dataframe thead th {\n",
       "        text-align: right;\n",
       "    }\n",
       "</style>\n",
       "<table border=\"1\" class=\"dataframe\">\n",
       "  <thead>\n",
       "    <tr style=\"text-align: right;\">\n",
       "      <th></th>\n",
       "      <th>customer_id</th>\n",
       "      <th>product_id</th>\n",
       "      <th>product_title</th>\n",
       "      <th>star_rating</th>\n",
       "    </tr>\n",
       "  </thead>\n",
       "  <tbody>\n",
       "    <tr>\n",
       "      <th>0</th>\n",
       "      <td>11763902</td>\n",
       "      <td>B00PSLQYWE</td>\n",
       "      <td>Downton Abbey Season 5</td>\n",
       "      <td>4</td>\n",
       "    </tr>\n",
       "    <tr>\n",
       "      <th>1</th>\n",
       "      <td>1411480</td>\n",
       "      <td>B00PSLQYWE</td>\n",
       "      <td>Downton Abbey Season 5</td>\n",
       "      <td>5</td>\n",
       "    </tr>\n",
       "    <tr>\n",
       "      <th>2</th>\n",
       "      <td>35303629</td>\n",
       "      <td>B00PSLQYWE</td>\n",
       "      <td>Downton Abbey Season 5</td>\n",
       "      <td>5</td>\n",
       "    </tr>\n",
       "    <tr>\n",
       "      <th>3</th>\n",
       "      <td>21285980</td>\n",
       "      <td>B00PSLQYWE</td>\n",
       "      <td>Downton Abbey Season 5</td>\n",
       "      <td>5</td>\n",
       "    </tr>\n",
       "    <tr>\n",
       "      <th>4</th>\n",
       "      <td>29260449</td>\n",
       "      <td>B00PSLQYWE</td>\n",
       "      <td>Downton Abbey Season 5</td>\n",
       "      <td>5</td>\n",
       "    </tr>\n",
       "  </tbody>\n",
       "</table>\n",
       "</div>"
      ],
      "text/plain": [
       "   customer_id  product_id           product_title  star_rating\n",
       "0     11763902  B00PSLQYWE  Downton Abbey Season 5            4\n",
       "1      1411480  B00PSLQYWE  Downton Abbey Season 5            5\n",
       "2     35303629  B00PSLQYWE  Downton Abbey Season 5            5\n",
       "3     21285980  B00PSLQYWE  Downton Abbey Season 5            5\n",
       "4     29260449  B00PSLQYWE  Downton Abbey Season 5            5"
      ]
     },
     "execution_count": 31,
     "metadata": {},
     "output_type": "execute_result"
    }
   ],
   "source": [
    "# Enter your code here\n",
    "reduced_df.head(5)"
   ]
  },
  {
   "cell_type": "markdown",
   "metadata": {},
   "source": [
    "**Question:** Does `reduced_df` maintain the same ratio of ratings?"
   ]
  },
  {
   "cell_type": "code",
   "execution_count": 32,
   "metadata": {},
   "outputs": [
    {
     "data": {
      "text/html": [
       "<div>\n",
       "<style scoped>\n",
       "    .dataframe tbody tr th:only-of-type {\n",
       "        vertical-align: middle;\n",
       "    }\n",
       "\n",
       "    .dataframe tbody tr th {\n",
       "        vertical-align: top;\n",
       "    }\n",
       "\n",
       "    .dataframe thead th {\n",
       "        text-align: right;\n",
       "    }\n",
       "</style>\n",
       "<table border=\"1\" class=\"dataframe\">\n",
       "  <thead>\n",
       "    <tr style=\"text-align: right;\">\n",
       "      <th></th>\n",
       "      <th>index</th>\n",
       "      <th>star_rating</th>\n",
       "    </tr>\n",
       "  </thead>\n",
       "  <tbody>\n",
       "    <tr>\n",
       "      <th>0</th>\n",
       "      <td>5</td>\n",
       "      <td>86200</td>\n",
       "    </tr>\n",
       "    <tr>\n",
       "      <th>1</th>\n",
       "      <td>4</td>\n",
       "      <td>42668</td>\n",
       "    </tr>\n",
       "    <tr>\n",
       "      <th>2</th>\n",
       "      <td>3</td>\n",
       "      <td>24470</td>\n",
       "    </tr>\n",
       "    <tr>\n",
       "      <th>3</th>\n",
       "      <td>2</td>\n",
       "      <td>10803</td>\n",
       "    </tr>\n",
       "    <tr>\n",
       "      <th>4</th>\n",
       "      <td>1</td>\n",
       "      <td>9359</td>\n",
       "    </tr>\n",
       "  </tbody>\n",
       "</table>\n",
       "</div>"
      ],
      "text/plain": [
       "   index  star_rating\n",
       "0      5        86200\n",
       "1      4        42668\n",
       "2      3        24470\n",
       "3      2        10803\n",
       "4      1         9359"
      ]
     },
     "execution_count": 32,
     "metadata": {},
     "output_type": "execute_result"
    },
    {
     "data": {
      "text/plain": [
       "<matplotlib.axes._subplots.AxesSubplot at 0x7fd838def2e8>"
      ]
     },
     "execution_count": 32,
     "metadata": {},
     "output_type": "execute_result"
    },
    {
     "data": {
      "image/png": "[encoded data removed]",
      "text/plain": [
       "<Figure size 432x288 with 1 Axes>"
      ]
     },
     "metadata": {
      "needs_background": "light"
     },
     "output_type": "display_data"
    }
   ],
   "source": [
    "reduced_df['star_rating'].value_counts().reset_index()# Enter your code here\n",
    "sns.barplot(x='index', y='star_rating', data=_, palette='GnBu_d')"
   ]
  },
  {
   "cell_type": "code",
   "execution_count": 33,
   "metadata": {},
   "outputs": [],
   "source": [
    "# Enter your Answer here\n",
    "# yes"
   ]
  },
  {
   "cell_type": "markdown",
   "metadata": {},
   "source": [
    "Now, recreate the customer and product distributions of count per customer and product.\n",
    "\n",
    "**Hint**: Use the `value_counts()` function on the `customer_id` and `product_id` columns."
   ]
  },
  {
   "cell_type": "code",
   "execution_count": 34,
   "metadata": {},
   "outputs": [
    {
     "data": {
      "text/plain": [
       "Text(0.5, 0.98, 'Distribution of counts per customer and product')"
      ]
     },
     "execution_count": 34,
     "metadata": {},
     "output_type": "execute_result"
    },
    {
     "data": {
      "text/plain": [
       "<matplotlib.axes._subplots.AxesSubplot at 0x7fd838d67080>"
      ]
     },
     "execution_count": 34,
     "metadata": {},
     "output_type": "execute_result"
    },
    {
     "data": {
      "text/plain": [
       "<matplotlib.axes._subplots.AxesSubplot at 0x7fd838d9bbe0>"
      ]
     },
     "execution_count": 34,
     "metadata": {},
     "output_type": "execute_result"
    },
    {
     "data": {
      "image/png": "[encoded data removed]",
      "text/plain": [
       "<Figure size 1440x360 with 2 Axes>"
      ]
     },
     "metadata": {
      "needs_background": "light"
     },
     "output_type": "display_data"
    }
   ],
   "source": [
    "customers = reduced_df['customer_id'].value_counts()\n",
    "products = reduced_df['product_id'].value_counts()\n",
    "\n",
    "fig, axs = plt.subplots(1, 2, figsize=(20, 5))\n",
    "fig.suptitle('Distribution of counts per customer and product')\n",
    "sns.distplot(customers, kde=False, ax=axs[0], color='teal')\n",
    "sns.distplot(products, kde=False, ax=axs[1])"
   ]
  },
  {
   "cell_type": "markdown",
   "metadata": {},
   "source": [
    "Next, number each user and item, giving them their own sequential index. This will allow you to hold the information in a sparse format where the sequential indices indicate the row and column in the ratings matrix.\n",
    "\n",
    "To create the `customer_index` and `product_index`, create a new dataframe with `customer_id` as the index value and a sequential counter/values for the user and item number. Once you are finished creating both indexes, use the Pandas `merge` function to merge `customer_index` with `product_index`.\n",
    "\n",
    "**Hint**: Use the `shape` function to generate the total number of customers and products. Use `np.arange` to generate a list of numbers from 0 to the number of customers and products."
   ]
  },
  {
   "cell_type": "code",
   "execution_count": 35,
   "metadata": {},
   "outputs": [
    {
     "data": {
      "text/html": [
       "<div>\n",
       "<style scoped>\n",
       "    .dataframe tbody tr th:only-of-type {\n",
       "        vertical-align: middle;\n",
       "    }\n",
       "\n",
       "    .dataframe tbody tr th {\n",
       "        vertical-align: top;\n",
       "    }\n",
       "\n",
       "    .dataframe thead th {\n",
       "        text-align: right;\n",
       "    }\n",
       "</style>\n",
       "<table border=\"1\" class=\"dataframe\">\n",
       "  <thead>\n",
       "    <tr style=\"text-align: right;\">\n",
       "      <th></th>\n",
       "      <th>customer_id</th>\n",
       "      <th>product_id</th>\n",
       "      <th>product_title</th>\n",
       "      <th>star_rating</th>\n",
       "      <th>user</th>\n",
       "      <th>item</th>\n",
       "    </tr>\n",
       "  </thead>\n",
       "  <tbody>\n",
       "    <tr>\n",
       "      <th>0</th>\n",
       "      <td>11763902</td>\n",
       "      <td>B00PSLQYWE</td>\n",
       "      <td>Downton Abbey Season 5</td>\n",
       "      <td>4</td>\n",
       "      <td>3065</td>\n",
       "      <td>103</td>\n",
       "    </tr>\n",
       "    <tr>\n",
       "      <th>1</th>\n",
       "      <td>1411480</td>\n",
       "      <td>B00PSLQYWE</td>\n",
       "      <td>Downton Abbey Season 5</td>\n",
       "      <td>5</td>\n",
       "      <td>130</td>\n",
       "      <td>103</td>\n",
       "    </tr>\n",
       "    <tr>\n",
       "      <th>2</th>\n",
       "      <td>35303629</td>\n",
       "      <td>B00PSLQYWE</td>\n",
       "      <td>Downton Abbey Season 5</td>\n",
       "      <td>5</td>\n",
       "      <td>4682</td>\n",
       "      <td>103</td>\n",
       "    </tr>\n",
       "    <tr>\n",
       "      <th>3</th>\n",
       "      <td>21285980</td>\n",
       "      <td>B00PSLQYWE</td>\n",
       "      <td>Downton Abbey Season 5</td>\n",
       "      <td>5</td>\n",
       "      <td>449</td>\n",
       "      <td>103</td>\n",
       "    </tr>\n",
       "    <tr>\n",
       "      <th>4</th>\n",
       "      <td>29260449</td>\n",
       "      <td>B00PSLQYWE</td>\n",
       "      <td>Downton Abbey Season 5</td>\n",
       "      <td>5</td>\n",
       "      <td>131</td>\n",
       "      <td>103</td>\n",
       "    </tr>\n",
       "  </tbody>\n",
       "</table>\n",
       "</div>"
      ],
      "text/plain": [
       "   customer_id  product_id           product_title  star_rating  user  item\n",
       "0     11763902  B00PSLQYWE  Downton Abbey Season 5            4  3065   103\n",
       "1      1411480  B00PSLQYWE  Downton Abbey Season 5            5   130   103\n",
       "2     35303629  B00PSLQYWE  Downton Abbey Season 5            5  4682   103\n",
       "3     21285980  B00PSLQYWE  Downton Abbey Season 5            5   449   103\n",
       "4     29260449  B00PSLQYWE  Downton Abbey Season 5            5   131   103"
      ]
     },
     "execution_count": 35,
     "metadata": {},
     "output_type": "execute_result"
    }
   ],
   "source": [
    "customer_index = pd.DataFrame({'customer_id': customers.index, \n",
    "                               'user': np.arange(len(customers.index))}) # Enter your code here\n",
    "product_index = pd.DataFrame({'product_id': products.index, \n",
    "                              'item': np.arange(len(products.index))}) # Enter your code here\n",
    "\n",
    "reduced_df = reduced_df.merge(customer_index).merge(product_index)# Enter your code here\n",
    "reduced_df.head()"
   ]
  },
  {
   "cell_type": "markdown",
   "metadata": {},
   "source": [
    "Sample answer:\n",
    "<div class=\"output_subarea\"><div>\n",
    "\n",
    "<table class=\"dataframe\" border=\"1\">\n",
    "  <thead>\n",
    "    <tr style=\"text-align: right\">\n",
    "      <th></th>\n",
    "      <th>customer_id</th>\n",
    "      <th>product_id</th>\n",
    "      <th>star_rating</th>\n",
    "      <th>product_title</th>\n",
    "      <th>user</th>\n",
    "      <th>item</th>\n",
    "    </tr>\n",
    "  </thead>\n",
    "  <tbody>\n",
    "    <tr>\n",
    "      <th>0</th>\n",
    "      <td>11763902</td>\n",
    "      <td>B00PSLQYWE</td>\n",
    "      <td>4</td>\n",
    "      <td>Downton Abbey Season 5</td>\n",
    "      <td>3065</td>\n",
    "      <td>103</td>\n",
    "    </tr>\n",
    "    <tr>\n",
    "      <th>1</th>\n",
    "      <td>1411480</td>\n",
    "      <td>B00PSLQYWE</td>\n",
    "      <td>5</td>\n",
    "      <td>Downton Abbey Season 5</td>\n",
    "      <td>130</td>\n",
    "      <td>103</td>\n",
    "    </tr>\n",
    "    <tr>\n",
    "      <th>2</th>\n",
    "      <td>35303629</td>\n",
    "      <td>B00PSLQYWE</td>\n",
    "      <td>5</td>\n",
    "      <td>Downton Abbey Season 5</td>\n",
    "      <td>4683</td>\n",
    "      <td>103</td>\n",
    "    </tr>\n",
    "    <tr>\n",
    "      <th>3</th>\n",
    "      <td>21285980</td>\n",
    "      <td>B00PSLQYWE</td>\n",
    "      <td>5</td>\n",
    "      <td>Downton Abbey Season 5</td>\n",
    "      <td>449</td>\n",
    "      <td>103</td>\n",
    "    </tr>\n",
    "    <tr>\n",
    "      <th>4</th>\n",
    "      <td>29260449</td>\n",
    "      <td>B00PSLQYWE</td>\n",
    "      <td>5</td>\n",
    "      <td>Downton Abbey Season 5</td>\n",
    "      <td>131</td>\n",
    "      <td>103</td>\n",
    "    </tr>\n",
    "  </tbody>\n",
    "</table>\n",
    "</div></div>"
   ]
  },
  {
   "cell_type": "markdown",
   "metadata": {},
   "source": [
    "## <span style=\"color:red\"> End of Lab 2 </span>\n",
    "\n",
    "Save the project file to your local computer. Follow these steps:\n",
    "\n",
    "1. At the top of the page, click the **File** menu. \n",
    "\n",
    "1. Select **Download as**, and click **Notebook(.ipynb)**.  \n",
    "\n",
    "This downloads the current notebook to the default download folder on your computer."
   ]
  },
  {
   "cell_type": "markdown",
   "metadata": {},
   "source": [
    "# Step 3: Model training and evaluation\n",
    "\n",
    "There are some preliminary steps that you must include when converting the dataset from a dataframe to a format that a machine learning algorithm can use. For Amazon SageMaker, here are the steps you need to take:\n",
    "\n",
    "1. Split the data into `train_data` and `test_data`.    \n",
    "2. Convert the dataset to an appropriate file format that the Amazon SageMaker training job can use. This can be either a CSV file or record protobuf. For more information, see [Common Data Formats for Training](https://docs.aws.amazon.com/sagemaker/latest/dg/cdf-training.html). For this problem, the data will be sparse, so you can use the `scipy.sparse.lilmatrix` function and then convert the function to the `RecordIO protobuf` format using `sagemaker.amazon.common.write_spmatrix_to_sparse_tensor`.    \n",
    "3. Upload the data to your Amazon S3 bucket. If you have not created one before, see [Create a Bucket](https://docs.aws.amazon.com/AmazonS3/latest/gsg/CreatingABucket.html).    \n",
    "\n",
    "Use the following cells to complete these steps. Insert and delete cells where needed.\n",
    "\n",
    "#### <span style=\"color: blue;\">Project presentation: Take note of the key decisions you've made in this phase in your project presentations.</span>"
   ]
  },
  {
   "cell_type": "markdown",
   "metadata": {},
   "source": [
    "### Prepare the data\n",
    "\n",
    "You are at a point where you can start preparing the dataset as input for your model. Every model has different input needs. Some of the algorithms implemented in Amazon SageMaker require the data to be in the recordIO-wrapped protobuf form. You will take care of that in the following cells.\n",
    "\n",
    "First, split the dataset into training and test sets. This will allow you to estimate the model's accuracy on videos that customers rated but that weren't included in the training.\n",
    "\n",
    "Start with creation of the `test_df` dataframe. Create the dataframe by grouping the dataframe on `customer_id` and using the `last` function, similar to `pd.groupby('  ').last()`."
   ]
  },
  {
   "cell_type": "code",
   "execution_count": 36,
   "metadata": {},
   "outputs": [],
   "source": [
    "test_df = reduced_df.groupby('customer_id').last().reset_index() # Enter your code here"
   ]
  },
  {
   "cell_type": "markdown",
   "metadata": {},
   "source": [
    "To create the training data, remove the values present in `test_df` from the `reduced_df` dataframe.\n",
    "\n",
    "**Hint**: Merge the `reduced_df` dataframe with the `test_df` dataset with `customer_id` and `product_id` columns as an outer join."
   ]
  },
  {
   "cell_type": "code",
   "execution_count": 38,
   "metadata": {},
   "outputs": [],
   "source": [
    "# Enter your code here\n",
    "train_df = reduced_df.merge(test_df[['customer_id', 'product_id']], \n",
    "                            on=['customer_id', 'product_id'], \n",
    "                            how='outer', \n",
    "                            indicator=True)\n",
    "train_df = train_df[(train_df['_merge'] == 'left_only')].reset_index()"
   ]
  },
  {
   "cell_type": "code",
   "execution_count": 40,
   "metadata": {},
   "outputs": [
    {
     "data": {
      "text/html": [
       "<div>\n",
       "<style scoped>\n",
       "    .dataframe tbody tr th:only-of-type {\n",
       "        vertical-align: middle;\n",
       "    }\n",
       "\n",
       "    .dataframe tbody tr th {\n",
       "        vertical-align: top;\n",
       "    }\n",
       "\n",
       "    .dataframe thead th {\n",
       "        text-align: right;\n",
       "    }\n",
       "</style>\n",
       "<table border=\"1\" class=\"dataframe\">\n",
       "  <thead>\n",
       "    <tr style=\"text-align: right;\">\n",
       "      <th></th>\n",
       "      <th>index</th>\n",
       "      <th>customer_id</th>\n",
       "      <th>product_id</th>\n",
       "      <th>product_title</th>\n",
       "      <th>star_rating</th>\n",
       "      <th>user</th>\n",
       "      <th>item</th>\n",
       "      <th>_merge</th>\n",
       "    </tr>\n",
       "  </thead>\n",
       "  <tbody>\n",
       "    <tr>\n",
       "      <th>0</th>\n",
       "      <td>0</td>\n",
       "      <td>11763902</td>\n",
       "      <td>B00PSLQYWE</td>\n",
       "      <td>Downton Abbey Season 5</td>\n",
       "      <td>4</td>\n",
       "      <td>3065</td>\n",
       "      <td>103</td>\n",
       "      <td>left_only</td>\n",
       "    </tr>\n",
       "    <tr>\n",
       "      <th>1</th>\n",
       "      <td>1</td>\n",
       "      <td>1411480</td>\n",
       "      <td>B00PSLQYWE</td>\n",
       "      <td>Downton Abbey Season 5</td>\n",
       "      <td>5</td>\n",
       "      <td>130</td>\n",
       "      <td>103</td>\n",
       "      <td>left_only</td>\n",
       "    </tr>\n",
       "    <tr>\n",
       "      <th>2</th>\n",
       "      <td>2</td>\n",
       "      <td>35303629</td>\n",
       "      <td>B00PSLQYWE</td>\n",
       "      <td>Downton Abbey Season 5</td>\n",
       "      <td>5</td>\n",
       "      <td>4682</td>\n",
       "      <td>103</td>\n",
       "      <td>left_only</td>\n",
       "    </tr>\n",
       "    <tr>\n",
       "      <th>3</th>\n",
       "      <td>3</td>\n",
       "      <td>21285980</td>\n",
       "      <td>B00PSLQYWE</td>\n",
       "      <td>Downton Abbey Season 5</td>\n",
       "      <td>5</td>\n",
       "      <td>449</td>\n",
       "      <td>103</td>\n",
       "      <td>left_only</td>\n",
       "    </tr>\n",
       "    <tr>\n",
       "      <th>4</th>\n",
       "      <td>4</td>\n",
       "      <td>29260449</td>\n",
       "      <td>B00PSLQYWE</td>\n",
       "      <td>Downton Abbey Season 5</td>\n",
       "      <td>5</td>\n",
       "      <td>131</td>\n",
       "      <td>103</td>\n",
       "      <td>left_only</td>\n",
       "    </tr>\n",
       "  </tbody>\n",
       "</table>\n",
       "</div>"
      ],
      "text/plain": [
       "   index  customer_id  product_id           product_title  star_rating  user  \\\n",
       "0      0     11763902  B00PSLQYWE  Downton Abbey Season 5            4  3065   \n",
       "1      1      1411480  B00PSLQYWE  Downton Abbey Season 5            5   130   \n",
       "2      2     35303629  B00PSLQYWE  Downton Abbey Season 5            5  4682   \n",
       "3      3     21285980  B00PSLQYWE  Downton Abbey Season 5            5   449   \n",
       "4      4     29260449  B00PSLQYWE  Downton Abbey Season 5            5   131   \n",
       "\n",
       "   item     _merge  \n",
       "0   103  left_only  \n",
       "1   103  left_only  \n",
       "2   103  left_only  \n",
       "3   103  left_only  \n",
       "4   103  left_only  "
      ]
     },
     "execution_count": 40,
     "metadata": {},
     "output_type": "execute_result"
    }
   ],
   "source": [
    "train_df.head()"
   ]
  },
  {
   "cell_type": "markdown",
   "metadata": {},
   "source": [
    "Now you can look at some basic characteristics of the data that will later help you convert the features to an appropriate format for training your model.\n",
    "\n",
    "Create two variables `nb_rating_test` and `nb_ratings_train` for the length of the test and training datasets."
   ]
  },
  {
   "cell_type": "code",
   "execution_count": 41,
   "metadata": {},
   "outputs": [
    {
     "name": "stdout",
     "output_type": "stream",
     "text": [
      " Training Count: 163064\n",
      " Test Count: 10436\n"
     ]
    }
   ],
   "source": [
    "nb_ratings_test = test_df.shape[0]# Enter your code here\n",
    "nb_ratings_train = train_df.shape[0]# Enter your code here\n",
    "print(f\" Training Count: {nb_ratings_train}\")\n",
    "print(f\" Test Count: {nb_ratings_test}\")"
   ]
  },
  {
   "cell_type": "markdown",
   "metadata": {},
   "source": [
    "### Data conversion\n",
    "\n",
    "Now, you can convert your Pandas dataframes into a sparse matrix. This process is the same for both train and test. The Amazon SageMaker implementation of factorization machines takes recordIO-wrapped protobuf, where the data you have today is a Pandas dataframe on disk. Therefore, you are going to convert the data to a sparse matrix to express the relationships between each user and each movie."
   ]
  },
  {
   "cell_type": "code",
   "execution_count": 42,
   "metadata": {
    "scrolled": true
   },
   "outputs": [],
   "source": [
    "from scipy.sparse import lil_matrix\n",
    "\n",
    "def loadDataset(df, lines, columns, regressor=True):\n",
    "    \"\"\"\n",
    "    Convert the pandas dataframe into a sparse matrix\n",
    "    \n",
    "    Args:\n",
    "        df: DataFrame\n",
    "        lines: number of rows of the final sparse matrix\n",
    "        columns: number of columns of final sparse matrix\n",
    "        regressor: Boolean value to check if using regression\n",
    "                  or classification\n",
    "    Returns:\n",
    "        X: Feature vector\n",
    "        Y: Label vector\n",
    "    \"\"\"\n",
    "    # Features are one-hot encoded in a sparse matrix\n",
    "    \n",
    "    # Use scipy.sparse.lil_matrix to create the feature vector X of type float32\n",
    "    # The size of the matrix is the length of the dataframe and \n",
    "    # number of lines plus number of columns variable \n",
    "    X = lil_matrix((len(df), lines + columns)).astype('float32') # Enter your code here\n",
    "    \n",
    "    # Labels are stored in a vector. Instantiate an empty label vector Y.\n",
    "    Y = [] # Enter your code here\n",
    "    \n",
    "    line = 0\n",
    "    \n",
    "    # For each row in the dataframe, use 1 for the item and product number\n",
    "    for index, row in df.iterrows():\n",
    "        X[line,row['user']] = 1\n",
    "        X[line, lines + (row['item'])] = 1\n",
    "        line += 1\n",
    "\n",
    "        if regressor:\n",
    "            # If using regression, append the star_rating from the row variable\n",
    "            Y.append(row['star_rating']) # Enter your code here\n",
    "        else:\n",
    "            # Use 1 for star_rating 5 else use 0 from the row variable\n",
    "            if int(row['star_rating']) >= 5:\n",
    "                Y.append(1) # Enter your code here\n",
    "            else:\n",
    "                Y.append(0) # Enter your code here\n",
    "            \n",
    "    # Convert the list into a NumPy array of type float32     \n",
    "    Y = np.array(Y).astype('float32') # Enter your code here\n",
    "    \n",
    "    return X, Y"
   ]
  },
  {
   "cell_type": "markdown",
   "metadata": {},
   "source": [
    "Use the `loadDataset` function to create the training and test sets."
   ]
  },
  {
   "cell_type": "code",
   "execution_count": 43,
   "metadata": {},
   "outputs": [
    {
     "name": "stdout",
     "output_type": "stream",
     "text": [
      "10436 6659 17095\n"
     ]
    }
   ],
   "source": [
    "print(customers.shape[0], \n",
    "      products.shape[0],\n",
    "      customers.shape[0] + products.shape[0])\n",
    "\n",
    "# Use loadDataset function with train_df, customers.shape[0] and products.shape[0]\n",
    "X_train, Y_train = loadDataset(train_df, customers.shape[0],\n",
    "                              products.shape[0])  # Enter your code here\n",
    "\n",
    "# Use loadDataset function with test_df, customers.shape[0] and products.shape[0]\n",
    "X_test, Y_test = loadDataset(test_df, customers.shape[0],\n",
    "                              products.shape[0])"
   ]
  },
  {
   "cell_type": "code",
   "execution_count": 94,
   "metadata": {},
   "outputs": [
    {
     "data": {
      "text/plain": [
       "(10436, 17095)"
      ]
     },
     "execution_count": 94,
     "metadata": {},
     "output_type": "execute_result"
    },
    {
     "data": {
      "text/plain": [
       "array([5., 4., 5., ..., 5., 1., 5.], dtype=float32)"
      ]
     },
     "execution_count": 94,
     "metadata": {},
     "output_type": "execute_result"
    }
   ],
   "source": [
    "X_test.shape\n",
    "Y_test # for validation"
   ]
  },
  {
   "cell_type": "code",
   "execution_count": 91,
   "metadata": {},
   "outputs": [
    {
     "data": {
      "text/plain": [
       "array([4., 5., 5., ..., 3., 5., 5.], dtype=float32)"
      ]
     },
     "execution_count": 91,
     "metadata": {},
     "output_type": "execute_result"
    },
    {
     "data": {
      "text/plain": [
       "(163064, 17095)"
      ]
     },
     "execution_count": 91,
     "metadata": {},
     "output_type": "execute_result"
    },
    {
     "data": {
      "text/plain": [
       "(163064, 8)"
      ]
     },
     "execution_count": 91,
     "metadata": {},
     "output_type": "execute_result"
    }
   ],
   "source": [
    "Y_train\n",
    "# Y is the rating\n",
    "X_train.shape\n",
    "train_df.shape\n",
    "\n",
    "# 163064 data points.  Expanding the data into a sparse matrix by one hot encoding the customers and products\n",
    "\n",
    "# |<--------- X --------------->|\n",
    "# c1, c2, ......, p1, p2, ...... Y\n",
    "# 0,  1,  ......, 1, 0, ........ 4"
   ]
  },
  {
   "cell_type": "markdown",
   "metadata": {},
   "source": [
    "Now that your data is in a sparse format, save it as a protobuf format and upload it to Amazon S3. This step might look intimidating, but most of the conversion effort is handled by the Amazon SageMaker Python SDK, imported as SageMaker below."
   ]
  },
  {
   "cell_type": "code",
   "execution_count": 46,
   "metadata": {},
   "outputs": [
    {
     "name": "stdout",
     "output_type": "stream",
     "text": [
      "Training data S3 path:  s3://qls-3878224-71cb2447d6a77f0c-labbucket-1sl35fi8b5ae6/sagemaker-fm/train\n",
      "Test data S3 path:  s3://qls-3878224-71cb2447d6a77f0c-labbucket-1sl35fi8b5ae6/sagemaker-fm/test\n"
     ]
    }
   ],
   "source": [
    "# this just convert to recordIO protobuf to stream the data for training.  This data is loaded into S3\n",
    "import io \n",
    "import sagemaker.amazon.common as smac\n",
    "\n",
    "def writeDatasetToProtobuf(X, bucket, prefix, key, d_type, Y=None):\n",
    "    buf = io.BytesIO()\n",
    "    if d_type == \"sparse\":\n",
    "        smac.write_spmatrix_to_sparse_tensor(buf, X, labels=Y)\n",
    "    else:\n",
    "        smac.write_numpy_to_dense_tensor(buf, X, labels=Y)\n",
    "        \n",
    "    buf.seek(0)\n",
    "    obj = '{}/{}'.format(prefix, key)\n",
    "    boto3.resource('s3').Bucket(bucket).Object(obj).upload_fileobj(buf)\n",
    "    return 's3://{}/{}'.format(bucket,obj)\n",
    "\n",
    "\n",
    "fm_train_data_path = writeDatasetToProtobuf(X_train, bucket, prefix, 'train', \"sparse\", Y_train)    \n",
    "fm_test_data_path  = writeDatasetToProtobuf(X_test, bucket, prefix, 'test', \"sparse\", Y_test)  \n",
    "  \n",
    "print(\"Training data S3 path: \", fm_train_data_path)\n",
    "print(\"Test data S3 path: \", fm_test_data_path)"
   ]
  },
  {
   "cell_type": "markdown",
   "metadata": {},
   "source": [
    "You are finally finished with data preparation. Hooray! As you can see, it takes a lot of time and effort to clean and prepare the data for modeling. This is true for every single data science project, and this step has a high impact on the outcome. Make sure you spend enough time understanding and preparing your data for training in all future machine learning dventures!"
   ]
  },
  {
   "cell_type": "markdown",
   "metadata": {},
   "source": [
    "## Training the model\n",
    "\n",
    "Now it's time to train the model. You will use an Amazon SageMaker training job for that. Amazon SageMaker training jobs are an easy way to create models, as you don't really have to write all the code for training. That is already handled for you in a nice container format.\n",
    "\n",
    "The general workflow for creating training jobs from the notebook is to instantiate the predictor, pass some hyperparameters, and then pass the data in the correct format. This is what happens in the following cell.\n",
    "\n",
    "For more more information about FM estimator, see [FactorizationMachines](https://sagemaker.readthedocs.io/en/stable/factorization_machines.html).\n",
    "\n",
    "For more information about hyperparameters, see [Factorization Machines Hyperparameters](https://docs.aws.amazon.com/sagemaker/latest/dg/fact-machines-hyperparameters.html).\n",
    "\n",
    "**Hint**: Example:\n",
    "\n",
    "```\n",
    "sess = sagemaker.Session()\n",
    "\n",
    "pca = sagemaker.estimator.Estimator(containers[boto3.Session().region_name],\n",
    "                                    role,\n",
    "                                    instance_count=1,\n",
    "                                    instance_type='ml.m4.xlarge',\n",
    "                                    output_path=output_location,\n",
    "                                    sagemaker_session=sess)\n",
    "                                    \n",
    "pca.set_hyperparameters(featuer_dim=50000,\n",
    "                        num_components=10,\n",
    "                        subtract_mean=True,\n",
    "                        algorithm_mode='randomized',\n",
    "                        mini_batch_size=200)\n",
    "                        \n",
    "pca.fit({'train': s3_train_data})\n",
    "```"
   ]
  },
  {
   "cell_type": "code",
   "execution_count": 49,
   "metadata": {},
   "outputs": [
    {
     "data": {
      "text/plain": [
       "(163064, 17095)"
      ]
     },
     "execution_count": 49,
     "metadata": {},
     "output_type": "execute_result"
    }
   ],
   "source": [
    "X_train.shape"
   ]
  },
  {
   "cell_type": "code",
   "execution_count": 53,
   "metadata": {
    "scrolled": true
   },
   "outputs": [
    {
     "name": "stdout",
     "output_type": "stream",
     "text": [
      "2021-01-21 16:30:48 Starting - Starting the training job...\n",
      "2021-01-21 16:31:12 Starting - Launching requested ML instancesProfilerReport-1611246647: InProgress\n",
      "......\n",
      "2021-01-21 16:32:13 Starting - Preparing the instances for training.........\n",
      "2021-01-21 16:33:34 Downloading - Downloading input data\n",
      "2021-01-21 16:33:34 Training - Downloading the training image..\u001b[34mDocker entrypoint called with argument(s): train\u001b[0m\n",
      "\u001b[34mRunning default environment configuration script\u001b[0m\n",
      "\u001b[34m/opt/amazon/lib/python2.7/site-packages/pandas/util/nosetester.py:13: DeprecationWarning: Importing from numpy.testing.nosetester is deprecated, import from numpy.testing instead.\n",
      "  from numpy.testing import nosetester\u001b[0m\n",
      "\u001b[34m[01/21/2021 16:33:55 INFO 140277710636864] Reading default configuration from /opt/amazon/lib/python2.7/site-packages/algorithm/resources/default-conf.json: {u'factors_lr': u'0.0001', u'linear_init_sigma': u'0.01', u'epochs': 1, u'_wd': u'1.0', u'_num_kv_servers': u'auto', u'use_bias': u'true', u'factors_init_sigma': u'0.001', u'_log_level': u'info', u'bias_init_method': u'normal', u'linear_init_method': u'normal', u'linear_lr': u'0.001', u'factors_init_method': u'normal', u'_tuning_objective_metric': u'', u'bias_wd': u'0.01', u'use_linear': u'true', u'bias_lr': u'0.1', u'mini_batch_size': u'1000', u'_use_full_symbolic': u'true', u'batch_metrics_publish_interval': u'500', u'bias_init_sigma': u'0.01', u'_num_gpus': u'auto', u'_data_format': u'record', u'factors_wd': u'0.00001', u'linear_wd': u'0.001', u'_kvstore': u'auto', u'_learning_rate': u'1.0', u'_optimizer': u'adam'}\u001b[0m\n",
      "\u001b[34m[01/21/2021 16:33:55 INFO 140277710636864] Reading provided configuration from /opt/ml/input/config/hyperparameters.json: {u'epochs': u'25', u'predictor_type': u'regressor', u'rescale_grad': u'0.005', u'clip_gradient': u'5.0', u'feature_dim': u'17095', u'num_factors': u'64', u'mini_batch_size': u'200'}\u001b[0m\n",
      "\u001b[34m[01/21/2021 16:33:55 INFO 140277710636864] Final configuration: {u'factors_lr': u'0.0001', u'linear_init_sigma': u'0.01', u'epochs': u'25', u'feature_dim': u'17095', u'num_factors': u'64', u'_wd': u'1.0', u'_num_kv_servers': u'auto', u'use_bias': u'true', u'factors_init_sigma': u'0.001', u'_log_level': u'info', u'bias_init_method': u'normal', u'linear_init_method': u'normal', u'rescale_grad': u'0.005', u'linear_lr': u'0.001', u'factors_init_method': u'normal', u'_tuning_objective_metric': u'', u'bias_wd': u'0.01', u'use_linear': u'true', u'bias_lr': u'0.1', u'mini_batch_size': u'200', u'_use_full_symbolic': u'true', u'clip_gradient': u'5.0', u'batch_metrics_publish_interval': u'500', u'predictor_type': u'regressor', u'bias_init_sigma': u'0.01', u'_num_gpus': u'auto', u'_data_format': u'record', u'factors_wd': u'0.00001', u'linear_wd': u'0.001', u'_kvstore': u'auto', u'_learning_rate': u'1.0', u'_optimizer': u'adam'}\u001b[0m\n",
      "\u001b[34m[01/21/2021 16:33:55 WARNING 140277710636864] Loggers have already been setup.\u001b[0m\n",
      "\u001b[34mProcess 1 is a worker.\u001b[0m\n",
      "\u001b[34m[01/21/2021 16:33:55 INFO 140277710636864] Using default worker.\u001b[0m\n",
      "\u001b[34m[2021-01-21 16:33:55.388] [tensorio] [warning] TensorIO is already initialized; ignoring the initialization routine.\u001b[0m\n",
      "\u001b[34m[2021-01-21 16:33:55.391] [tensorio] [info] epoch_stats={\"data_pipeline\": \"/opt/ml/input/data/train\", \"epoch\": 0, \"duration\": 5, \"num_examples\": 1, \"num_bytes\": 12800}\u001b[0m\n",
      "\u001b[34m[01/21/2021 16:33:55 INFO 140277710636864] nvidia-smi took: 0.0251820087433 secs to identify 0 gpus\u001b[0m\n",
      "\u001b[34m[01/21/2021 16:33:55 INFO 140277710636864] Number of GPUs being used: 0\u001b[0m\n",
      "\u001b[34m[01/21/2021 16:33:55 INFO 140277710636864] [Sparse network] Building a sparse network.\u001b[0m\n",
      "\u001b[34m[01/21/2021 16:33:55 INFO 140277710636864] Create Store: local\u001b[0m\n",
      "\u001b[34m#metrics {\"Metrics\": {\"initialize.time\": {\"count\": 1, \"max\": 41.87202453613281, \"sum\": 41.87202453613281, \"min\": 41.87202453613281}}, \"EndTime\": 1611246835.431898, \"Dimensions\": {\"Host\": \"algo-1\", \"Operation\": \"training\", \"Algorithm\": \"factorization-machines\"}, \"StartTime\": 1611246835.384902}\n",
      "\u001b[0m\n",
      "\u001b[34m#metrics {\"Metrics\": {\"Max Batches Seen Between Resets\": {\"count\": 1, \"max\": 1, \"sum\": 1.0, \"min\": 1}, \"Number of Batches Since Last Reset\": {\"count\": 1, \"max\": 0, \"sum\": 0.0, \"min\": 0}, \"Number of Records Since Last Reset\": {\"count\": 1, \"max\": 0, \"sum\": 0.0, \"min\": 0}, \"Total Batches Seen\": {\"count\": 1, \"max\": 1, \"sum\": 1.0, \"min\": 1}, \"Total Records Seen\": {\"count\": 1, \"max\": 200, \"sum\": 200.0, \"min\": 200}, \"Max Records Seen Between Resets\": {\"count\": 1, \"max\": 200, \"sum\": 200.0, \"min\": 200}, \"Reset Count\": {\"count\": 1, \"max\": 1, \"sum\": 1.0, \"min\": 1}}, \"EndTime\": 1611246835.432116, \"Dimensions\": {\"Host\": \"algo-1\", \"Meta\": \"init_train_data_iter\", \"Operation\": \"training\", \"Algorithm\": \"factorization-machines\"}, \"StartTime\": 1611246835.432065}\n",
      "\u001b[0m\n",
      "\u001b[34m[16:33:55] /opt/brazil-pkg-cache/packages/AIAlgorithmsMXNet/AIAlgorithmsMXNet-1.1.x.203343.0/AL2012/generic-flavor/src/src/kvstore/./kvstore_local.h:280: Warning: non-default weights detected during kvstore pull. This call has been ignored. Please make sure to use row_sparse_pull with row_ids.\u001b[0m\n",
      "\u001b[34m[16:33:55] /opt/brazil-pkg-cache/packages/AIAlgorithmsMXNet/AIAlgorithmsMXNet-1.1.x.203343.0/AL2012/generic-flavor/src/src/kvstore/./kvstore_local.h:280: Warning: non-default weights detected during kvstore pull. This call has been ignored. Please make sure to use row_sparse_pull with row_ids.\u001b[0m\n",
      "\u001b[34m[01/21/2021 16:33:55 INFO 140277710636864] #quality_metric: host=algo-1, epoch=0, batch=0 train rmse <loss>=4.4786445311\u001b[0m\n",
      "\u001b[34m[01/21/2021 16:33:55 INFO 140277710636864] #quality_metric: host=algo-1, epoch=0, batch=0 train mse <loss>=20.0582568359\u001b[0m\n",
      "\u001b[34m[01/21/2021 16:33:55 INFO 140277710636864] #quality_metric: host=algo-1, epoch=0, batch=0 train absolute_loss <loss>=4.35736480713\u001b[0m\n",
      "\u001b[34m[01/21/2021 16:33:57 INFO 140277710636864] Iter[0] Batch [500]#011Speed: 59102.77 samples/sec\u001b[0m\n",
      "\u001b[34m[01/21/2021 16:33:57 INFO 140277710636864] #quality_metric: host=algo-1, epoch=0, batch=500 train rmse <loss>=1.35166433793\u001b[0m\n",
      "\u001b[34m[01/21/2021 16:33:57 INFO 140277710636864] #quality_metric: host=algo-1, epoch=0, batch=500 train mse <loss>=1.82699648242\u001b[0m\n",
      "\u001b[34m[01/21/2021 16:33:57 INFO 140277710636864] #quality_metric: host=algo-1, epoch=0, batch=500 train absolute_loss <loss>=1.04032286532\u001b[0m\n",
      "\u001b[34m[2021-01-21 16:33:58.476] [tensorio] [info] epoch_stats={\"data_pipeline\": \"/opt/ml/input/data/train\", \"epoch\": 2, \"duration\": 2981, \"num_examples\": 816, \"num_bytes\": 10436096}\u001b[0m\n",
      "\u001b[34m[01/21/2021 16:33:58 INFO 140277710636864] #quality_metric: host=algo-1, epoch=0, train rmse <loss>=1.29874268991\u001b[0m\n",
      "\u001b[34m[01/21/2021 16:33:58 INFO 140277710636864] #quality_metric: host=algo-1, epoch=0, train mse <loss>=1.68673257458\u001b[0m\n",
      "\u001b[34m[01/21/2021 16:33:58 INFO 140277710636864] #quality_metric: host=algo-1, epoch=0, train absolute_loss <loss>=1.01230021084\u001b[0m\n",
      "\u001b[34m#metrics {\"Metrics\": {\"epochs\": {\"count\": 1, \"max\": 25, \"sum\": 25.0, \"min\": 25}, \"update.time\": {\"count\": 1, \"max\": 3044.4459915161133, \"sum\": 3044.4459915161133, \"min\": 3044.4459915161133}}, \"EndTime\": 1611246838.476833, \"Dimensions\": {\"Host\": \"algo-1\", \"Operation\": \"training\", \"Algorithm\": \"factorization-machines\"}, \"StartTime\": 1611246835.431984}\n",
      "\u001b[0m\n",
      "\u001b[34m[01/21/2021 16:33:58 INFO 140277710636864] #progress_metric: host=algo-1, completed 4 % of epochs\u001b[0m\n",
      "\u001b[34m#metrics {\"Metrics\": {\"Max Batches Seen Between Resets\": {\"count\": 1, \"max\": 816, \"sum\": 816.0, \"min\": 816}, \"Number of Batches Since Last Reset\": {\"count\": 1, \"max\": 816, \"sum\": 816.0, \"min\": 816}, \"Number of Records Since Last Reset\": {\"count\": 1, \"max\": 163064, \"sum\": 163064.0, \"min\": 163064}, \"Total Batches Seen\": {\"count\": 1, \"max\": 817, \"sum\": 817.0, \"min\": 817}, \"Total Records Seen\": {\"count\": 1, \"max\": 163264, \"sum\": 163264.0, \"min\": 163264}, \"Max Records Seen Between Resets\": {\"count\": 1, \"max\": 163064, \"sum\": 163064.0, \"min\": 163064}, \"Reset Count\": {\"count\": 1, \"max\": 2, \"sum\": 2.0, \"min\": 2}}, \"EndTime\": 1611246838.477153, \"Dimensions\": {\"Host\": \"algo-1\", \"Meta\": \"training_data_iter\", \"Operation\": \"training\", \"Algorithm\": \"factorization-machines\", \"epoch\": 0}, \"StartTime\": 1611246835.432346}\n",
      "\u001b[0m\n",
      "\u001b[34m[01/21/2021 16:33:58 INFO 140277710636864] #throughput_metric: host=algo-1, train throughput=53552.1155925 records/second\u001b[0m\n",
      "\u001b[34m[01/21/2021 16:33:58 INFO 140277710636864] #quality_metric: host=algo-1, epoch=1, batch=0 train rmse <loss>=1.09051212284\u001b[0m\n",
      "\u001b[34m[01/21/2021 16:33:58 INFO 140277710636864] #quality_metric: host=algo-1, epoch=1, batch=0 train mse <loss>=1.18921669006\u001b[0m\n",
      "\u001b[34m[01/21/2021 16:33:58 INFO 140277710636864] #quality_metric: host=algo-1, epoch=1, batch=0 train absolute_loss <loss>=0.939808120728\u001b[0m\n",
      "\u001b[34m[01/21/2021 16:34:00 INFO 140277710636864] Iter[1] Batch [500]#011Speed: 63510.97 samples/sec\u001b[0m\n",
      "\u001b[34m[01/21/2021 16:34:00 INFO 140277710636864] #quality_metric: host=algo-1, epoch=1, batch=500 train rmse <loss>=1.12529518916\u001b[0m\n",
      "\u001b[34m[01/21/2021 16:34:00 INFO 140277710636864] #quality_metric: host=algo-1, epoch=1, batch=500 train mse <loss>=1.26628926275\u001b[0m\n",
      "\u001b[34m[01/21/2021 16:34:00 INFO 140277710636864] #quality_metric: host=algo-1, epoch=1, batch=500 train absolute_loss <loss>=0.900175276431\u001b[0m\n",
      "\u001b[34m[2021-01-21 16:34:00.966] [tensorio] [info] epoch_stats={\"data_pipeline\": \"/opt/ml/input/data/train\", \"epoch\": 4, \"duration\": 2486, \"num_examples\": 816, \"num_bytes\": 10436096}\u001b[0m\n",
      "\u001b[34m[01/21/2021 16:34:00 INFO 140277710636864] #quality_metric: host=algo-1, epoch=1, train rmse <loss>=1.15155805125\u001b[0m\n",
      "\u001b[34m[01/21/2021 16:34:00 INFO 140277710636864] #quality_metric: host=algo-1, epoch=1, train mse <loss>=1.32608594539\u001b[0m\n",
      "\u001b[34m[01/21/2021 16:34:00 INFO 140277710636864] #quality_metric: host=algo-1, epoch=1, train absolute_loss <loss>=0.921275353432\u001b[0m\n",
      "\u001b[34m#metrics {\"Metrics\": {\"update.time\": {\"count\": 1, \"max\": 2488.8651371002197, \"sum\": 2488.8651371002197, \"min\": 2488.8651371002197}}, \"EndTime\": 1611246840.967198, \"Dimensions\": {\"Host\": \"algo-1\", \"Operation\": \"training\", \"Algorithm\": \"factorization-machines\"}, \"StartTime\": 1611246838.476939}\n",
      "\u001b[0m\n",
      "\u001b[34m[01/21/2021 16:34:00 INFO 140277710636864] #progress_metric: host=algo-1, completed 8 % of epochs\u001b[0m\n",
      "\u001b[34m#metrics {\"Metrics\": {\"Max Batches Seen Between Resets\": {\"count\": 1, \"max\": 816, \"sum\": 816.0, \"min\": 816}, \"Number of Batches Since Last Reset\": {\"count\": 1, \"max\": 816, \"sum\": 816.0, \"min\": 816}, \"Number of Records Since Last Reset\": {\"count\": 1, \"max\": 163064, \"sum\": 163064.0, \"min\": 163064}, \"Total Batches Seen\": {\"count\": 1, \"max\": 1633, \"sum\": 1633.0, \"min\": 1633}, \"Total Records Seen\": {\"count\": 1, \"max\": 326328, \"sum\": 326328.0, \"min\": 326328}, \"Max Records Seen Between Resets\": {\"count\": 1, \"max\": 163064, \"sum\": 163064.0, \"min\": 163064}, \"Reset Count\": {\"count\": 1, \"max\": 3, \"sum\": 3.0, \"min\": 3}}, \"EndTime\": 1611246840.967454, \"Dimensions\": {\"Host\": \"algo-1\", \"Meta\": \"training_data_iter\", \"Operation\": \"training\", \"Algorithm\": \"factorization-machines\", \"epoch\": 1}, \"StartTime\": 1611246838.478297}\n",
      "\u001b[0m\n",
      "\u001b[34m[01/21/2021 16:34:00 INFO 140277710636864] #throughput_metric: host=algo-1, train throughput=65505.7832561 records/second\u001b[0m\n",
      "\u001b[34m[01/21/2021 16:34:00 INFO 140277710636864] #quality_metric: host=algo-1, epoch=2, batch=0 train rmse <loss>=1.0725732781\u001b[0m\n",
      "\u001b[34m[01/21/2021 16:34:00 INFO 140277710636864] #quality_metric: host=algo-1, epoch=2, batch=0 train mse <loss>=1.15041343689\u001b[0m\n",
      "\u001b[34m[01/21/2021 16:34:00 INFO 140277710636864] #quality_metric: host=algo-1, epoch=2, batch=0 train absolute_loss <loss>=0.921012191772\u001b[0m\n",
      "\u001b[34m[01/21/2021 16:34:02 INFO 140277710636864] Iter[2] Batch [500]#011Speed: 62056.37 samples/sec\u001b[0m\n",
      "\u001b[34m[01/21/2021 16:34:02 INFO 140277710636864] #quality_metric: host=algo-1, epoch=2, batch=500 train rmse <loss>=1.10904586061\u001b[0m\n",
      "\u001b[34m[01/21/2021 16:34:02 INFO 140277710636864] #quality_metric: host=algo-1, epoch=2, batch=500 train mse <loss>=1.22998272094\u001b[0m\n",
      "\u001b[34m[01/21/2021 16:34:02 INFO 140277710636864] #quality_metric: host=algo-1, epoch=2, batch=500 train absolute_loss <loss>=0.886474285925\u001b[0m\n",
      "\u001b[34m[2021-01-21 16:34:03.665] [tensorio] [info] epoch_stats={\"data_pipeline\": \"/opt/ml/input/data/train\", \"epoch\": 6, \"duration\": 2695, \"num_examples\": 816, \"num_bytes\": 10436096}\u001b[0m\n",
      "\u001b[34m[01/21/2021 16:34:03 INFO 140277710636864] #quality_metric: host=algo-1, epoch=2, train rmse <loss>=1.13538529613\u001b[0m\n",
      "\u001b[34m[01/21/2021 16:34:03 INFO 140277710636864] #quality_metric: host=algo-1, epoch=2, train mse <loss>=1.28909977067\u001b[0m\n",
      "\u001b[34m[01/21/2021 16:34:03 INFO 140277710636864] #quality_metric: host=algo-1, epoch=2, train absolute_loss <loss>=0.908143897618\u001b[0m\n",
      "\u001b[34m#metrics {\"Metrics\": {\"update.time\": {\"count\": 1, \"max\": 2698.3940601348877, \"sum\": 2698.3940601348877, \"min\": 2698.3940601348877}}, \"EndTime\": 1611246843.666884, \"Dimensions\": {\"Host\": \"algo-1\", \"Operation\": \"training\", \"Algorithm\": \"factorization-machines\"}, \"StartTime\": 1611246840.967293}\n",
      "\u001b[0m\n",
      "\u001b[34m[01/21/2021 16:34:03 INFO 140277710636864] #progress_metric: host=algo-1, completed 12 % of epochs\u001b[0m\n",
      "\u001b[34m#metrics {\"Metrics\": {\"Max Batches Seen Between Resets\": {\"count\": 1, \"max\": 816, \"sum\": 816.0, \"min\": 816}, \"Number of Batches Since Last Reset\": {\"count\": 1, \"max\": 816, \"sum\": 816.0, \"min\": 816}, \"Number of Records Since Last Reset\": {\"count\": 1, \"max\": 163064, \"sum\": 163064.0, \"min\": 163064}, \"Total Batches Seen\": {\"count\": 1, \"max\": 2449, \"sum\": 2449.0, \"min\": 2449}, \"Total Records Seen\": {\"count\": 1, \"max\": 489392, \"sum\": 489392.0, \"min\": 489392}, \"Max Records Seen Between Resets\": {\"count\": 1, \"max\": 163064, \"sum\": 163064.0, \"min\": 163064}, \"Reset Count\": {\"count\": 1, \"max\": 4, \"sum\": 4.0, \"min\": 4}}, \"EndTime\": 1611246843.667344, \"Dimensions\": {\"Host\": \"algo-1\", \"Meta\": \"training_data_iter\", \"Operation\": \"training\", \"Algorithm\": \"factorization-machines\", \"epoch\": 2}, \"StartTime\": 1611246840.96845}\n",
      "\u001b[0m\n",
      "\u001b[34m[01/21/2021 16:34:03 INFO 140277710636864] #throughput_metric: host=algo-1, train throughput=60414.7027182 records/second\u001b[0m\n",
      "\u001b[34m[01/21/2021 16:34:03 INFO 140277710636864] #quality_metric: host=algo-1, epoch=3, batch=0 train rmse <loss>=1.06352600823\u001b[0m\n",
      "\u001b[34m[01/21/2021 16:34:03 INFO 140277710636864] #quality_metric: host=algo-1, epoch=3, batch=0 train mse <loss>=1.13108757019\u001b[0m\n",
      "\u001b[34m[01/21/2021 16:34:03 INFO 140277710636864] #quality_metric: host=algo-1, epoch=3, batch=0 train absolute_loss <loss>=0.912196884155\u001b[0m\n",
      "\u001b[34m[01/21/2021 16:34:05 INFO 140277710636864] Iter[3] Batch [500]#011Speed: 54776.12 samples/sec\u001b[0m\n",
      "\u001b[34m[01/21/2021 16:34:05 INFO 140277710636864] #quality_metric: host=algo-1, epoch=3, batch=500 train rmse <loss>=1.09460006413\u001b[0m\n",
      "\u001b[34m[01/21/2021 16:34:05 INFO 140277710636864] #quality_metric: host=algo-1, epoch=3, batch=500 train mse <loss>=1.19814930038\u001b[0m\n",
      "\u001b[34m[01/21/2021 16:34:05 INFO 140277710636864] #quality_metric: host=algo-1, epoch=3, batch=500 train absolute_loss <loss>=0.874099166017\u001b[0m\n",
      "\n",
      "2021-01-21 16:34:15 Training - Training image download completed. Training in progress.\u001b[34m[2021-01-21 16:34:06.775] [tensorio] [info] epoch_stats={\"data_pipeline\": \"/opt/ml/input/data/train\", \"epoch\": 8, \"duration\": 3100, \"num_examples\": 816, \"num_bytes\": 10436096}\u001b[0m\n",
      "\u001b[34m[01/21/2021 16:34:06 INFO 140277710636864] #quality_metric: host=algo-1, epoch=3, train rmse <loss>=1.12116348964\u001b[0m\n",
      "\u001b[34m[01/21/2021 16:34:06 INFO 140277710636864] #quality_metric: host=algo-1, epoch=3, train mse <loss>=1.2570075705\u001b[0m\n",
      "\u001b[34m[01/21/2021 16:34:06 INFO 140277710636864] #quality_metric: host=algo-1, epoch=3, train absolute_loss <loss>=0.896395394007\u001b[0m\n",
      "\u001b[34m#metrics {\"Metrics\": {\"update.time\": {\"count\": 1, \"max\": 3107.503890991211, \"sum\": 3107.503890991211, \"min\": 3107.503890991211}}, \"EndTime\": 1611246846.776079, \"Dimensions\": {\"Host\": \"algo-1\", \"Operation\": \"training\", \"Algorithm\": \"factorization-machines\"}, \"StartTime\": 1611246843.667035}\n",
      "\u001b[0m\n",
      "\u001b[34m[01/21/2021 16:34:06 INFO 140277710636864] #progress_metric: host=algo-1, completed 16 % of epochs\u001b[0m\n",
      "\u001b[34m#metrics {\"Metrics\": {\"Max Batches Seen Between Resets\": {\"count\": 1, \"max\": 816, \"sum\": 816.0, \"min\": 816}, \"Number of Batches Since Last Reset\": {\"count\": 1, \"max\": 816, \"sum\": 816.0, \"min\": 816}, \"Number of Records Since Last Reset\": {\"count\": 1, \"max\": 163064, \"sum\": 163064.0, \"min\": 163064}, \"Total Batches Seen\": {\"count\": 1, \"max\": 3265, \"sum\": 3265.0, \"min\": 3265}, \"Total Records Seen\": {\"count\": 1, \"max\": 652456, \"sum\": 652456.0, \"min\": 652456}, \"Max Records Seen Between Resets\": {\"count\": 1, \"max\": 163064, \"sum\": 163064.0, \"min\": 163064}, \"Reset Count\": {\"count\": 1, \"max\": 5, \"sum\": 5.0, \"min\": 5}}, \"EndTime\": 1611246846.776331, \"Dimensions\": {\"Host\": \"algo-1\", \"Meta\": \"training_data_iter\", \"Operation\": \"training\", \"Algorithm\": \"factorization-machines\", \"epoch\": 3}, \"StartTime\": 1611246843.668537}\n",
      "\u001b[0m\n",
      "\u001b[34m[01/21/2021 16:34:06 INFO 140277710636864] #throughput_metric: host=algo-1, train throughput=52466.9080399 records/second\u001b[0m\n",
      "\u001b[34m[01/21/2021 16:34:06 INFO 140277710636864] #quality_metric: host=algo-1, epoch=4, batch=0 train rmse <loss>=1.05682556001\u001b[0m\n",
      "\u001b[34m[01/21/2021 16:34:06 INFO 140277710636864] #quality_metric: host=algo-1, epoch=4, batch=0 train mse <loss>=1.11688026428\u001b[0m\n",
      "\u001b[34m[01/21/2021 16:34:06 INFO 140277710636864] #quality_metric: host=algo-1, epoch=4, batch=0 train absolute_loss <loss>=0.906903076172\u001b[0m\n",
      "\u001b[34m[01/21/2021 16:34:08 INFO 140277710636864] Iter[4] Batch [500]#011Speed: 66104.12 samples/sec\u001b[0m\n",
      "\u001b[34m[01/21/2021 16:34:08 INFO 140277710636864] #quality_metric: host=algo-1, epoch=4, batch=500 train rmse <loss>=1.08193863473\u001b[0m\n",
      "\u001b[34m[01/21/2021 16:34:08 INFO 140277710636864] #quality_metric: host=algo-1, epoch=4, batch=500 train mse <loss>=1.17059120932\u001b[0m\n",
      "\u001b[34m[01/21/2021 16:34:08 INFO 140277710636864] #quality_metric: host=algo-1, epoch=4, batch=500 train absolute_loss <loss>=0.863165643201\u001b[0m\n",
      "\u001b[34m[2021-01-21 16:34:09.177] [tensorio] [info] epoch_stats={\"data_pipeline\": \"/opt/ml/input/data/train\", \"epoch\": 10, \"duration\": 2398, \"num_examples\": 816, \"num_bytes\": 10436096}\u001b[0m\n",
      "\u001b[34m[01/21/2021 16:34:09 INFO 140277710636864] #quality_metric: host=algo-1, epoch=4, train rmse <loss>=1.10873495279\u001b[0m\n",
      "\u001b[34m[01/21/2021 16:34:09 INFO 140277710636864] #quality_metric: host=algo-1, epoch=4, train mse <loss>=1.22929319555\u001b[0m\n",
      "\u001b[34m[01/21/2021 16:34:09 INFO 140277710636864] #quality_metric: host=algo-1, epoch=4, train absolute_loss <loss>=0.88600971839\u001b[0m\n",
      "\u001b[34m#metrics {\"Metrics\": {\"update.time\": {\"count\": 1, \"max\": 2400.876998901367, \"sum\": 2400.876998901367, \"min\": 2400.876998901367}}, \"EndTime\": 1611246849.178309, \"Dimensions\": {\"Host\": \"algo-1\", \"Operation\": \"training\", \"Algorithm\": \"factorization-machines\"}, \"StartTime\": 1611246846.776163}\n",
      "\u001b[0m\n",
      "\u001b[34m[01/21/2021 16:34:09 INFO 140277710636864] #progress_metric: host=algo-1, completed 20 % of epochs\u001b[0m\n",
      "\u001b[34m#metrics {\"Metrics\": {\"Max Batches Seen Between Resets\": {\"count\": 1, \"max\": 816, \"sum\": 816.0, \"min\": 816}, \"Number of Batches Since Last Reset\": {\"count\": 1, \"max\": 816, \"sum\": 816.0, \"min\": 816}, \"Number of Records Since Last Reset\": {\"count\": 1, \"max\": 163064, \"sum\": 163064.0, \"min\": 163064}, \"Total Batches Seen\": {\"count\": 1, \"max\": 4081, \"sum\": 4081.0, \"min\": 4081}, \"Total Records Seen\": {\"count\": 1, \"max\": 815520, \"sum\": 815520.0, \"min\": 815520}, \"Max Records Seen Between Resets\": {\"count\": 1, \"max\": 163064, \"sum\": 163064.0, \"min\": 163064}, \"Reset Count\": {\"count\": 1, \"max\": 6, \"sum\": 6.0, \"min\": 6}}, \"EndTime\": 1611246849.178565, \"Dimensions\": {\"Host\": \"algo-1\", \"Meta\": \"training_data_iter\", \"Operation\": \"training\", \"Algorithm\": \"factorization-machines\", \"epoch\": 4}, \"StartTime\": 1611246846.777394}\n",
      "\u001b[0m\n",
      "\u001b[34m[01/21/2021 16:34:09 INFO 140277710636864] #throughput_metric: host=algo-1, train throughput=67905.8440048 records/second\u001b[0m\n",
      "\u001b[34m[01/21/2021 16:34:09 INFO 140277710636864] #quality_metric: host=algo-1, epoch=5, batch=0 train rmse <loss>=1.05101316708\u001b[0m\n",
      "\u001b[34m[01/21/2021 16:34:09 INFO 140277710636864] #quality_metric: host=algo-1, epoch=5, batch=0 train mse <loss>=1.10462867737\u001b[0m\n",
      "\u001b[34m[01/21/2021 16:34:09 INFO 140277710636864] #quality_metric: host=algo-1, epoch=5, batch=0 train absolute_loss <loss>=0.902889556885\u001b[0m\n",
      "\u001b[34m[01/21/2021 16:34:10 INFO 140277710636864] Iter[5] Batch [500]#011Speed: 71332.02 samples/sec\u001b[0m\n",
      "\u001b[34m[01/21/2021 16:34:10 INFO 140277710636864] #quality_metric: host=algo-1, epoch=5, batch=500 train rmse <loss>=1.07076136063\u001b[0m\n",
      "\u001b[34m[01/21/2021 16:34:10 INFO 140277710636864] #quality_metric: host=algo-1, epoch=5, batch=500 train mse <loss>=1.14652989142\u001b[0m\n",
      "\u001b[34m[01/21/2021 16:34:10 INFO 140277710636864] #quality_metric: host=algo-1, epoch=5, batch=500 train absolute_loss <loss>=0.853416419876\u001b[0m\n",
      "\u001b[34m[2021-01-21 16:34:11.522] [tensorio] [info] epoch_stats={\"data_pipeline\": \"/opt/ml/input/data/train\", \"epoch\": 12, \"duration\": 2341, \"num_examples\": 816, \"num_bytes\": 10436096}\u001b[0m\n",
      "\u001b[34m[01/21/2021 16:34:11 INFO 140277710636864] #quality_metric: host=algo-1, epoch=5, train rmse <loss>=1.09776872699\u001b[0m\n",
      "\u001b[34m[01/21/2021 16:34:11 INFO 140277710636864] #quality_metric: host=algo-1, epoch=5, train mse <loss>=1.20509617796\u001b[0m\n",
      "\u001b[34m[01/21/2021 16:34:11 INFO 140277710636864] #quality_metric: host=algo-1, epoch=5, train absolute_loss <loss>=0.876725052104\u001b[0m\n",
      "\u001b[34m#metrics {\"Metrics\": {\"update.time\": {\"count\": 1, \"max\": 2343.4109687805176, \"sum\": 2343.4109687805176, \"min\": 2343.4109687805176}}, \"EndTime\": 1611246851.522924, \"Dimensions\": {\"Host\": \"algo-1\", \"Operation\": \"training\", \"Algorithm\": \"factorization-machines\"}, \"StartTime\": 1611246849.178388}\n",
      "\u001b[0m\n",
      "\u001b[34m[01/21/2021 16:34:11 INFO 140277710636864] #progress_metric: host=algo-1, completed 24 % of epochs\u001b[0m\n",
      "\u001b[34m#metrics {\"Metrics\": {\"Max Batches Seen Between Resets\": {\"count\": 1, \"max\": 816, \"sum\": 816.0, \"min\": 816}, \"Number of Batches Since Last Reset\": {\"count\": 1, \"max\": 816, \"sum\": 816.0, \"min\": 816}, \"Number of Records Since Last Reset\": {\"count\": 1, \"max\": 163064, \"sum\": 163064.0, \"min\": 163064}, \"Total Batches Seen\": {\"count\": 1, \"max\": 4897, \"sum\": 4897.0, \"min\": 4897}, \"Total Records Seen\": {\"count\": 1, \"max\": 978584, \"sum\": 978584.0, \"min\": 978584}, \"Max Records Seen Between Resets\": {\"count\": 1, \"max\": 163064, \"sum\": 163064.0, \"min\": 163064}, \"Reset Count\": {\"count\": 1, \"max\": 7, \"sum\": 7.0, \"min\": 7}}, \"EndTime\": 1611246851.523221, \"Dimensions\": {\"Host\": \"algo-1\", \"Meta\": \"training_data_iter\", \"Operation\": \"training\", \"Algorithm\": \"factorization-machines\", \"epoch\": 5}, \"StartTime\": 1611246849.179474}\n",
      "\u001b[0m\n",
      "\u001b[34m[01/21/2021 16:34:11 INFO 140277710636864] #throughput_metric: host=algo-1, train throughput=69569.6705217 records/second\u001b[0m\n",
      "\u001b[34m[01/21/2021 16:34:11 INFO 140277710636864] #quality_metric: host=algo-1, epoch=6, batch=0 train rmse <loss>=1.04566058876\u001b[0m\n",
      "\u001b[34m[01/21/2021 16:34:11 INFO 140277710636864] #quality_metric: host=algo-1, epoch=6, batch=0 train mse <loss>=1.09340606689\u001b[0m\n",
      "\u001b[34m[01/21/2021 16:34:11 INFO 140277710636864] #quality_metric: host=algo-1, epoch=6, batch=0 train absolute_loss <loss>=0.899507522583\u001b[0m\n",
      "\u001b[34m[01/21/2021 16:34:12 INFO 140277710636864] Iter[6] Batch [500]#011Speed: 72404.54 samples/sec\u001b[0m\n",
      "\u001b[34m[01/21/2021 16:34:12 INFO 140277710636864] #quality_metric: host=algo-1, epoch=6, batch=500 train rmse <loss>=1.06079097522\u001b[0m\n",
      "\u001b[34m[01/21/2021 16:34:12 INFO 140277710636864] #quality_metric: host=algo-1, epoch=6, batch=500 train mse <loss>=1.12527749311\u001b[0m\n",
      "\u001b[34m[01/21/2021 16:34:12 INFO 140277710636864] #quality_metric: host=algo-1, epoch=6, batch=500 train absolute_loss <loss>=0.844653971628\u001b[0m\n",
      "\u001b[34m[2021-01-21 16:34:13.782] [tensorio] [info] epoch_stats={\"data_pipeline\": \"/opt/ml/input/data/train\", \"epoch\": 14, \"duration\": 2255, \"num_examples\": 816, \"num_bytes\": 10436096}\u001b[0m\n",
      "\u001b[34m[01/21/2021 16:34:13 INFO 140277710636864] #quality_metric: host=algo-1, epoch=6, train rmse <loss>=1.08797680807\u001b[0m\n",
      "\u001b[34m[01/21/2021 16:34:13 INFO 140277710636864] #quality_metric: host=algo-1, epoch=6, train mse <loss>=1.18369353491\u001b[0m\n",
      "\u001b[34m[01/21/2021 16:34:13 INFO 140277710636864] #quality_metric: host=algo-1, epoch=6, train absolute_loss <loss>=0.868335187201\u001b[0m\n",
      "\u001b[34m#metrics {\"Metrics\": {\"update.time\": {\"count\": 1, \"max\": 2258.2571506500244, \"sum\": 2258.2571506500244, \"min\": 2258.2571506500244}}, \"EndTime\": 1611246853.782763, \"Dimensions\": {\"Host\": \"algo-1\", \"Operation\": \"training\", \"Algorithm\": \"factorization-machines\"}, \"StartTime\": 1611246851.523024}\n",
      "\u001b[0m\n",
      "\u001b[34m[01/21/2021 16:34:13 INFO 140277710636864] #progress_metric: host=algo-1, completed 28 % of epochs\u001b[0m\n",
      "\u001b[34m#metrics {\"Metrics\": {\"Max Batches Seen Between Resets\": {\"count\": 1, \"max\": 816, \"sum\": 816.0, \"min\": 816}, \"Number of Batches Since Last Reset\": {\"count\": 1, \"max\": 816, \"sum\": 816.0, \"min\": 816}, \"Number of Records Since Last Reset\": {\"count\": 1, \"max\": 163064, \"sum\": 163064.0, \"min\": 163064}, \"Total Batches Seen\": {\"count\": 1, \"max\": 5713, \"sum\": 5713.0, \"min\": 5713}, \"Total Records Seen\": {\"count\": 1, \"max\": 1141648, \"sum\": 1141648.0, \"min\": 1141648}, \"Max Records Seen Between Resets\": {\"count\": 1, \"max\": 163064, \"sum\": 163064.0, \"min\": 163064}, \"Reset Count\": {\"count\": 1, \"max\": 8, \"sum\": 8.0, \"min\": 8}}, \"EndTime\": 1611246853.783062, \"Dimensions\": {\"Host\": \"algo-1\", \"Meta\": \"training_data_iter\", \"Operation\": \"training\", \"Algorithm\": \"factorization-machines\", \"epoch\": 6}, \"StartTime\": 1611246851.524463}\n",
      "\u001b[0m\n",
      "\u001b[34m[01/21/2021 16:34:13 INFO 140277710636864] #throughput_metric: host=algo-1, train throughput=72191.2132477 records/second\u001b[0m\n",
      "\u001b[34m[01/21/2021 16:34:13 INFO 140277710636864] #quality_metric: host=algo-1, epoch=7, batch=0 train rmse <loss>=1.04062104096\u001b[0m\n",
      "\u001b[34m[01/21/2021 16:34:13 INFO 140277710636864] #quality_metric: host=algo-1, epoch=7, batch=0 train mse <loss>=1.08289215088\u001b[0m\n",
      "\u001b[34m[01/21/2021 16:34:13 INFO 140277710636864] #quality_metric: host=algo-1, epoch=7, batch=0 train absolute_loss <loss>=0.89621925354\u001b[0m\n",
      "\u001b[34m[01/21/2021 16:34:15 INFO 140277710636864] Iter[7] Batch [500]#011Speed: 68391.96 samples/sec\u001b[0m\n",
      "\u001b[34m[01/21/2021 16:34:15 INFO 140277710636864] #quality_metric: host=algo-1, epoch=7, batch=500 train rmse <loss>=1.05180039455\u001b[0m\n",
      "\u001b[34m[01/21/2021 16:34:15 INFO 140277710636864] #quality_metric: host=algo-1, epoch=7, batch=500 train mse <loss>=1.10628406997\u001b[0m\n",
      "\u001b[34m[01/21/2021 16:34:15 INFO 140277710636864] #quality_metric: host=algo-1, epoch=7, batch=500 train absolute_loss <loss>=0.836695181719\u001b[0m\n",
      "\u001b[34m[2021-01-21 16:34:16.121] [tensorio] [info] epoch_stats={\"data_pipeline\": \"/opt/ml/input/data/train\", \"epoch\": 16, \"duration\": 2336, \"num_examples\": 816, \"num_bytes\": 10436096}\u001b[0m\n",
      "\u001b[34m[01/21/2021 16:34:16 INFO 140277710636864] #quality_metric: host=algo-1, epoch=7, train rmse <loss>=1.07913046105\u001b[0m\n",
      "\u001b[34m[01/21/2021 16:34:16 INFO 140277710636864] #quality_metric: host=algo-1, epoch=7, train mse <loss>=1.16452255198\u001b[0m\n",
      "\u001b[34m[01/21/2021 16:34:16 INFO 140277710636864] #quality_metric: host=algo-1, epoch=7, train absolute_loss <loss>=0.860666801415\u001b[0m\n",
      "\u001b[34m#metrics {\"Metrics\": {\"update.time\": {\"count\": 1, \"max\": 2338.366985321045, \"sum\": 2338.366985321045, \"min\": 2338.366985321045}}, \"EndTime\": 1611246856.12255, \"Dimensions\": {\"Host\": \"algo-1\", \"Operation\": \"training\", \"Algorithm\": \"factorization-machines\"}, \"StartTime\": 1611246853.782855}\n",
      "\u001b[0m\n",
      "\u001b[34m[01/21/2021 16:34:16 INFO 140277710636864] #progress_metric: host=algo-1, completed 32 % of epochs\u001b[0m\n",
      "\u001b[34m#metrics {\"Metrics\": {\"Max Batches Seen Between Resets\": {\"count\": 1, \"max\": 816, \"sum\": 816.0, \"min\": 816}, \"Number of Batches Since Last Reset\": {\"count\": 1, \"max\": 816, \"sum\": 816.0, \"min\": 816}, \"Number of Records Since Last Reset\": {\"count\": 1, \"max\": 163064, \"sum\": 163064.0, \"min\": 163064}, \"Total Batches Seen\": {\"count\": 1, \"max\": 6529, \"sum\": 6529.0, \"min\": 6529}, \"Total Records Seen\": {\"count\": 1, \"max\": 1304712, \"sum\": 1304712.0, \"min\": 1304712}, \"Max Records Seen Between Resets\": {\"count\": 1, \"max\": 163064, \"sum\": 163064.0, \"min\": 163064}, \"Reset Count\": {\"count\": 1, \"max\": 9, \"sum\": 9.0, \"min\": 9}}, \"EndTime\": 1611246856.122855, \"Dimensions\": {\"Host\": \"algo-1\", \"Meta\": \"training_data_iter\", \"Operation\": \"training\", \"Algorithm\": \"factorization-machines\", \"epoch\": 7}, \"StartTime\": 1611246853.784143}\n",
      "\u001b[0m\n",
      "\u001b[34m[01/21/2021 16:34:16 INFO 140277710636864] #throughput_metric: host=algo-1, train throughput=69719.6765637 records/second\u001b[0m\n",
      "\u001b[34m[01/21/2021 16:34:16 INFO 140277710636864] #quality_metric: host=algo-1, epoch=8, batch=0 train rmse <loss>=1.03582496089\u001b[0m\n",
      "\u001b[34m[01/21/2021 16:34:16 INFO 140277710636864] #quality_metric: host=algo-1, epoch=8, batch=0 train mse <loss>=1.07293334961\u001b[0m\n",
      "\u001b[34m[01/21/2021 16:34:16 INFO 140277710636864] #quality_metric: host=algo-1, epoch=8, batch=0 train absolute_loss <loss>=0.892967071533\u001b[0m\n",
      "\u001b[34m[01/21/2021 16:34:17 INFO 140277710636864] Iter[8] Batch [500]#011Speed: 71721.82 samples/sec\u001b[0m\n",
      "\u001b[34m[01/21/2021 16:34:17 INFO 140277710636864] #quality_metric: host=algo-1, epoch=8, batch=500 train rmse <loss>=1.04361103809\u001b[0m\n",
      "\u001b[34m[01/21/2021 16:34:17 INFO 140277710636864] #quality_metric: host=algo-1, epoch=8, batch=500 train mse <loss>=1.08912399882\u001b[0m\n",
      "\u001b[34m[01/21/2021 16:34:17 INFO 140277710636864] #quality_metric: host=algo-1, epoch=8, batch=500 train absolute_loss <loss>=0.829384487023\u001b[0m\n",
      "\u001b[34m[2021-01-21 16:34:18.391] [tensorio] [info] epoch_stats={\"data_pipeline\": \"/opt/ml/input/data/train\", \"epoch\": 18, \"duration\": 2263, \"num_examples\": 816, \"num_bytes\": 10436096}\u001b[0m\n",
      "\u001b[34m[01/21/2021 16:34:18 INFO 140277710636864] #quality_metric: host=algo-1, epoch=8, train rmse <loss>=1.0710534989\u001b[0m\n",
      "\u001b[34m[01/21/2021 16:34:18 INFO 140277710636864] #quality_metric: host=algo-1, epoch=8, train mse <loss>=1.14715559751\u001b[0m\n",
      "\u001b[34m[01/21/2021 16:34:18 INFO 140277710636864] #quality_metric: host=algo-1, epoch=8, train absolute_loss <loss>=0.853582149721\u001b[0m\n",
      "\u001b[34m#metrics {\"Metrics\": {\"update.time\": {\"count\": 1, \"max\": 2267.9829597473145, \"sum\": 2267.9829597473145, \"min\": 2267.9829597473145}}, \"EndTime\": 1611246858.39205, \"Dimensions\": {\"Host\": \"algo-1\", \"Operation\": \"training\", \"Algorithm\": \"factorization-machines\"}, \"StartTime\": 1611246856.122656}\n",
      "\u001b[0m\n",
      "\u001b[34m[01/21/2021 16:34:18 INFO 140277710636864] #progress_metric: host=algo-1, completed 36 % of epochs\u001b[0m\n",
      "\u001b[34m#metrics {\"Metrics\": {\"Max Batches Seen Between Resets\": {\"count\": 1, \"max\": 816, \"sum\": 816.0, \"min\": 816}, \"Number of Batches Since Last Reset\": {\"count\": 1, \"max\": 816, \"sum\": 816.0, \"min\": 816}, \"Number of Records Since Last Reset\": {\"count\": 1, \"max\": 163064, \"sum\": 163064.0, \"min\": 163064}, \"Total Batches Seen\": {\"count\": 1, \"max\": 7345, \"sum\": 7345.0, \"min\": 7345}, \"Total Records Seen\": {\"count\": 1, \"max\": 1467776, \"sum\": 1467776.0, \"min\": 1467776}, \"Max Records Seen Between Resets\": {\"count\": 1, \"max\": 163064, \"sum\": 163064.0, \"min\": 163064}, \"Reset Count\": {\"count\": 1, \"max\": 10, \"sum\": 10.0, \"min\": 10}}, \"EndTime\": 1611246858.392284, \"Dimensions\": {\"Host\": \"algo-1\", \"Meta\": \"training_data_iter\", \"Operation\": \"training\", \"Algorithm\": \"factorization-machines\", \"epoch\": 8}, \"StartTime\": 1611246856.12403}\n",
      "\u001b[0m\n",
      "\u001b[34m[01/21/2021 16:34:18 INFO 140277710636864] #throughput_metric: host=algo-1, train throughput=71885.0910016 records/second\u001b[0m\n",
      "\u001b[34m[01/21/2021 16:34:18 INFO 140277710636864] #quality_metric: host=algo-1, epoch=9, batch=0 train rmse <loss>=1.03122602955\u001b[0m\n",
      "\u001b[34m[01/21/2021 16:34:18 INFO 140277710636864] #quality_metric: host=algo-1, epoch=9, batch=0 train mse <loss>=1.06342712402\u001b[0m\n",
      "\u001b[34m[01/21/2021 16:34:18 INFO 140277710636864] #quality_metric: host=algo-1, epoch=9, batch=0 train absolute_loss <loss>=0.889727630615\u001b[0m\n",
      "\u001b[34m[01/21/2021 16:34:19 INFO 140277710636864] Iter[9] Batch [500]#011Speed: 70371.39 samples/sec\u001b[0m\n",
      "\u001b[34m[01/21/2021 16:34:19 INFO 140277710636864] #quality_metric: host=algo-1, epoch=9, batch=500 train rmse <loss>=1.0360847308\u001b[0m\n",
      "\u001b[34m[01/21/2021 16:34:19 INFO 140277710636864] #quality_metric: host=algo-1, epoch=9, batch=500 train mse <loss>=1.0734715694\u001b[0m\n",
      "\u001b[34m[01/21/2021 16:34:19 INFO 140277710636864] #quality_metric: host=algo-1, epoch=9, batch=500 train absolute_loss <loss>=0.822612678695\u001b[0m\n",
      "\u001b[34m[2021-01-21 16:34:20.690] [tensorio] [info] epoch_stats={\"data_pipeline\": \"/opt/ml/input/data/train\", \"epoch\": 20, \"duration\": 2295, \"num_examples\": 816, \"num_bytes\": 10436096}\u001b[0m\n",
      "\u001b[34m[01/21/2021 16:34:20 INFO 140277710636864] #quality_metric: host=algo-1, epoch=9, train rmse <loss>=1.06361138828\u001b[0m\n",
      "\u001b[34m[01/21/2021 16:34:20 INFO 140277710636864] #quality_metric: host=algo-1, epoch=9, train mse <loss>=1.13126918529\u001b[0m\n",
      "\u001b[34m[01/21/2021 16:34:20 INFO 140277710636864] #quality_metric: host=algo-1, epoch=9, train absolute_loss <loss>=0.846980798759\u001b[0m\n",
      "\u001b[34m#metrics {\"Metrics\": {\"update.time\": {\"count\": 1, \"max\": 2297.689914703369, \"sum\": 2297.689914703369, \"min\": 2297.689914703369}}, \"EndTime\": 1611246860.691077, \"Dimensions\": {\"Host\": \"algo-1\", \"Operation\": \"training\", \"Algorithm\": \"factorization-machines\"}, \"StartTime\": 1611246858.392132}\n",
      "\u001b[0m\n",
      "\u001b[34m[01/21/2021 16:34:20 INFO 140277710636864] #progress_metric: host=algo-1, completed 40 % of epochs\u001b[0m\n",
      "\u001b[34m#metrics {\"Metrics\": {\"Max Batches Seen Between Resets\": {\"count\": 1, \"max\": 816, \"sum\": 816.0, \"min\": 816}, \"Number of Batches Since Last Reset\": {\"count\": 1, \"max\": 816, \"sum\": 816.0, \"min\": 816}, \"Number of Records Since Last Reset\": {\"count\": 1, \"max\": 163064, \"sum\": 163064.0, \"min\": 163064}, \"Total Batches Seen\": {\"count\": 1, \"max\": 8161, \"sum\": 8161.0, \"min\": 8161}, \"Total Records Seen\": {\"count\": 1, \"max\": 1630840, \"sum\": 1630840.0, \"min\": 1630840}, \"Max Records Seen Between Resets\": {\"count\": 1, \"max\": 163064, \"sum\": 163064.0, \"min\": 163064}, \"Reset Count\": {\"count\": 1, \"max\": 11, \"sum\": 11.0, \"min\": 11}}, \"EndTime\": 1611246860.691381, \"Dimensions\": {\"Host\": \"algo-1\", \"Meta\": \"training_data_iter\", \"Operation\": \"training\", \"Algorithm\": \"factorization-machines\", \"epoch\": 9}, \"StartTime\": 1611246858.393349}\n",
      "\u001b[0m\n",
      "\u001b[34m[01/21/2021 16:34:20 INFO 140277710636864] #throughput_metric: host=algo-1, train throughput=70953.4456269 records/second\u001b[0m\n",
      "\u001b[34m[01/21/2021 16:34:20 INFO 140277710636864] #quality_metric: host=algo-1, epoch=10, batch=0 train rmse <loss>=1.02679052506\u001b[0m\n",
      "\u001b[34m[01/21/2021 16:34:20 INFO 140277710636864] #quality_metric: host=algo-1, epoch=10, batch=0 train mse <loss>=1.05429878235\u001b[0m\n",
      "\u001b[34m[01/21/2021 16:34:20 INFO 140277710636864] #quality_metric: host=algo-1, epoch=10, batch=0 train absolute_loss <loss>=0.886535263062\u001b[0m\n",
      "\u001b[34m[01/21/2021 16:34:22 INFO 140277710636864] Iter[10] Batch [500]#011Speed: 73677.85 samples/sec\u001b[0m\n",
      "\u001b[34m[01/21/2021 16:34:22 INFO 140277710636864] #quality_metric: host=algo-1, epoch=10, batch=500 train rmse <loss>=1.02911456493\u001b[0m\n",
      "\u001b[34m[01/21/2021 16:34:22 INFO 140277710636864] #quality_metric: host=algo-1, epoch=10, batch=500 train mse <loss>=1.05907678775\u001b[0m\n",
      "\u001b[34m[01/21/2021 16:34:22 INFO 140277710636864] #quality_metric: host=algo-1, epoch=10, batch=500 train absolute_loss <loss>=0.816287439769\u001b[0m\n",
      "\u001b[34m[2021-01-21 16:34:22.931] [tensorio] [info] epoch_stats={\"data_pipeline\": \"/opt/ml/input/data/train\", \"epoch\": 22, \"duration\": 2237, \"num_examples\": 816, \"num_bytes\": 10436096}\u001b[0m\n",
      "\u001b[34m[01/21/2021 16:34:22 INFO 140277710636864] #quality_metric: host=algo-1, epoch=10, train rmse <loss>=1.05670088014\u001b[0m\n",
      "\u001b[34m[01/21/2021 16:34:22 INFO 140277710636864] #quality_metric: host=algo-1, epoch=10, train mse <loss>=1.11661675009\u001b[0m\n",
      "\u001b[34m[01/21/2021 16:34:22 INFO 140277710636864] #quality_metric: host=algo-1, epoch=10, train absolute_loss <loss>=0.840779933368\u001b[0m\n",
      "\u001b[34m#metrics {\"Metrics\": {\"update.time\": {\"count\": 1, \"max\": 2239.3081188201904, \"sum\": 2239.3081188201904, \"min\": 2239.3081188201904}}, \"EndTime\": 1611246862.931738, \"Dimensions\": {\"Host\": \"algo-1\", \"Operation\": \"training\", \"Algorithm\": \"factorization-machines\"}, \"StartTime\": 1611246860.691179}\n",
      "\u001b[0m\n",
      "\u001b[34m[01/21/2021 16:34:22 INFO 140277710636864] #progress_metric: host=algo-1, completed 44 % of epochs\u001b[0m\n",
      "\u001b[34m#metrics {\"Metrics\": {\"Max Batches Seen Between Resets\": {\"count\": 1, \"max\": 816, \"sum\": 816.0, \"min\": 816}, \"Number of Batches Since Last Reset\": {\"count\": 1, \"max\": 816, \"sum\": 816.0, \"min\": 816}, \"Number of Records Since Last Reset\": {\"count\": 1, \"max\": 163064, \"sum\": 163064.0, \"min\": 163064}, \"Total Batches Seen\": {\"count\": 1, \"max\": 8977, \"sum\": 8977.0, \"min\": 8977}, \"Total Records Seen\": {\"count\": 1, \"max\": 1793904, \"sum\": 1793904.0, \"min\": 1793904}, \"Max Records Seen Between Resets\": {\"count\": 1, \"max\": 163064, \"sum\": 163064.0, \"min\": 163064}, \"Reset Count\": {\"count\": 1, \"max\": 12, \"sum\": 12.0, \"min\": 12}}, \"EndTime\": 1611246862.931978, \"Dimensions\": {\"Host\": \"algo-1\", \"Meta\": \"training_data_iter\", \"Operation\": \"training\", \"Algorithm\": \"factorization-machines\", \"epoch\": 10}, \"StartTime\": 1611246860.692397}\n",
      "\u001b[0m\n",
      "\u001b[34m[01/21/2021 16:34:22 INFO 140277710636864] #throughput_metric: host=algo-1, train throughput=72806.1148298 records/second\u001b[0m\n",
      "\u001b[34m[01/21/2021 16:34:22 INFO 140277710636864] #quality_metric: host=algo-1, epoch=11, batch=0 train rmse <loss>=1.02249181021\u001b[0m\n",
      "\u001b[34m[01/21/2021 16:34:22 INFO 140277710636864] #quality_metric: host=algo-1, epoch=11, batch=0 train mse <loss>=1.04548950195\u001b[0m\n",
      "\u001b[34m[01/21/2021 16:34:22 INFO 140277710636864] #quality_metric: host=algo-1, epoch=11, batch=0 train absolute_loss <loss>=0.883318634033\u001b[0m\n",
      "\u001b[34m[01/21/2021 16:34:24 INFO 140277710636864] Iter[11] Batch [500]#011Speed: 69703.17 samples/sec\u001b[0m\n",
      "\u001b[34m[01/21/2021 16:34:24 INFO 140277710636864] #quality_metric: host=algo-1, epoch=11, batch=500 train rmse <loss>=1.02261701246\u001b[0m\n",
      "\u001b[34m[01/21/2021 16:34:24 INFO 140277710636864] #quality_metric: host=algo-1, epoch=11, batch=500 train mse <loss>=1.04574555418\u001b[0m\n",
      "\u001b[34m[01/21/2021 16:34:24 INFO 140277710636864] #quality_metric: host=algo-1, epoch=11, batch=500 train absolute_loss <loss>=0.810344046633\u001b[0m\n",
      "\u001b[34m[2021-01-21 16:34:25.251] [tensorio] [info] epoch_stats={\"data_pipeline\": \"/opt/ml/input/data/train\", \"epoch\": 24, \"duration\": 2317, \"num_examples\": 816, \"num_bytes\": 10436096}\u001b[0m\n",
      "\u001b[34m[01/21/2021 16:34:25 INFO 140277710636864] #quality_metric: host=algo-1, epoch=11, train rmse <loss>=1.05024169581\u001b[0m\n",
      "\u001b[34m[01/21/2021 16:34:25 INFO 140277710636864] #quality_metric: host=algo-1, epoch=11, train mse <loss>=1.10300761961\u001b[0m\n",
      "\u001b[34m[01/21/2021 16:34:25 INFO 140277710636864] #quality_metric: host=algo-1, epoch=11, train absolute_loss <loss>=0.834924922691\u001b[0m\n",
      "\u001b[34m#metrics {\"Metrics\": {\"update.time\": {\"count\": 1, \"max\": 2319.554090499878, \"sum\": 2319.554090499878, \"min\": 2319.554090499878}}, \"EndTime\": 1611246865.252584, \"Dimensions\": {\"Host\": \"algo-1\", \"Operation\": \"training\", \"Algorithm\": \"factorization-machines\"}, \"StartTime\": 1611246862.931826}\n",
      "\u001b[0m\n",
      "\u001b[34m[01/21/2021 16:34:25 INFO 140277710636864] #progress_metric: host=algo-1, completed 48 % of epochs\u001b[0m\n",
      "\u001b[34m#metrics {\"Metrics\": {\"Max Batches Seen Between Resets\": {\"count\": 1, \"max\": 816, \"sum\": 816.0, \"min\": 816}, \"Number of Batches Since Last Reset\": {\"count\": 1, \"max\": 816, \"sum\": 816.0, \"min\": 816}, \"Number of Records Since Last Reset\": {\"count\": 1, \"max\": 163064, \"sum\": 163064.0, \"min\": 163064}, \"Total Batches Seen\": {\"count\": 1, \"max\": 9793, \"sum\": 9793.0, \"min\": 9793}, \"Total Records Seen\": {\"count\": 1, \"max\": 1956968, \"sum\": 1956968.0, \"min\": 1956968}, \"Max Records Seen Between Resets\": {\"count\": 1, \"max\": 163064, \"sum\": 163064.0, \"min\": 163064}, \"Reset Count\": {\"count\": 1, \"max\": 13, \"sum\": 13.0, \"min\": 13}}, \"EndTime\": 1611246865.252853, \"Dimensions\": {\"Host\": \"algo-1\", \"Meta\": \"training_data_iter\", \"Operation\": \"training\", \"Algorithm\": \"factorization-machines\", \"epoch\": 11}, \"StartTime\": 1611246862.932997}\n",
      "\u001b[0m\n",
      "\u001b[34m[01/21/2021 16:34:25 INFO 140277710636864] #throughput_metric: host=algo-1, train throughput=70286.6350831 records/second\u001b[0m\n",
      "\u001b[34m[01/21/2021 16:34:25 INFO 140277710636864] #quality_metric: host=algo-1, epoch=12, batch=0 train rmse <loss>=1.01831007744\u001b[0m\n",
      "\u001b[34m[01/21/2021 16:34:25 INFO 140277710636864] #quality_metric: host=algo-1, epoch=12, batch=0 train mse <loss>=1.03695541382\u001b[0m\n",
      "\u001b[34m[01/21/2021 16:34:25 INFO 140277710636864] #quality_metric: host=algo-1, epoch=12, batch=0 train absolute_loss <loss>=0.88006477356\u001b[0m\n",
      "\u001b[34m[01/21/2021 16:34:26 INFO 140277710636864] Iter[12] Batch [500]#011Speed: 72726.06 samples/sec\u001b[0m\n",
      "\u001b[34m[01/21/2021 16:34:26 INFO 140277710636864] #quality_metric: host=algo-1, epoch=12, batch=500 train rmse <loss>=1.01652586129\u001b[0m\n",
      "\u001b[34m[01/21/2021 16:34:26 INFO 140277710636864] #quality_metric: host=algo-1, epoch=12, batch=500 train mse <loss>=1.03332482667\u001b[0m\n",
      "\u001b[34m[01/21/2021 16:34:26 INFO 140277710636864] #quality_metric: host=algo-1, epoch=12, batch=500 train absolute_loss <loss>=0.804720630912\u001b[0m\n",
      "\u001b[34m[2021-01-21 16:34:27.498] [tensorio] [info] epoch_stats={\"data_pipeline\": \"/opt/ml/input/data/train\", \"epoch\": 26, \"duration\": 2242, \"num_examples\": 816, \"num_bytes\": 10436096}\u001b[0m\n",
      "\u001b[34m[01/21/2021 16:34:27 INFO 140277710636864] #quality_metric: host=algo-1, epoch=12, train rmse <loss>=1.04417046444\u001b[0m\n",
      "\u001b[34m[01/21/2021 16:34:27 INFO 140277710636864] #quality_metric: host=algo-1, epoch=12, train mse <loss>=1.09029195881\u001b[0m\n",
      "\u001b[34m[01/21/2021 16:34:27 INFO 140277710636864] #quality_metric: host=algo-1, epoch=12, train absolute_loss <loss>=0.829363505981\u001b[0m\n",
      "\u001b[34m#metrics {\"Metrics\": {\"update.time\": {\"count\": 1, \"max\": 2244.684934616089, \"sum\": 2244.684934616089, \"min\": 2244.684934616089}}, \"EndTime\": 1611246867.498717, \"Dimensions\": {\"Host\": \"algo-1\", \"Operation\": \"training\", \"Algorithm\": \"factorization-machines\"}, \"StartTime\": 1611246865.252676}\n",
      "\u001b[0m\n",
      "\u001b[34m[01/21/2021 16:34:27 INFO 140277710636864] #progress_metric: host=algo-1, completed 52 % of epochs\u001b[0m\n",
      "\u001b[34m#metrics {\"Metrics\": {\"Max Batches Seen Between Resets\": {\"count\": 1, \"max\": 816, \"sum\": 816.0, \"min\": 816}, \"Number of Batches Since Last Reset\": {\"count\": 1, \"max\": 816, \"sum\": 816.0, \"min\": 816}, \"Number of Records Since Last Reset\": {\"count\": 1, \"max\": 163064, \"sum\": 163064.0, \"min\": 163064}, \"Total Batches Seen\": {\"count\": 1, \"max\": 10609, \"sum\": 10609.0, \"min\": 10609}, \"Total Records Seen\": {\"count\": 1, \"max\": 2120032, \"sum\": 2120032.0, \"min\": 2120032}, \"Max Records Seen Between Resets\": {\"count\": 1, \"max\": 163064, \"sum\": 163064.0, \"min\": 163064}, \"Reset Count\": {\"count\": 1, \"max\": 14, \"sum\": 14.0, \"min\": 14}}, \"EndTime\": 1611246867.498956, \"Dimensions\": {\"Host\": \"algo-1\", \"Meta\": \"training_data_iter\", \"Operation\": \"training\", \"Algorithm\": \"factorization-machines\", \"epoch\": 12}, \"StartTime\": 1611246865.253994}\n",
      "\u001b[0m\n",
      "\u001b[34m[01/21/2021 16:34:27 INFO 140277710636864] #throughput_metric: host=algo-1, train throughput=72631.031661 records/second\u001b[0m\n",
      "\u001b[34m[01/21/2021 16:34:27 INFO 140277710636864] #quality_metric: host=algo-1, epoch=13, batch=0 train rmse <loss>=1.01422864496\u001b[0m\n",
      "\u001b[34m[01/21/2021 16:34:27 INFO 140277710636864] #quality_metric: host=algo-1, epoch=13, batch=0 train mse <loss>=1.02865974426\u001b[0m\n",
      "\u001b[34m[01/21/2021 16:34:27 INFO 140277710636864] #quality_metric: host=algo-1, epoch=13, batch=0 train absolute_loss <loss>=0.876778182983\u001b[0m\n",
      "\u001b[34m[01/21/2021 16:34:28 INFO 140277710636864] Iter[13] Batch [500]#011Speed: 72079.76 samples/sec\u001b[0m\n",
      "\u001b[34m[01/21/2021 16:34:28 INFO 140277710636864] #quality_metric: host=algo-1, epoch=13, batch=500 train rmse <loss>=1.01078775811\u001b[0m\n",
      "\u001b[34m[01/21/2021 16:34:28 INFO 140277710636864] #quality_metric: host=algo-1, epoch=13, batch=500 train mse <loss>=1.02169189194\u001b[0m\n",
      "\u001b[34m[01/21/2021 16:34:28 INFO 140277710636864] #quality_metric: host=algo-1, epoch=13, batch=500 train absolute_loss <loss>=0.799382985509\u001b[0m\n",
      "\u001b[34m[2021-01-21 16:34:29.878] [tensorio] [info] epoch_stats={\"data_pipeline\": \"/opt/ml/input/data/train\", \"epoch\": 28, \"duration\": 2376, \"num_examples\": 816, \"num_bytes\": 10436096}\u001b[0m\n",
      "\u001b[34m[01/21/2021 16:34:29 INFO 140277710636864] #quality_metric: host=algo-1, epoch=13, train rmse <loss>=1.03843625453\u001b[0m\n",
      "\u001b[34m[01/21/2021 16:34:29 INFO 140277710636864] #quality_metric: host=algo-1, epoch=13, train mse <loss>=1.07834985471\u001b[0m\n",
      "\u001b[34m[01/21/2021 16:34:29 INFO 140277710636864] #quality_metric: host=algo-1, epoch=13, train absolute_loss <loss>=0.824062984083\u001b[0m\n",
      "\u001b[34m#metrics {\"Metrics\": {\"update.time\": {\"count\": 1, \"max\": 2379.034996032715, \"sum\": 2379.034996032715, \"min\": 2379.034996032715}}, \"EndTime\": 1611246869.878979, \"Dimensions\": {\"Host\": \"algo-1\", \"Operation\": \"training\", \"Algorithm\": \"factorization-machines\"}, \"StartTime\": 1611246867.498801}\n",
      "\u001b[0m\n",
      "\u001b[34m[01/21/2021 16:34:29 INFO 140277710636864] #progress_metric: host=algo-1, completed 56 % of epochs\u001b[0m\n",
      "\u001b[34m#metrics {\"Metrics\": {\"Max Batches Seen Between Resets\": {\"count\": 1, \"max\": 816, \"sum\": 816.0, \"min\": 816}, \"Number of Batches Since Last Reset\": {\"count\": 1, \"max\": 816, \"sum\": 816.0, \"min\": 816}, \"Number of Records Since Last Reset\": {\"count\": 1, \"max\": 163064, \"sum\": 163064.0, \"min\": 163064}, \"Total Batches Seen\": {\"count\": 1, \"max\": 11425, \"sum\": 11425.0, \"min\": 11425}, \"Total Records Seen\": {\"count\": 1, \"max\": 2283096, \"sum\": 2283096.0, \"min\": 2283096}, \"Max Records Seen Between Resets\": {\"count\": 1, \"max\": 163064, \"sum\": 163064.0, \"min\": 163064}, \"Reset Count\": {\"count\": 1, \"max\": 15, \"sum\": 15.0, \"min\": 15}}, \"EndTime\": 1611246869.879267, \"Dimensions\": {\"Host\": \"algo-1\", \"Meta\": \"training_data_iter\", \"Operation\": \"training\", \"Algorithm\": \"factorization-machines\", \"epoch\": 13}, \"StartTime\": 1611246867.499906}\n",
      "\u001b[0m\n",
      "\u001b[34m[01/21/2021 16:34:29 INFO 140277710636864] #throughput_metric: host=algo-1, train throughput=68528.7674196 records/second\u001b[0m\n",
      "\u001b[34m[01/21/2021 16:34:29 INFO 140277710636864] #quality_metric: host=algo-1, epoch=14, batch=0 train rmse <loss>=1.01023509698\u001b[0m\n",
      "\u001b[34m[01/21/2021 16:34:29 INFO 140277710636864] #quality_metric: host=algo-1, epoch=14, batch=0 train mse <loss>=1.02057495117\u001b[0m\n",
      "\u001b[34m[01/21/2021 16:34:29 INFO 140277710636864] #quality_metric: host=algo-1, epoch=14, batch=0 train absolute_loss <loss>=0.873463973999\u001b[0m\n",
      "\u001b[34m[01/21/2021 16:34:31 INFO 140277710636864] Iter[14] Batch [500]#011Speed: 71127.20 samples/sec\u001b[0m\n",
      "\u001b[34m[01/21/2021 16:34:31 INFO 140277710636864] #quality_metric: host=algo-1, epoch=14, batch=500 train rmse <loss>=1.00535906532\u001b[0m\n",
      "\u001b[34m[01/21/2021 16:34:31 INFO 140277710636864] #quality_metric: host=algo-1, epoch=14, batch=500 train mse <loss>=1.01074685023\u001b[0m\n",
      "\u001b[34m[01/21/2021 16:34:31 INFO 140277710636864] #quality_metric: host=algo-1, epoch=14, batch=500 train absolute_loss <loss>=0.794297437611\u001b[0m\n",
      "\u001b[34m[2021-01-21 16:34:32.160] [tensorio] [info] epoch_stats={\"data_pipeline\": \"/opt/ml/input/data/train\", \"epoch\": 30, \"duration\": 2277, \"num_examples\": 816, \"num_bytes\": 10436096}\u001b[0m\n",
      "\u001b[34m[01/21/2021 16:34:32 INFO 140277710636864] #quality_metric: host=algo-1, epoch=14, train rmse <loss>=1.03299750928\u001b[0m\n",
      "\u001b[34m[01/21/2021 16:34:32 INFO 140277710636864] #quality_metric: host=algo-1, epoch=14, train mse <loss>=1.06708385418\u001b[0m\n",
      "\u001b[34m[01/21/2021 16:34:32 INFO 140277710636864] #quality_metric: host=algo-1, epoch=14, train absolute_loss <loss>=0.818996269235\u001b[0m\n",
      "\u001b[34m#metrics {\"Metrics\": {\"update.time\": {\"count\": 1, \"max\": 2280.4229259490967, \"sum\": 2280.4229259490967, \"min\": 2280.4229259490967}}, \"EndTime\": 1611246872.160942, \"Dimensions\": {\"Host\": \"algo-1\", \"Operation\": \"training\", \"Algorithm\": \"factorization-machines\"}, \"StartTime\": 1611246869.879067}\n",
      "\u001b[0m\n",
      "\u001b[34m[01/21/2021 16:34:32 INFO 140277710636864] #progress_metric: host=algo-1, completed 60 % of epochs\u001b[0m\n",
      "\u001b[34m#metrics {\"Metrics\": {\"Max Batches Seen Between Resets\": {\"count\": 1, \"max\": 816, \"sum\": 816.0, \"min\": 816}, \"Number of Batches Since Last Reset\": {\"count\": 1, \"max\": 816, \"sum\": 816.0, \"min\": 816}, \"Number of Records Since Last Reset\": {\"count\": 1, \"max\": 163064, \"sum\": 163064.0, \"min\": 163064}, \"Total Batches Seen\": {\"count\": 1, \"max\": 12241, \"sum\": 12241.0, \"min\": 12241}, \"Total Records Seen\": {\"count\": 1, \"max\": 2446160, \"sum\": 2446160.0, \"min\": 2446160}, \"Max Records Seen Between Resets\": {\"count\": 1, \"max\": 163064, \"sum\": 163064.0, \"min\": 163064}, \"Reset Count\": {\"count\": 1, \"max\": 16, \"sum\": 16.0, \"min\": 16}}, \"EndTime\": 1611246872.161221, \"Dimensions\": {\"Host\": \"algo-1\", \"Meta\": \"training_data_iter\", \"Operation\": \"training\", \"Algorithm\": \"factorization-machines\", \"epoch\": 14}, \"StartTime\": 1611246869.880478}\n",
      "\u001b[0m\n",
      "\u001b[34m[01/21/2021 16:34:32 INFO 140277710636864] #throughput_metric: host=algo-1, train throughput=71491.2349654 records/second\u001b[0m\n",
      "\u001b[34m[01/21/2021 16:34:32 INFO 140277710636864] #quality_metric: host=algo-1, epoch=15, batch=0 train rmse <loss>=1.00631978995\u001b[0m\n",
      "\u001b[34m[01/21/2021 16:34:32 INFO 140277710636864] #quality_metric: host=algo-1, epoch=15, batch=0 train mse <loss>=1.01267951965\u001b[0m\n",
      "\u001b[34m[01/21/2021 16:34:32 INFO 140277710636864] #quality_metric: host=algo-1, epoch=15, batch=0 train absolute_loss <loss>=0.870126953125\u001b[0m\n",
      "\u001b[34m[01/21/2021 16:34:33 INFO 140277710636864] Iter[15] Batch [500]#011Speed: 72901.02 samples/sec\u001b[0m\n",
      "\u001b[34m[01/21/2021 16:34:33 INFO 140277710636864] #quality_metric: host=algo-1, epoch=15, batch=500 train rmse <loss>=1.0002036072\u001b[0m\n",
      "\u001b[34m[01/21/2021 16:34:33 INFO 140277710636864] #quality_metric: host=algo-1, epoch=15, batch=500 train mse <loss>=1.00040725586\u001b[0m\n",
      "\u001b[34m[01/21/2021 16:34:33 INFO 140277710636864] #quality_metric: host=algo-1, epoch=15, batch=500 train absolute_loss <loss>=0.789437124667\u001b[0m\n",
      "\u001b[34m[2021-01-21 16:34:34.436] [tensorio] [info] epoch_stats={\"data_pipeline\": \"/opt/ml/input/data/train\", \"epoch\": 32, \"duration\": 2272, \"num_examples\": 816, \"num_bytes\": 10436096}\u001b[0m\n",
      "\u001b[34m[01/21/2021 16:34:34 INFO 140277710636864] #quality_metric: host=algo-1, epoch=15, train rmse <loss>=1.02781986483\u001b[0m\n",
      "\u001b[34m[01/21/2021 16:34:34 INFO 140277710636864] #quality_metric: host=algo-1, epoch=15, train mse <loss>=1.05641367454\u001b[0m\n",
      "\u001b[34m[01/21/2021 16:34:34 INFO 140277710636864] #quality_metric: host=algo-1, epoch=15, train absolute_loss <loss>=0.814138923393\u001b[0m\n",
      "\u001b[34m#metrics {\"Metrics\": {\"update.time\": {\"count\": 1, \"max\": 2274.9948501586914, \"sum\": 2274.9948501586914, \"min\": 2274.9948501586914}}, \"EndTime\": 1611246874.437208, \"Dimensions\": {\"Host\": \"algo-1\", \"Operation\": \"training\", \"Algorithm\": \"factorization-machines\"}, \"StartTime\": 1611246872.161029}\n",
      "\u001b[0m\n",
      "\u001b[34m[01/21/2021 16:34:34 INFO 140277710636864] #progress_metric: host=algo-1, completed 64 % of epochs\u001b[0m\n",
      "\u001b[34m#metrics {\"Metrics\": {\"Max Batches Seen Between Resets\": {\"count\": 1, \"max\": 816, \"sum\": 816.0, \"min\": 816}, \"Number of Batches Since Last Reset\": {\"count\": 1, \"max\": 816, \"sum\": 816.0, \"min\": 816}, \"Number of Records Since Last Reset\": {\"count\": 1, \"max\": 163064, \"sum\": 163064.0, \"min\": 163064}, \"Total Batches Seen\": {\"count\": 1, \"max\": 13057, \"sum\": 13057.0, \"min\": 13057}, \"Total Records Seen\": {\"count\": 1, \"max\": 2609224, \"sum\": 2609224.0, \"min\": 2609224}, \"Max Records Seen Between Resets\": {\"count\": 1, \"max\": 163064, \"sum\": 163064.0, \"min\": 163064}, \"Reset Count\": {\"count\": 1, \"max\": 17, \"sum\": 17.0, \"min\": 17}}, \"EndTime\": 1611246874.43749, \"Dimensions\": {\"Host\": \"algo-1\", \"Meta\": \"training_data_iter\", \"Operation\": \"training\", \"Algorithm\": \"factorization-machines\", \"epoch\": 15}, \"StartTime\": 1611246872.162175}\n",
      "\u001b[0m\n",
      "\u001b[34m[01/21/2021 16:34:34 INFO 140277710636864] #throughput_metric: host=algo-1, train throughput=71662.278796 records/second\u001b[0m\n",
      "\u001b[34m[01/21/2021 16:34:34 INFO 140277710636864] #quality_metric: host=algo-1, epoch=16, batch=0 train rmse <loss>=1.00247504072\u001b[0m\n",
      "\u001b[34m[01/21/2021 16:34:34 INFO 140277710636864] #quality_metric: host=algo-1, epoch=16, batch=0 train mse <loss>=1.00495620728\u001b[0m\n",
      "\u001b[34m[01/21/2021 16:34:34 INFO 140277710636864] #quality_metric: host=algo-1, epoch=16, batch=0 train absolute_loss <loss>=0.866771316528\u001b[0m\n",
      "\u001b[34m[01/21/2021 16:34:35 INFO 140277710636864] Iter[16] Batch [500]#011Speed: 70167.50 samples/sec\u001b[0m\n",
      "\u001b[34m[01/21/2021 16:34:35 INFO 140277710636864] #quality_metric: host=algo-1, epoch=16, batch=500 train rmse <loss>=0.995291018267\u001b[0m\n",
      "\u001b[34m[01/21/2021 16:34:35 INFO 140277710636864] #quality_metric: host=algo-1, epoch=16, batch=500 train mse <loss>=0.990604211042\u001b[0m\n",
      "\u001b[34m[01/21/2021 16:34:35 INFO 140277710636864] #quality_metric: host=algo-1, epoch=16, batch=500 train absolute_loss <loss>=0.784783737198\u001b[0m\n",
      "\u001b[34m[2021-01-21 16:34:36.725] [tensorio] [info] epoch_stats={\"data_pipeline\": \"/opt/ml/input/data/train\", \"epoch\": 34, \"duration\": 2285, \"num_examples\": 816, \"num_bytes\": 10436096}\u001b[0m\n",
      "\u001b[34m[01/21/2021 16:34:36 INFO 140277710636864] #quality_metric: host=algo-1, epoch=16, train rmse <loss>=1.02287452647\u001b[0m\n",
      "\u001b[34m[01/21/2021 16:34:36 INFO 140277710636864] #quality_metric: host=algo-1, epoch=16, train mse <loss>=1.04627229691\u001b[0m\n",
      "\u001b[34m[01/21/2021 16:34:36 INFO 140277710636864] #quality_metric: host=algo-1, epoch=16, train absolute_loss <loss>=0.809472563921\u001b[0m\n",
      "\u001b[34m#metrics {\"Metrics\": {\"update.time\": {\"count\": 1, \"max\": 2287.368059158325, \"sum\": 2287.368059158325, \"min\": 2287.368059158325}}, \"EndTime\": 1611246876.725865, \"Dimensions\": {\"Host\": \"algo-1\", \"Operation\": \"training\", \"Algorithm\": \"factorization-machines\"}, \"StartTime\": 1611246874.437297}\n",
      "\u001b[0m\n",
      "\u001b[34m[01/21/2021 16:34:36 INFO 140277710636864] #progress_metric: host=algo-1, completed 68 % of epochs\u001b[0m\n",
      "\u001b[34m#metrics {\"Metrics\": {\"Max Batches Seen Between Resets\": {\"count\": 1, \"max\": 816, \"sum\": 816.0, \"min\": 816}, \"Number of Batches Since Last Reset\": {\"count\": 1, \"max\": 816, \"sum\": 816.0, \"min\": 816}, \"Number of Records Since Last Reset\": {\"count\": 1, \"max\": 163064, \"sum\": 163064.0, \"min\": 163064}, \"Total Batches Seen\": {\"count\": 1, \"max\": 13873, \"sum\": 13873.0, \"min\": 13873}, \"Total Records Seen\": {\"count\": 1, \"max\": 2772288, \"sum\": 2772288.0, \"min\": 2772288}, \"Max Records Seen Between Resets\": {\"count\": 1, \"max\": 163064, \"sum\": 163064.0, \"min\": 163064}, \"Reset Count\": {\"count\": 1, \"max\": 18, \"sum\": 18.0, \"min\": 18}}, \"EndTime\": 1611246876.726136, \"Dimensions\": {\"Host\": \"algo-1\", \"Meta\": \"training_data_iter\", \"Operation\": \"training\", \"Algorithm\": \"factorization-machines\", \"epoch\": 16}, \"StartTime\": 1611246874.43846}\n",
      "\u001b[0m\n",
      "\u001b[34m[01/21/2021 16:34:36 INFO 140277710636864] #throughput_metric: host=algo-1, train throughput=71275.8005299 records/second\u001b[0m\n",
      "\u001b[34m[01/21/2021 16:34:36 INFO 140277710636864] #quality_metric: host=algo-1, epoch=17, batch=0 train rmse <loss>=0.998694101233\u001b[0m\n",
      "\u001b[34m[01/21/2021 16:34:36 INFO 140277710636864] #quality_metric: host=algo-1, epoch=17, batch=0 train mse <loss>=0.997389907837\u001b[0m\n",
      "\u001b[34m[01/21/2021 16:34:36 INFO 140277710636864] #quality_metric: host=algo-1, epoch=17, batch=0 train absolute_loss <loss>=0.863400192261\u001b[0m\n",
      "\u001b[34m[01/21/2021 16:34:38 INFO 140277710636864] Iter[17] Batch [500]#011Speed: 72864.42 samples/sec\u001b[0m\n",
      "\u001b[34m[01/21/2021 16:34:38 INFO 140277710636864] #quality_metric: host=algo-1, epoch=17, batch=500 train rmse <loss>=0.990595563705\u001b[0m\n",
      "\u001b[34m[01/21/2021 16:34:38 INFO 140277710636864] #quality_metric: host=algo-1, epoch=17, batch=500 train mse <loss>=0.981279570833\u001b[0m\n",
      "\u001b[34m[01/21/2021 16:34:38 INFO 140277710636864] #quality_metric: host=algo-1, epoch=17, batch=500 train absolute_loss <loss>=0.780313053778\u001b[0m\n",
      "\u001b[34m[2021-01-21 16:34:38.977] [tensorio] [info] epoch_stats={\"data_pipeline\": \"/opt/ml/input/data/train\", \"epoch\": 36, \"duration\": 2249, \"num_examples\": 816, \"num_bytes\": 10436096}\u001b[0m\n",
      "\u001b[34m[01/21/2021 16:34:38 INFO 140277710636864] #quality_metric: host=algo-1, epoch=17, train rmse <loss>=1.01813711804\u001b[0m\n",
      "\u001b[34m[01/21/2021 16:34:38 INFO 140277710636864] #quality_metric: host=algo-1, epoch=17, train mse <loss>=1.03660319113\u001b[0m\n",
      "\u001b[34m[01/21/2021 16:34:38 INFO 140277710636864] #quality_metric: host=algo-1, epoch=17, train absolute_loss <loss>=0.804977306431\u001b[0m\n",
      "\u001b[34m#metrics {\"Metrics\": {\"update.time\": {\"count\": 1, \"max\": 2251.1520385742188, \"sum\": 2251.1520385742188, \"min\": 2251.1520385742188}}, \"EndTime\": 1611246878.978221, \"Dimensions\": {\"Host\": \"algo-1\", \"Operation\": \"training\", \"Algorithm\": \"factorization-machines\"}, \"StartTime\": 1611246876.725951}\n",
      "\u001b[0m\n",
      "\u001b[34m[01/21/2021 16:34:38 INFO 140277710636864] #progress_metric: host=algo-1, completed 72 % of epochs\u001b[0m\n",
      "\u001b[34m#metrics {\"Metrics\": {\"Max Batches Seen Between Resets\": {\"count\": 1, \"max\": 816, \"sum\": 816.0, \"min\": 816}, \"Number of Batches Since Last Reset\": {\"count\": 1, \"max\": 816, \"sum\": 816.0, \"min\": 816}, \"Number of Records Since Last Reset\": {\"count\": 1, \"max\": 163064, \"sum\": 163064.0, \"min\": 163064}, \"Total Batches Seen\": {\"count\": 1, \"max\": 14689, \"sum\": 14689.0, \"min\": 14689}, \"Total Records Seen\": {\"count\": 1, \"max\": 2935352, \"sum\": 2935352.0, \"min\": 2935352}, \"Max Records Seen Between Resets\": {\"count\": 1, \"max\": 163064, \"sum\": 163064.0, \"min\": 163064}, \"Reset Count\": {\"count\": 1, \"max\": 19, \"sum\": 19.0, \"min\": 19}}, \"EndTime\": 1611246878.978472, \"Dimensions\": {\"Host\": \"algo-1\", \"Meta\": \"training_data_iter\", \"Operation\": \"training\", \"Algorithm\": \"factorization-machines\", \"epoch\": 17}, \"StartTime\": 1611246876.727024}\n",
      "\u001b[0m\n",
      "\u001b[34m[01/21/2021 16:34:38 INFO 140277710636864] #throughput_metric: host=algo-1, train throughput=72422.1935744 records/second\u001b[0m\n",
      "\u001b[34m[01/21/2021 16:34:38 INFO 140277710636864] #quality_metric: host=algo-1, epoch=18, batch=0 train rmse <loss>=0.994971717931\u001b[0m\n",
      "\u001b[34m[01/21/2021 16:34:38 INFO 140277710636864] #quality_metric: host=algo-1, epoch=18, batch=0 train mse <loss>=0.989968719482\u001b[0m\n",
      "\u001b[34m[01/21/2021 16:34:38 INFO 140277710636864] #quality_metric: host=algo-1, epoch=18, batch=0 train absolute_loss <loss>=0.860041809082\u001b[0m\n",
      "\u001b[34m[01/21/2021 16:34:40 INFO 140277710636864] Iter[18] Batch [500]#011Speed: 69753.11 samples/sec\u001b[0m\n",
      "\u001b[34m[01/21/2021 16:34:40 INFO 140277710636864] #quality_metric: host=algo-1, epoch=18, batch=500 train rmse <loss>=0.986095191131\u001b[0m\n",
      "\u001b[34m[01/21/2021 16:34:40 INFO 140277710636864] #quality_metric: host=algo-1, epoch=18, batch=500 train mse <loss>=0.972383725972\u001b[0m\n",
      "\u001b[34m[01/21/2021 16:34:40 INFO 140277710636864] #quality_metric: host=algo-1, epoch=18, batch=500 train absolute_loss <loss>=0.776010923405\u001b[0m\n",
      "\u001b[34m[2021-01-21 16:34:41.320] [tensorio] [info] epoch_stats={\"data_pipeline\": \"/opt/ml/input/data/train\", \"epoch\": 38, \"duration\": 2339, \"num_examples\": 816, \"num_bytes\": 10436096}\u001b[0m\n",
      "\u001b[34m[01/21/2021 16:34:41 INFO 140277710636864] #quality_metric: host=algo-1, epoch=18, train rmse <loss>=1.01358676554\u001b[0m\n",
      "\u001b[34m[01/21/2021 16:34:41 INFO 140277710636864] #quality_metric: host=algo-1, epoch=18, train mse <loss>=1.02735813127\u001b[0m\n",
      "\u001b[34m[01/21/2021 16:34:41 INFO 140277710636864] #quality_metric: host=algo-1, epoch=18, train absolute_loss <loss>=0.800639336343\u001b[0m\n",
      "\u001b[34m#metrics {\"Metrics\": {\"update.time\": {\"count\": 1, \"max\": 2341.2210941314697, \"sum\": 2341.2210941314697, \"min\": 2341.2210941314697}}, \"EndTime\": 1611246881.320802, \"Dimensions\": {\"Host\": \"algo-1\", \"Operation\": \"training\", \"Algorithm\": \"factorization-machines\"}, \"StartTime\": 1611246878.978305}\n",
      "\u001b[0m\n",
      "\u001b[34m[01/21/2021 16:34:41 INFO 140277710636864] #progress_metric: host=algo-1, completed 76 % of epochs\u001b[0m\n",
      "\u001b[34m#metrics {\"Metrics\": {\"Max Batches Seen Between Resets\": {\"count\": 1, \"max\": 816, \"sum\": 816.0, \"min\": 816}, \"Number of Batches Since Last Reset\": {\"count\": 1, \"max\": 816, \"sum\": 816.0, \"min\": 816}, \"Number of Records Since Last Reset\": {\"count\": 1, \"max\": 163064, \"sum\": 163064.0, \"min\": 163064}, \"Total Batches Seen\": {\"count\": 1, \"max\": 15505, \"sum\": 15505.0, \"min\": 15505}, \"Total Records Seen\": {\"count\": 1, \"max\": 3098416, \"sum\": 3098416.0, \"min\": 3098416}, \"Max Records Seen Between Resets\": {\"count\": 1, \"max\": 163064, \"sum\": 163064.0, \"min\": 163064}, \"Reset Count\": {\"count\": 1, \"max\": 20, \"sum\": 20.0, \"min\": 20}}, \"EndTime\": 1611246881.321103, \"Dimensions\": {\"Host\": \"algo-1\", \"Meta\": \"training_data_iter\", \"Operation\": \"training\", \"Algorithm\": \"factorization-machines\", \"epoch\": 18}, \"StartTime\": 1611246878.979541}\n",
      "\u001b[0m\n",
      "\u001b[34m[01/21/2021 16:34:41 INFO 140277710636864] #throughput_metric: host=algo-1, train throughput=69634.7861832 records/second\u001b[0m\n",
      "\u001b[34m[01/21/2021 16:34:41 INFO 140277710636864] #quality_metric: host=algo-1, epoch=19, batch=0 train rmse <loss>=0.991303663304\u001b[0m\n",
      "\u001b[34m[01/21/2021 16:34:41 INFO 140277710636864] #quality_metric: host=algo-1, epoch=19, batch=0 train mse <loss>=0.982682952881\u001b[0m\n",
      "\u001b[34m[01/21/2021 16:34:41 INFO 140277710636864] #quality_metric: host=algo-1, epoch=19, batch=0 train absolute_loss <loss>=0.856700363159\u001b[0m\n",
      "\u001b[34m[01/21/2021 16:34:42 INFO 140277710636864] Iter[19] Batch [500]#011Speed: 73128.45 samples/sec\u001b[0m\n",
      "\u001b[34m[01/21/2021 16:34:42 INFO 140277710636864] #quality_metric: host=algo-1, epoch=19, batch=500 train rmse <loss>=0.9817709211\u001b[0m\n",
      "\u001b[34m[01/21/2021 16:34:42 INFO 140277710636864] #quality_metric: host=algo-1, epoch=19, batch=500 train mse <loss>=0.963874141518\u001b[0m\n",
      "\u001b[34m[01/21/2021 16:34:42 INFO 140277710636864] #quality_metric: host=algo-1, epoch=19, batch=500 train absolute_loss <loss>=0.771859078855\u001b[0m\n",
      "\u001b[34m[2021-01-21 16:34:43.548] [tensorio] [info] epoch_stats={\"data_pipeline\": \"/opt/ml/input/data/train\", \"epoch\": 40, \"duration\": 2224, \"num_examples\": 816, \"num_bytes\": 10436096}\u001b[0m\n",
      "\u001b[34m[01/21/2021 16:34:43 INFO 140277710636864] #quality_metric: host=algo-1, epoch=19, train rmse <loss>=1.00920551581\u001b[0m\n",
      "\u001b[34m[01/21/2021 16:34:43 INFO 140277710636864] #quality_metric: host=algo-1, epoch=19, train mse <loss>=1.01849577315\u001b[0m\n",
      "\u001b[34m[01/21/2021 16:34:43 INFO 140277710636864] #quality_metric: host=algo-1, epoch=19, train absolute_loss <loss>=0.796444586819\u001b[0m\n",
      "\u001b[34m#metrics {\"Metrics\": {\"update.time\": {\"count\": 1, \"max\": 2227.2281646728516, \"sum\": 2227.2281646728516, \"min\": 2227.2281646728516}}, \"EndTime\": 1611246883.549401, \"Dimensions\": {\"Host\": \"algo-1\", \"Operation\": \"training\", \"Algorithm\": \"factorization-machines\"}, \"StartTime\": 1611246881.320897}\n",
      "\u001b[0m\n",
      "\u001b[34m[01/21/2021 16:34:43 INFO 140277710636864] #progress_metric: host=algo-1, completed 80 % of epochs\u001b[0m\n",
      "\u001b[34m#metrics {\"Metrics\": {\"Max Batches Seen Between Resets\": {\"count\": 1, \"max\": 816, \"sum\": 816.0, \"min\": 816}, \"Number of Batches Since Last Reset\": {\"count\": 1, \"max\": 816, \"sum\": 816.0, \"min\": 816}, \"Number of Records Since Last Reset\": {\"count\": 1, \"max\": 163064, \"sum\": 163064.0, \"min\": 163064}, \"Total Batches Seen\": {\"count\": 1, \"max\": 16321, \"sum\": 16321.0, \"min\": 16321}, \"Total Records Seen\": {\"count\": 1, \"max\": 3261480, \"sum\": 3261480.0, \"min\": 3261480}, \"Max Records Seen Between Resets\": {\"count\": 1, \"max\": 163064, \"sum\": 163064.0, \"min\": 163064}, \"Reset Count\": {\"count\": 1, \"max\": 21, \"sum\": 21.0, \"min\": 21}}, \"EndTime\": 1611246883.549641, \"Dimensions\": {\"Host\": \"algo-1\", \"Meta\": \"training_data_iter\", \"Operation\": \"training\", \"Algorithm\": \"factorization-machines\", \"epoch\": 19}, \"StartTime\": 1611246881.322138}\n",
      "\u001b[0m\n",
      "\u001b[34m[01/21/2021 16:34:43 INFO 140277710636864] #throughput_metric: host=algo-1, train throughput=73200.865329 records/second\u001b[0m\n",
      "\u001b[34m[01/21/2021 16:34:43 INFO 140277710636864] #quality_metric: host=algo-1, epoch=20, batch=0 train rmse <loss>=0.987685714835\u001b[0m\n",
      "\u001b[34m[01/21/2021 16:34:43 INFO 140277710636864] #quality_metric: host=algo-1, epoch=20, batch=0 train mse <loss>=0.975523071289\u001b[0m\n",
      "\u001b[34m[01/21/2021 16:34:43 INFO 140277710636864] #quality_metric: host=algo-1, epoch=20, batch=0 train absolute_loss <loss>=0.853351135254\u001b[0m\n",
      "\u001b[34m[01/21/2021 16:34:44 INFO 140277710636864] Iter[20] Batch [500]#011Speed: 71530.10 samples/sec\u001b[0m\n",
      "\u001b[34m[01/21/2021 16:34:44 INFO 140277710636864] #quality_metric: host=algo-1, epoch=20, batch=500 train rmse <loss>=0.977606258091\u001b[0m\n",
      "\u001b[34m[01/21/2021 16:34:44 INFO 140277710636864] #quality_metric: host=algo-1, epoch=20, batch=500 train mse <loss>=0.955713995859\u001b[0m\n",
      "\u001b[34m[01/21/2021 16:34:44 INFO 140277710636864] #quality_metric: host=algo-1, epoch=20, batch=500 train absolute_loss <loss>=0.76784615431\u001b[0m\n",
      "\u001b[34m[2021-01-21 16:34:45.829] [tensorio] [info] epoch_stats={\"data_pipeline\": \"/opt/ml/input/data/train\", \"epoch\": 42, \"duration\": 2276, \"num_examples\": 816, \"num_bytes\": 10436096}\u001b[0m\n",
      "\u001b[34m[01/21/2021 16:34:45 INFO 140277710636864] #quality_metric: host=algo-1, epoch=20, train rmse <loss>=1.00497775444\u001b[0m\n",
      "\u001b[34m[01/21/2021 16:34:45 INFO 140277710636864] #quality_metric: host=algo-1, epoch=20, train mse <loss>=1.00998028692\u001b[0m\n",
      "\u001b[34m[01/21/2021 16:34:45 INFO 140277710636864] #quality_metric: host=algo-1, epoch=20, train absolute_loss <loss>=0.792381658087\u001b[0m\n",
      "\u001b[34m#metrics {\"Metrics\": {\"update.time\": {\"count\": 1, \"max\": 2279.1168689727783, \"sum\": 2279.1168689727783, \"min\": 2279.1168689727783}}, \"EndTime\": 1611246885.829839, \"Dimensions\": {\"Host\": \"algo-1\", \"Operation\": \"training\", \"Algorithm\": \"factorization-machines\"}, \"StartTime\": 1611246883.549484}\n",
      "\u001b[0m\n",
      "\u001b[34m[01/21/2021 16:34:45 INFO 140277710636864] #progress_metric: host=algo-1, completed 84 % of epochs\u001b[0m\n",
      "\u001b[34m#metrics {\"Metrics\": {\"Max Batches Seen Between Resets\": {\"count\": 1, \"max\": 816, \"sum\": 816.0, \"min\": 816}, \"Number of Batches Since Last Reset\": {\"count\": 1, \"max\": 816, \"sum\": 816.0, \"min\": 816}, \"Number of Records Since Last Reset\": {\"count\": 1, \"max\": 163064, \"sum\": 163064.0, \"min\": 163064}, \"Total Batches Seen\": {\"count\": 1, \"max\": 17137, \"sum\": 17137.0, \"min\": 17137}, \"Total Records Seen\": {\"count\": 1, \"max\": 3424544, \"sum\": 3424544.0, \"min\": 3424544}, \"Max Records Seen Between Resets\": {\"count\": 1, \"max\": 163064, \"sum\": 163064.0, \"min\": 163064}, \"Reset Count\": {\"count\": 1, \"max\": 22, \"sum\": 22.0, \"min\": 22}}, \"EndTime\": 1611246885.830104, \"Dimensions\": {\"Host\": \"algo-1\", \"Meta\": \"training_data_iter\", \"Operation\": \"training\", \"Algorithm\": \"factorization-machines\", \"epoch\": 20}, \"StartTime\": 1611246883.55069}\n",
      "\u001b[0m\n",
      "\u001b[34m[01/21/2021 16:34:45 INFO 140277710636864] #throughput_metric: host=algo-1, train throughput=71533.294606 records/second\u001b[0m\n",
      "\u001b[34m[01/21/2021 16:34:45 INFO 140277710636864] #quality_metric: host=algo-1, epoch=21, batch=0 train rmse <loss>=0.98411416125\u001b[0m\n",
      "\u001b[34m[01/21/2021 16:34:45 INFO 140277710636864] #quality_metric: host=algo-1, epoch=21, batch=0 train mse <loss>=0.968480682373\u001b[0m\n",
      "\u001b[34m[01/21/2021 16:34:45 INFO 140277710636864] #quality_metric: host=algo-1, epoch=21, batch=0 train absolute_loss <loss>=0.849995880127\u001b[0m\n",
      "\u001b[34m[01/21/2021 16:34:47 INFO 140277710636864] Iter[21] Batch [500]#011Speed: 71044.57 samples/sec\u001b[0m\n",
      "\u001b[34m[01/21/2021 16:34:47 INFO 140277710636864] #quality_metric: host=algo-1, epoch=21, batch=500 train rmse <loss>=0.973586794436\u001b[0m\n",
      "\u001b[34m[01/21/2021 16:34:47 INFO 140277710636864] #quality_metric: host=algo-1, epoch=21, batch=500 train mse <loss>=0.9478712463\u001b[0m\n",
      "\u001b[34m[01/21/2021 16:34:47 INFO 140277710636864] #quality_metric: host=algo-1, epoch=21, batch=500 train absolute_loss <loss>=0.763960509386\u001b[0m\n",
      "\u001b[34m[2021-01-21 16:34:48.091] [tensorio] [info] epoch_stats={\"data_pipeline\": \"/opt/ml/input/data/train\", \"epoch\": 44, \"duration\": 2258, \"num_examples\": 816, \"num_bytes\": 10436096}\u001b[0m\n",
      "\u001b[34m[01/21/2021 16:34:48 INFO 140277710636864] #quality_metric: host=algo-1, epoch=21, train rmse <loss>=1.00088982693\u001b[0m\n",
      "\u001b[34m[01/21/2021 16:34:48 INFO 140277710636864] #quality_metric: host=algo-1, epoch=21, train mse <loss>=1.00178044565\u001b[0m\n",
      "\u001b[34m[01/21/2021 16:34:48 INFO 140277710636864] #quality_metric: host=algo-1, epoch=21, train absolute_loss <loss>=0.788439636838\u001b[0m\n",
      "\u001b[34m#metrics {\"Metrics\": {\"update.time\": {\"count\": 1, \"max\": 2260.9081268310547, \"sum\": 2260.9081268310547, \"min\": 2260.9081268310547}}, \"EndTime\": 1611246888.092045, \"Dimensions\": {\"Host\": \"algo-1\", \"Operation\": \"training\", \"Algorithm\": \"factorization-machines\"}, \"StartTime\": 1611246885.829916}\n",
      "\u001b[0m\n",
      "\u001b[34m[01/21/2021 16:34:48 INFO 140277710636864] #progress_metric: host=algo-1, completed 88 % of epochs\u001b[0m\n",
      "\u001b[34m#metrics {\"Metrics\": {\"Max Batches Seen Between Resets\": {\"count\": 1, \"max\": 816, \"sum\": 816.0, \"min\": 816}, \"Number of Batches Since Last Reset\": {\"count\": 1, \"max\": 816, \"sum\": 816.0, \"min\": 816}, \"Number of Records Since Last Reset\": {\"count\": 1, \"max\": 163064, \"sum\": 163064.0, \"min\": 163064}, \"Total Batches Seen\": {\"count\": 1, \"max\": 17953, \"sum\": 17953.0, \"min\": 17953}, \"Total Records Seen\": {\"count\": 1, \"max\": 3587608, \"sum\": 3587608.0, \"min\": 3587608}, \"Max Records Seen Between Resets\": {\"count\": 1, \"max\": 163064, \"sum\": 163064.0, \"min\": 163064}, \"Reset Count\": {\"count\": 1, \"max\": 23, \"sum\": 23.0, \"min\": 23}}, \"EndTime\": 1611246888.092347, \"Dimensions\": {\"Host\": \"algo-1\", \"Meta\": \"training_data_iter\", \"Operation\": \"training\", \"Algorithm\": \"factorization-machines\", \"epoch\": 21}, \"StartTime\": 1611246885.831104}\n",
      "\u001b[0m\n",
      "\u001b[34m[01/21/2021 16:34:48 INFO 140277710636864] #throughput_metric: host=algo-1, train throughput=72108.7836897 records/second\u001b[0m\n",
      "\u001b[34m[01/21/2021 16:34:48 INFO 140277710636864] #quality_metric: host=algo-1, epoch=22, batch=0 train rmse <loss>=0.980586630737\u001b[0m\n",
      "\u001b[34m[01/21/2021 16:34:48 INFO 140277710636864] #quality_metric: host=algo-1, epoch=22, batch=0 train mse <loss>=0.961550140381\u001b[0m\n",
      "\u001b[34m[01/21/2021 16:34:48 INFO 140277710636864] #quality_metric: host=algo-1, epoch=22, batch=0 train absolute_loss <loss>=0.846637573242\u001b[0m\n",
      "\u001b[34m[01/21/2021 16:34:49 INFO 140277710636864] Iter[22] Batch [500]#011Speed: 74027.68 samples/sec\u001b[0m\n",
      "\u001b[34m[01/21/2021 16:34:49 INFO 140277710636864] #quality_metric: host=algo-1, epoch=22, batch=500 train rmse <loss>=0.969699882423\u001b[0m\n",
      "\u001b[34m[01/21/2021 16:34:49 INFO 140277710636864] #quality_metric: host=algo-1, epoch=22, batch=500 train mse <loss>=0.940317861972\u001b[0m\n",
      "\u001b[34m[01/21/2021 16:34:49 INFO 140277710636864] #quality_metric: host=algo-1, epoch=22, batch=500 train absolute_loss <loss>=0.760196970789\u001b[0m\n",
      "\u001b[34m[2021-01-21 16:34:50.343] [tensorio] [info] epoch_stats={\"data_pipeline\": \"/opt/ml/input/data/train\", \"epoch\": 46, \"duration\": 2249, \"num_examples\": 816, \"num_bytes\": 10436096}\u001b[0m\n",
      "\u001b[34m[01/21/2021 16:34:50 INFO 140277710636864] #quality_metric: host=algo-1, epoch=22, train rmse <loss>=0.9969297419\u001b[0m\n",
      "\u001b[34m[01/21/2021 16:34:50 INFO 140277710636864] #quality_metric: host=algo-1, epoch=22, train mse <loss>=0.993868910285\u001b[0m\n",
      "\u001b[34m[01/21/2021 16:34:50 INFO 140277710636864] #quality_metric: host=algo-1, epoch=22, train absolute_loss <loss>=0.78461234261\u001b[0m\n",
      "\u001b[34m#metrics {\"Metrics\": {\"update.time\": {\"count\": 1, \"max\": 2251.359224319458, \"sum\": 2251.359224319458, \"min\": 2251.359224319458}}, \"EndTime\": 1611246890.344773, \"Dimensions\": {\"Host\": \"algo-1\", \"Operation\": \"training\", \"Algorithm\": \"factorization-machines\"}, \"StartTime\": 1611246888.092177}\n",
      "\u001b[0m\n",
      "\u001b[34m[01/21/2021 16:34:50 INFO 140277710636864] #progress_metric: host=algo-1, completed 92 % of epochs\u001b[0m\n",
      "\u001b[34m#metrics {\"Metrics\": {\"Max Batches Seen Between Resets\": {\"count\": 1, \"max\": 816, \"sum\": 816.0, \"min\": 816}, \"Number of Batches Since Last Reset\": {\"count\": 1, \"max\": 816, \"sum\": 816.0, \"min\": 816}, \"Number of Records Since Last Reset\": {\"count\": 1, \"max\": 163064, \"sum\": 163064.0, \"min\": 163064}, \"Total Batches Seen\": {\"count\": 1, \"max\": 18769, \"sum\": 18769.0, \"min\": 18769}, \"Total Records Seen\": {\"count\": 1, \"max\": 3750672, \"sum\": 3750672.0, \"min\": 3750672}, \"Max Records Seen Between Resets\": {\"count\": 1, \"max\": 163064, \"sum\": 163064.0, \"min\": 163064}, \"Reset Count\": {\"count\": 1, \"max\": 24, \"sum\": 24.0, \"min\": 24}}, \"EndTime\": 1611246890.345076, \"Dimensions\": {\"Host\": \"algo-1\", \"Meta\": \"training_data_iter\", \"Operation\": \"training\", \"Algorithm\": \"factorization-machines\", \"epoch\": 22}, \"StartTime\": 1611246888.093375}\n",
      "\u001b[0m\n",
      "\u001b[34m[01/21/2021 16:34:50 INFO 140277710636864] #throughput_metric: host=algo-1, train throughput=72413.9275907 records/second\u001b[0m\n",
      "\u001b[34m[01/21/2021 16:34:50 INFO 140277710636864] #quality_metric: host=algo-1, epoch=23, batch=0 train rmse <loss>=0.97709981312\u001b[0m\n",
      "\u001b[34m[01/21/2021 16:34:50 INFO 140277710636864] #quality_metric: host=algo-1, epoch=23, batch=0 train mse <loss>=0.9547240448\u001b[0m\n",
      "\u001b[34m[01/21/2021 16:34:50 INFO 140277710636864] #quality_metric: host=algo-1, epoch=23, batch=0 train absolute_loss <loss>=0.843276977539\u001b[0m\n",
      "\u001b[34m[01/21/2021 16:34:51 INFO 140277710636864] Iter[23] Batch [500]#011Speed: 72319.13 samples/sec\u001b[0m\n",
      "\u001b[34m[01/21/2021 16:34:51 INFO 140277710636864] #quality_metric: host=algo-1, epoch=23, batch=500 train rmse <loss>=0.965934329729\u001b[0m\n",
      "\u001b[34m[01/21/2021 16:34:51 INFO 140277710636864] #quality_metric: host=algo-1, epoch=23, batch=500 train mse <loss>=0.933029129348\u001b[0m\n",
      "\u001b[34m[01/21/2021 16:34:51 INFO 140277710636864] #quality_metric: host=algo-1, epoch=23, batch=500 train absolute_loss <loss>=0.756546407003\u001b[0m\n",
      "\u001b[34m[2021-01-21 16:34:52.600] [tensorio] [info] epoch_stats={\"data_pipeline\": \"/opt/ml/input/data/train\", \"epoch\": 48, \"duration\": 2252, \"num_examples\": 816, \"num_bytes\": 10436096}\u001b[0m\n",
      "\u001b[34m[01/21/2021 16:34:52 INFO 140277710636864] #quality_metric: host=algo-1, epoch=23, train rmse <loss>=0.99308688123\u001b[0m\n",
      "\u001b[34m[01/21/2021 16:34:52 INFO 140277710636864] #quality_metric: host=algo-1, epoch=23, train mse <loss>=0.986221553672\u001b[0m\n",
      "\u001b[34m[01/21/2021 16:34:52 INFO 140277710636864] #quality_metric: host=algo-1, epoch=23, train absolute_loss <loss>=0.780892489798\u001b[0m\n",
      "\u001b[34m#metrics {\"Metrics\": {\"update.time\": {\"count\": 1, \"max\": 2254.649877548218, \"sum\": 2254.649877548218, \"min\": 2254.649877548218}}, \"EndTime\": 1611246892.600689, \"Dimensions\": {\"Host\": \"algo-1\", \"Operation\": \"training\", \"Algorithm\": \"factorization-machines\"}, \"StartTime\": 1611246890.344862}\n",
      "\u001b[0m\n",
      "\u001b[34m[01/21/2021 16:34:52 INFO 140277710636864] #progress_metric: host=algo-1, completed 96 % of epochs\u001b[0m\n",
      "\u001b[34m#metrics {\"Metrics\": {\"Max Batches Seen Between Resets\": {\"count\": 1, \"max\": 816, \"sum\": 816.0, \"min\": 816}, \"Number of Batches Since Last Reset\": {\"count\": 1, \"max\": 816, \"sum\": 816.0, \"min\": 816}, \"Number of Records Since Last Reset\": {\"count\": 1, \"max\": 163064, \"sum\": 163064.0, \"min\": 163064}, \"Total Batches Seen\": {\"count\": 1, \"max\": 19585, \"sum\": 19585.0, \"min\": 19585}, \"Total Records Seen\": {\"count\": 1, \"max\": 3913736, \"sum\": 3913736.0, \"min\": 3913736}, \"Max Records Seen Between Resets\": {\"count\": 1, \"max\": 163064, \"sum\": 163064.0, \"min\": 163064}, \"Reset Count\": {\"count\": 1, \"max\": 25, \"sum\": 25.0, \"min\": 25}}, \"EndTime\": 1611246892.600922, \"Dimensions\": {\"Host\": \"algo-1\", \"Meta\": \"training_data_iter\", \"Operation\": \"training\", \"Algorithm\": \"factorization-machines\", \"epoch\": 23}, \"StartTime\": 1611246890.346006}\n",
      "\u001b[0m\n",
      "\u001b[34m[01/21/2021 16:34:52 INFO 140277710636864] #throughput_metric: host=algo-1, train throughput=72311.1669716 records/second\u001b[0m\n",
      "\u001b[34m[01/21/2021 16:34:52 INFO 140277710636864] #quality_metric: host=algo-1, epoch=24, batch=0 train rmse <loss>=0.973651403252\u001b[0m\n",
      "\u001b[34m[01/21/2021 16:34:52 INFO 140277710636864] #quality_metric: host=algo-1, epoch=24, batch=0 train mse <loss>=0.947997055054\u001b[0m\n",
      "\u001b[34m[01/21/2021 16:34:52 INFO 140277710636864] #quality_metric: host=algo-1, epoch=24, batch=0 train absolute_loss <loss>=0.839915771484\u001b[0m\n",
      "\u001b[34m[01/21/2021 16:34:53 INFO 140277710636864] Iter[24] Batch [500]#011Speed: 72911.06 samples/sec\u001b[0m\n",
      "\u001b[34m[01/21/2021 16:34:53 INFO 140277710636864] #quality_metric: host=algo-1, epoch=24, batch=500 train rmse <loss>=0.962280233713\u001b[0m\n",
      "\u001b[34m[01/21/2021 16:34:53 INFO 140277710636864] #quality_metric: host=algo-1, epoch=24, batch=500 train mse <loss>=0.925983248195\u001b[0m\n",
      "\u001b[34m[01/21/2021 16:34:53 INFO 140277710636864] #quality_metric: host=algo-1, epoch=24, batch=500 train absolute_loss <loss>=0.753002763013\u001b[0m\n",
      "\u001b[34m[2021-01-21 16:34:54.883] [tensorio] [info] epoch_stats={\"data_pipeline\": \"/opt/ml/input/data/train\", \"epoch\": 50, \"duration\": 2280, \"num_examples\": 816, \"num_bytes\": 10436096}\u001b[0m\n",
      "\u001b[34m[01/21/2021 16:34:54 INFO 140277710636864] #quality_metric: host=algo-1, epoch=24, train rmse <loss>=0.989351823604\u001b[0m\n",
      "\u001b[34m[01/21/2021 16:34:54 INFO 140277710636864] #quality_metric: host=algo-1, epoch=24, train mse <loss>=0.978817030869\u001b[0m\n",
      "\u001b[34m[01/21/2021 16:34:54 INFO 140277710636864] #quality_metric: host=algo-1, epoch=24, train absolute_loss <loss>=0.777274129765\u001b[0m\n",
      "\u001b[34m[01/21/2021 16:34:54 INFO 140277710636864] #quality_metric: host=algo-1, train rmse <loss>=0.989351823604\u001b[0m\n",
      "\u001b[34m[01/21/2021 16:34:54 INFO 140277710636864] #quality_metric: host=algo-1, train mse <loss>=0.978817030869\u001b[0m\n",
      "\u001b[34m[01/21/2021 16:34:54 INFO 140277710636864] #quality_metric: host=algo-1, train absolute_loss <loss>=0.777274129765\u001b[0m\n",
      "\u001b[34m#metrics {\"Metrics\": {\"update.time\": {\"count\": 1, \"max\": 2282.8381061553955, \"sum\": 2282.8381061553955, \"min\": 2282.8381061553955}}, \"EndTime\": 1611246894.884813, \"Dimensions\": {\"Host\": \"algo-1\", \"Operation\": \"training\", \"Algorithm\": \"factorization-machines\"}, \"StartTime\": 1611246892.60077}\n",
      "\u001b[0m\n",
      "\u001b[34m[01/21/2021 16:34:54 INFO 140277710636864] #progress_metric: host=algo-1, completed 100 % of epochs\u001b[0m\n",
      "\u001b[34m#metrics {\"Metrics\": {\"Max Batches Seen Between Resets\": {\"count\": 1, \"max\": 816, \"sum\": 816.0, \"min\": 816}, \"Number of Batches Since Last Reset\": {\"count\": 1, \"max\": 816, \"sum\": 816.0, \"min\": 816}, \"Number of Records Since Last Reset\": {\"count\": 1, \"max\": 163064, \"sum\": 163064.0, \"min\": 163064}, \"Total Batches Seen\": {\"count\": 1, \"max\": 20401, \"sum\": 20401.0, \"min\": 20401}, \"Total Records Seen\": {\"count\": 1, \"max\": 4076800, \"sum\": 4076800.0, \"min\": 4076800}, \"Max Records Seen Between Resets\": {\"count\": 1, \"max\": 163064, \"sum\": 163064.0, \"min\": 163064}, \"Reset Count\": {\"count\": 1, \"max\": 26, \"sum\": 26.0, \"min\": 26}}, \"EndTime\": 1611246894.885062, \"Dimensions\": {\"Host\": \"algo-1\", \"Meta\": \"training_data_iter\", \"Operation\": \"training\", \"Algorithm\": \"factorization-machines\", \"epoch\": 24}, \"StartTime\": 1611246892.601943}\n",
      "\u001b[0m\n",
      "\u001b[34m[01/21/2021 16:34:54 INFO 140277710636864] #throughput_metric: host=algo-1, train throughput=71418.3143962 records/second\u001b[0m\n",
      "\u001b[34m[01/21/2021 16:34:54 WARNING 140277710636864] wait_for_all_workers will not sync workers since the kv store is not running distributed\u001b[0m\n",
      "\u001b[34m[01/21/2021 16:34:54 INFO 140277710636864] Pulling entire model from kvstore to finalize\u001b[0m\n",
      "\u001b[34m#metrics {\"Metrics\": {\"finalize.time\": {\"count\": 1, \"max\": 5.224943161010742, \"sum\": 5.224943161010742, \"min\": 5.224943161010742}}, \"EndTime\": 1611246894.890613, \"Dimensions\": {\"Host\": \"algo-1\", \"Operation\": \"training\", \"Algorithm\": \"factorization-machines\"}, \"StartTime\": 1611246894.884874}\n",
      "\u001b[0m\n",
      "\u001b[34m[01/21/2021 16:34:54 INFO 140277710636864] Saved checkpoint to \"/tmp/tmpx6fav6/state-0001.params\"\u001b[0m\n",
      "\u001b[34m[2021-01-21 16:34:54.917] [tensorio] [info] epoch_stats={\"data_pipeline\": \"/opt/ml/input/data/test\", \"epoch\": 0, \"duration\": 59529, \"num_examples\": 1, \"num_bytes\": 12800}\u001b[0m\n",
      "\u001b[34m[2021-01-21 16:34:55.178] [tensorio] [info] epoch_stats={\"data_pipeline\": \"/opt/ml/input/data/test\", \"epoch\": 1, \"duration\": 260, \"num_examples\": 53, \"num_bytes\": 667904}\u001b[0m\n",
      "\u001b[34m#metrics {\"Metrics\": {\"Max Batches Seen Between Resets\": {\"count\": 1, \"max\": 53, \"sum\": 53.0, \"min\": 53}, \"Number of Batches Since Last Reset\": {\"count\": 1, \"max\": 53, \"sum\": 53.0, \"min\": 53}, \"Number of Records Since Last Reset\": {\"count\": 1, \"max\": 10436, \"sum\": 10436.0, \"min\": 10436}, \"Total Batches Seen\": {\"count\": 1, \"max\": 53, \"sum\": 53.0, \"min\": 53}, \"Total Records Seen\": {\"count\": 1, \"max\": 10436, \"sum\": 10436.0, \"min\": 10436}, \"Max Records Seen Between Resets\": {\"count\": 1, \"max\": 10436, \"sum\": 10436.0, \"min\": 10436}, \"Reset Count\": {\"count\": 1, \"max\": 1, \"sum\": 1.0, \"min\": 1}}, \"EndTime\": 1611246895.178872, \"Dimensions\": {\"Host\": \"algo-1\", \"Meta\": \"test_data_iter\", \"Operation\": \"training\", \"Algorithm\": \"factorization-machines\"}, \"StartTime\": 1611246894.91737}\n",
      "\u001b[0m\n",
      "\u001b[34m[01/21/2021 16:34:55 INFO 140277710636864] #test_score (algo-1) : ('rmse', 1.117963498113026)\u001b[0m\n",
      "\u001b[34m[01/21/2021 16:34:55 INFO 140277710636864] #test_score (algo-1) : ('mse', 1.249842383113114)\u001b[0m\n",
      "\u001b[34m[01/21/2021 16:34:55 INFO 140277710636864] #test_score (algo-1) : ('absolute_loss', 0.8979606906222676)\u001b[0m\n",
      "\u001b[34m[01/21/2021 16:34:55 INFO 140277710636864] #quality_metric: host=algo-1, test rmse <loss>=1.11796349811\u001b[0m\n",
      "\u001b[34m[01/21/2021 16:34:55 INFO 140277710636864] #quality_metric: host=algo-1, test mse <loss>=1.24984238311\u001b[0m\n",
      "\u001b[34m[01/21/2021 16:34:55 INFO 140277710636864] #quality_metric: host=algo-1, test absolute_loss <loss>=0.897960690622\u001b[0m\n",
      "\u001b[34m#metrics {\"Metrics\": {\"totaltime\": {\"count\": 1, \"max\": 59855.43489456177, \"sum\": 59855.43489456177, \"min\": 59855.43489456177}, \"setuptime\": {\"count\": 1, \"max\": 54.800987243652344, \"sum\": 54.800987243652344, \"min\": 54.800987243652344}}, \"EndTime\": 1611246895.180467, \"Dimensions\": {\"Host\": \"algo-1\", \"Operation\": \"training\", \"Algorithm\": \"factorization-machines\"}, \"StartTime\": 1611246894.890668}\n",
      "\u001b[0m\n",
      "\n",
      "2021-01-21 16:35:15 Uploading - Uploading generated training model\n",
      "2021-01-21 16:35:15 Completed - Training job completed\n",
      "Training seconds: 101\n",
      "Billable seconds: 101\n"
     ]
    }
   ],
   "source": [
    "from sagemaker import get_execution_role\n",
    "from sagemaker import image_uris\n",
    "\n",
    "output_prefix = 's3://' + bucket + '/sagemaker-fm/model'\n",
    "instance_type= 'ml.m4.xlarge' # Enter your code here\n",
    "batch_size = 200# Enter your code here\n",
    "\n",
    "fm = sagemaker.estimator.Estimator(\n",
    "    image_uris.retrieve(\"factorization-machines\",boto3.Session().region_name),\n",
    "    role, \n",
    "    instance_count=1, \n",
    "    instance_type=instance_type,\n",
    "    output_path=output_prefix,\n",
    "    sagemaker_session=sagemaker.Session()\n",
    ")\n",
    "\n",
    "# Use hyperparameter. For feature_dim use the column length of X_train \n",
    "fm.set_hyperparameters(\n",
    "                        feature_dim=X_train.shape[1], # Enter your code here\n",
    "                        predictor_type='regressor',\n",
    "                        mini_batch_size=batch_size,\n",
    "                        num_factors=64,\n",
    "                        epochs=25,\n",
    "                        clip_gradient=5.0,\n",
    "                        rescale_grad=1.0/batch_size\n",
    ")\n",
    "\n",
    "fm.fit({'train': fm_train_data_path,# Enter your code here, \n",
    "        'test': fm_test_data_path# Enter your code here\n",
    "       })"
   ]
  },
  {
   "cell_type": "markdown",
   "metadata": {},
   "source": [
    "**Question:** What does changing the `batch_size` and `epochs` do to the final metric?  "
   ]
  },
  {
   "cell_type": "code",
   "execution_count": null,
   "metadata": {},
   "outputs": [],
   "source": [
    "# Enter your Answer here\n",
    "# I just picked 200 for batch_size given the sample that's how many samples model will see before tweak the coefficience in the model.  \n",
    "# Tuning this will typically effect the convergence speed.\n",
    "\n",
    "# epochs is number of iteration the model goes through to adjust the model. We did 25 epoch which "
   ]
  },
  {
   "cell_type": "markdown",
   "metadata": {},
   "source": [
    "**Question:** Check the output of the model. What is the meaning of the metrics used? Is there a difference between the training and testing sets? If yes, what is the meaning of that?  "
   ]
  },
  {
   "cell_type": "code",
   "execution_count": null,
   "metadata": {},
   "outputs": [],
   "source": [
    "# Enter your Answer here\n",
    "\n",
    "# the training set is better than test set.  There seems to a bit of overfitting going on here\n",
    "\n",
    "# epoch 24\n",
    "\n",
    "#quality_metric: host=algo-1, train rmse <loss>=0.989351823604\n",
    "#quality_metric: host=algo-1, train mse <loss>=0.978817030869\n",
    "#quality_metric: host=algo-1, train absolute_loss <loss>=0.777274129765\n",
    "\n",
    "#test_score (algo-1) : ('rmse', 1.117963498113026)\n",
    "#test_score (algo-1) : ('mse', 1.249842383113114)\n",
    "#test_score (algo-1) : ('absolute_loss', 0.8979606906222676)"
   ]
  },
  {
   "cell_type": "markdown",
   "metadata": {},
   "source": [
    "### Evaluate\n",
    "\n",
    "Congratulations! You have successfully launched an Amazon SageMaker training job. Now what? Well, you need a way to verify that your model is actually predicting coherent values. How do you do this?\n",
    "\n",
    "Start by calculating a naive baseline to approximate how well your model is doing. The simplest estimate would be to assume every user item rating is just the average rating over all ratings. This is basically saying that you have a model that only learned to output the mean value of all reviews.\n",
    "\n",
    "**Note:** You could do better by using each individual video's average; however, in this case, it doesn't really matter because the same conclusions would hold."
   ]
  },
  {
   "cell_type": "markdown",
   "metadata": {},
   "source": [
    "Calculate the mean of `star_rating` to get the `naive_guess`. Then, calculate the naive MSE by squaring the naive guess from the test `star_rating` and getting an average.\n",
    "\n",
    "$average(test(star\\_rating) - naive\\_guess)^2)$"
   ]
  },
  {
   "cell_type": "code",
   "execution_count": 54,
   "metadata": {
    "scrolled": true
   },
   "outputs": [
    {
     "name": "stdout",
     "output_type": "stream",
     "text": [
      "Naive MSE: 17.985243388271368\n"
     ]
    }
   ],
   "source": [
    "naive_guess = np.mean(train_df['star_rating']) # Enter your code here\n",
    "print(f'Naive MSE:', np.mean((test_df['star_rating'])**2)) # Enter your code here )"
   ]
  },
  {
   "cell_type": "markdown",
   "metadata": {},
   "source": [
    "Now, calculate predictions for your test dataset. To this end, you'll need to _deploy_ the model you just trained.\n",
    "\n",
    "**Note:** This will align closely to your CloudWatch output above but may differ slightly due to skipping partial mini-batches in the `eval_net` function.\n",
    "\n",
    "Use `<estimator_name>.deploy` with `initial_instance_count=1, instance_type=ml.m4.xlarge`."
   ]
  },
  {
   "cell_type": "code",
   "execution_count": 55,
   "metadata": {},
   "outputs": [
    {
     "name": "stdout",
     "output_type": "stream",
     "text": [
      "---------------!"
     ]
    }
   ],
   "source": [
    "fm_predictor = fm.deploy(initial_instance_count=1, instance_type='ml.m4.xlarge')# Enter your code here"
   ]
  },
  {
   "cell_type": "markdown",
   "metadata": {},
   "source": [
    "Now that your endpoint is 'InService', evaluate how your model performs on the test set. Compare that test set performance to the performance on the training set. \n",
    "\n",
    "### Key questions to consider:\n",
    "1. How does your model's performance on the test set compare to the training set? What can you deduce from this comparison? \n",
    "\n",
    "2. Are there obvious differences between the outcomes of metrics like accuracy, precision, and recall? If so, why might you be seeing those differences? \n",
    "\n",
    "3. Given your business situation and goals, which metric(s) is most important for you to consider here? Why?\n",
    "\n",
    "4. Is the outcome for the metric(s) you consider most important sufficient for what you need from a business standpoint? If not, what are some things you might change in your next iteration (in the feature engineering section, which is coming up next)? \n",
    "\n",
    "Use the cells below to answer these and other questions. Insert and delete cells where needed.\n",
    "\n",
    "#### <span style=\"color: blue;\">Project presentation: Record questions to these and other similar questions you might answer in this section in your project presentations. Record key details and decisions you've made in your project presentations.</span>"
   ]
  },
  {
   "cell_type": "markdown",
   "metadata": {},
   "source": [
    "The deployment process involves creating an instance of the specified size, in this case `ml.m4.xlarge`, with the model you trained and saved on Amazon S3. To get a prediction, you need to pass your data in a serialized form of JSON. The output you get from the inference will be in serialized JSON form as well, so you also need to deserialize it to get the predicted values."
   ]
  },
  {
   "cell_type": "code",
   "execution_count": 56,
   "metadata": {},
   "outputs": [
    {
     "name": "stdout",
     "output_type": "stream",
     "text": [
      "Accepted content type: application/json\n"
     ]
    }
   ],
   "source": [
    "# Create a serializer function for the predictor\n",
    "import json\n",
    "from sagemaker.deserializers import JSONDeserializer\n",
    "from sagemaker.serializers import BaseSerializer\n",
    "\n",
    "class fm_serializer(BaseSerializer):\n",
    "    CONTENT_TYPE='application/json'\n",
    "    def serialize(data):\n",
    "            js = {'instances': []}\n",
    "            for row in data:\n",
    "                js['instances'].append({'features': row.tolist()})\n",
    "            return json.dumps(js)\n",
    "fm_predictor.serializer = fm_serializer\n",
    "fm_predictor.deserializer = JSONDeserializer()\n",
    "print(f\"Accepted content type: {fm_predictor.content_type}\")"
   ]
  },
  {
   "cell_type": "markdown",
   "metadata": {},
   "source": [
    "Check how your training set did. Use the endpoint to get predictions from your model.\n",
    "\n",
    "First, look at what a single prediction looks like."
   ]
  },
  {
   "cell_type": "markdown",
   "metadata": {},
   "source": [
    "Amazon SageMaker model containers must respond to requests within 60 seconds. The model itself can have a maximum processing time of 60 seconds before responding to the /invocations. To do that, call the `predict` function for 5 rows at a time and then add those rows to a list. "
   ]
  },
  {
   "cell_type": "code",
   "execution_count": 62,
   "metadata": {},
   "outputs": [
    {
     "data": {
      "text/plain": [
       "(163064, 17095)"
      ]
     },
     "execution_count": 62,
     "metadata": {},
     "output_type": "execute_result"
    }
   ],
   "source": [
    "X_train.shape"
   ]
  },
  {
   "cell_type": "code",
   "execution_count": 57,
   "metadata": {},
   "outputs": [],
   "source": [
    "# Pass the X_train data to the deployed predictor \n",
    "ytrain_p = []\n",
    "for i in range(0, 1000, 5):\n",
    "    preds = fm_predictor.predict(X_train[i:i + 5].toarray())['predictions'] # Enter your code here\n",
    "    p = [ytrain_p.append(x['score']) for x in preds]"
   ]
  },
  {
   "cell_type": "markdown",
   "metadata": {},
   "source": [
    "**Question:** Now that you have inferences, do a sanity check. What are the minimum and maximum values predicted in the inferences? Do those correspond to the minimum and maximum values in the training data?"
   ]
  },
  {
   "cell_type": "code",
   "execution_count": 58,
   "metadata": {},
   "outputs": [
    {
     "name": "stdout",
     "output_type": "stream",
     "text": [
      "The minimum rating predicted is:  3.0583794116973877 and the maximum is:  4.815227508544922\n"
     ]
    }
   ],
   "source": [
    "print('The minimum rating predicted is: ', min(ytrain_p), 'and the maximum is: ',max(ytrain_p))"
   ]
  },
  {
   "cell_type": "markdown",
   "metadata": {},
   "source": [
    "Now, check your test dataset."
   ]
  },
  {
   "cell_type": "code",
   "execution_count": 63,
   "metadata": {},
   "outputs": [],
   "source": [
    "Y_pred = []\n",
    "# Enter your code here\n",
    "for i in range(0, X_test.shape[0], 5):\n",
    "    preds = fm_predictor.predict(X_test[i:i+5].toarray())['predictions']\n",
    "    p = [Y_pred.append(x['score']) for x in preds]"
   ]
  },
  {
   "cell_type": "markdown",
   "metadata": {},
   "source": [
    "**Question:** How are the min and max values alike in the predictions? Bonus point if you check the entire distribution (histogram)."
   ]
  },
  {
   "cell_type": "code",
   "execution_count": 64,
   "metadata": {},
   "outputs": [
    {
     "data": {
      "text/plain": [
       "(4.902620792388916, 2.5982580184936523)"
      ]
     },
     "execution_count": 64,
     "metadata": {},
     "output_type": "execute_result"
    }
   ],
   "source": [
    "max(Y_pred), min(Y_pred)"
   ]
  },
  {
   "cell_type": "code",
   "execution_count": 65,
   "metadata": {},
   "outputs": [
    {
     "data": {
      "text/plain": [
       "<matplotlib.axes._subplots.AxesSubplot at 0x7fd7f344f438>"
      ]
     },
     "execution_count": 65,
     "metadata": {},
     "output_type": "execute_result"
    },
    {
     "data": {
      "image/png": "[encoded data removed]",
      "text/plain": [
       "<Figure size 432x288 with 1 Axes>"
      ]
     },
     "metadata": {
      "needs_background": "light"
     },
     "output_type": "display_data"
    }
   ],
   "source": [
    "sns.distplot(Y_pred, kde=False, bins=4)"
   ]
  },
  {
   "cell_type": "markdown",
   "metadata": {},
   "source": [
    "Finally, calculate the mean squared error for the test set and see how much of an improvement it is from the baseline."
   ]
  },
  {
   "cell_type": "code",
   "execution_count": 66,
   "metadata": {},
   "outputs": [
    {
     "name": "stdout",
     "output_type": "stream",
     "text": [
      "MSE: 1.2498423787249675\n"
     ]
    }
   ],
   "source": [
    "print('MSE:', np.mean((test_df['star_rating'] - Y_pred) ** 2))# Enter your code here"
   ]
  },
  {
   "cell_type": "markdown",
   "metadata": {},
   "source": [
    "For recommender systems, subjective accuracy also matters. Get some recommendations for a random user to see if they make intuitive sense.\n",
    "\n",
    "Try using user number 200, and see what they have watched and rated highly."
   ]
  },
  {
   "cell_type": "code",
   "execution_count": 95,
   "metadata": {},
   "outputs": [
    {
     "data": {
      "text/html": [
       "<div>\n",
       "<style scoped>\n",
       "    .dataframe tbody tr th:only-of-type {\n",
       "        vertical-align: middle;\n",
       "    }\n",
       "\n",
       "    .dataframe tbody tr th {\n",
       "        vertical-align: top;\n",
       "    }\n",
       "\n",
       "    .dataframe thead th {\n",
       "        text-align: right;\n",
       "    }\n",
       "</style>\n",
       "<table border=\"1\" class=\"dataframe\">\n",
       "  <thead>\n",
       "    <tr style=\"text-align: right;\">\n",
       "      <th></th>\n",
       "      <th>customer_id</th>\n",
       "      <th>product_id</th>\n",
       "      <th>product_title</th>\n",
       "      <th>star_rating</th>\n",
       "      <th>user</th>\n",
       "      <th>item</th>\n",
       "    </tr>\n",
       "  </thead>\n",
       "  <tbody>\n",
       "    <tr>\n",
       "      <th>60486</th>\n",
       "      <td>43080952</td>\n",
       "      <td>B00DTOYJJ2</td>\n",
       "      <td>Breaking Bad The Final Season</td>\n",
       "      <td>5</td>\n",
       "      <td>200</td>\n",
       "      <td>76</td>\n",
       "    </tr>\n",
       "    <tr>\n",
       "      <th>14249</th>\n",
       "      <td>43080952</td>\n",
       "      <td>B00VFTA70I</td>\n",
       "      <td>The Imitation Game</td>\n",
       "      <td>5</td>\n",
       "      <td>200</td>\n",
       "      <td>87</td>\n",
       "    </tr>\n",
       "    <tr>\n",
       "      <th>28407</th>\n",
       "      <td>43080952</td>\n",
       "      <td>B00KG2NGPS</td>\n",
       "      <td>The Monuments Men</td>\n",
       "      <td>5</td>\n",
       "      <td>200</td>\n",
       "      <td>150</td>\n",
       "    </tr>\n",
       "    <tr>\n",
       "      <th>71978</th>\n",
       "      <td>43080952</td>\n",
       "      <td>B00TPJHW7Q</td>\n",
       "      <td>The Theory of Everything</td>\n",
       "      <td>5</td>\n",
       "      <td>200</td>\n",
       "      <td>155</td>\n",
       "    </tr>\n",
       "    <tr>\n",
       "      <th>6753</th>\n",
       "      <td>43080952</td>\n",
       "      <td>B00IIVJU3Q</td>\n",
       "      <td>Philomena</td>\n",
       "      <td>5</td>\n",
       "      <td>200</td>\n",
       "      <td>180</td>\n",
       "    </tr>\n",
       "    <tr>\n",
       "      <th>84419</th>\n",
       "      <td>43080952</td>\n",
       "      <td>B0047WJ12K</td>\n",
       "      <td>Inception</td>\n",
       "      <td>5</td>\n",
       "      <td>200</td>\n",
       "      <td>473</td>\n",
       "    </tr>\n",
       "    <tr>\n",
       "      <th>161384</th>\n",
       "      <td>43080952</td>\n",
       "      <td>B00DGNO3WE</td>\n",
       "      <td>Quartet</td>\n",
       "      <td>5</td>\n",
       "      <td>200</td>\n",
       "      <td>1111</td>\n",
       "    </tr>\n",
       "    <tr>\n",
       "      <th>119440</th>\n",
       "      <td>43080952</td>\n",
       "      <td>B0059R5Q08</td>\n",
       "      <td>Jane Eyre</td>\n",
       "      <td>5</td>\n",
       "      <td>200</td>\n",
       "      <td>2611</td>\n",
       "    </tr>\n",
       "    <tr>\n",
       "      <th>167594</th>\n",
       "      <td>43080952</td>\n",
       "      <td>B001VLKWUA</td>\n",
       "      <td>Out of Africa</td>\n",
       "      <td>5</td>\n",
       "      <td>200</td>\n",
       "      <td>3174</td>\n",
       "    </tr>\n",
       "    <tr>\n",
       "      <th>136597</th>\n",
       "      <td>43080952</td>\n",
       "      <td>B00TF87WQI</td>\n",
       "      <td>Rosewater</td>\n",
       "      <td>5</td>\n",
       "      <td>200</td>\n",
       "      <td>3459</td>\n",
       "    </tr>\n",
       "    <tr>\n",
       "      <th>118790</th>\n",
       "      <td>43080952</td>\n",
       "      <td>B001P4NZ9I</td>\n",
       "      <td>Louis CK: Chewed Up</td>\n",
       "      <td>5</td>\n",
       "      <td>200</td>\n",
       "      <td>3653</td>\n",
       "    </tr>\n",
       "    <tr>\n",
       "      <th>99775</th>\n",
       "      <td>43080952</td>\n",
       "      <td>B00SH00N3Y</td>\n",
       "      <td>Lucy</td>\n",
       "      <td>4</td>\n",
       "      <td>200</td>\n",
       "      <td>26</td>\n",
       "    </tr>\n",
       "    <tr>\n",
       "      <th>40897</th>\n",
       "      <td>43080952</td>\n",
       "      <td>B00I8H6MGS</td>\n",
       "      <td>Dallas Buyers Club</td>\n",
       "      <td>4</td>\n",
       "      <td>200</td>\n",
       "      <td>40</td>\n",
       "    </tr>\n",
       "    <tr>\n",
       "      <th>102549</th>\n",
       "      <td>43080952</td>\n",
       "      <td>B00S65TBHY</td>\n",
       "      <td>Gone Girl</td>\n",
       "      <td>4</td>\n",
       "      <td>200</td>\n",
       "      <td>41</td>\n",
       "    </tr>\n",
       "    <tr>\n",
       "      <th>40443</th>\n",
       "      <td>43080952</td>\n",
       "      <td>B00J8CG6KE</td>\n",
       "      <td>Wolf Of Wall Street</td>\n",
       "      <td>4</td>\n",
       "      <td>200</td>\n",
       "      <td>46</td>\n",
       "    </tr>\n",
       "    <tr>\n",
       "      <th>27118</th>\n",
       "      <td>43080952</td>\n",
       "      <td>B00TPJE3ZK</td>\n",
       "      <td>Birdman</td>\n",
       "      <td>4</td>\n",
       "      <td>200</td>\n",
       "      <td>71</td>\n",
       "    </tr>\n",
       "    <tr>\n",
       "      <th>3368</th>\n",
       "      <td>43080952</td>\n",
       "      <td>B00XVPL8G6</td>\n",
       "      <td>American Sniper</td>\n",
       "      <td>4</td>\n",
       "      <td>200</td>\n",
       "      <td>97</td>\n",
       "    </tr>\n",
       "    <tr>\n",
       "      <th>45654</th>\n",
       "      <td>43080952</td>\n",
       "      <td>B00J2PEU3W</td>\n",
       "      <td>Saving Mr. Banks</td>\n",
       "      <td>4</td>\n",
       "      <td>200</td>\n",
       "      <td>113</td>\n",
       "    </tr>\n",
       "    <tr>\n",
       "      <th>28279</th>\n",
       "      <td>43080952</td>\n",
       "      <td>B00IMY9TNK</td>\n",
       "      <td>Nebraska</td>\n",
       "      <td>4</td>\n",
       "      <td>200</td>\n",
       "      <td>195</td>\n",
       "    </tr>\n",
       "    <tr>\n",
       "      <th>93385</th>\n",
       "      <td>43080952</td>\n",
       "      <td>B00TF874XE</td>\n",
       "      <td>Nightcrawler</td>\n",
       "      <td>4</td>\n",
       "      <td>200</td>\n",
       "      <td>273</td>\n",
       "    </tr>\n",
       "    <tr>\n",
       "      <th>34018</th>\n",
       "      <td>43080952</td>\n",
       "      <td>B00RNRD8RA</td>\n",
       "      <td>The Interview</td>\n",
       "      <td>4</td>\n",
       "      <td>200</td>\n",
       "      <td>367</td>\n",
       "    </tr>\n",
       "    <tr>\n",
       "      <th>20026</th>\n",
       "      <td>43080952</td>\n",
       "      <td>B00XJDYITO</td>\n",
       "      <td>Still Alice</td>\n",
       "      <td>4</td>\n",
       "      <td>200</td>\n",
       "      <td>385</td>\n",
       "    </tr>\n",
       "    <tr>\n",
       "      <th>12546</th>\n",
       "      <td>43080952</td>\n",
       "      <td>B006IGZWB2</td>\n",
       "      <td>The Help</td>\n",
       "      <td>4</td>\n",
       "      <td>200</td>\n",
       "      <td>457</td>\n",
       "    </tr>\n",
       "    <tr>\n",
       "      <th>123745</th>\n",
       "      <td>43080952</td>\n",
       "      <td>B001Q2J8BS</td>\n",
       "      <td>Burn After Reading</td>\n",
       "      <td>4</td>\n",
       "      <td>200</td>\n",
       "      <td>3160</td>\n",
       "    </tr>\n",
       "    <tr>\n",
       "      <th>26130</th>\n",
       "      <td>43080952</td>\n",
       "      <td>B00797MB0O</td>\n",
       "      <td>Young Adult</td>\n",
       "      <td>4</td>\n",
       "      <td>200</td>\n",
       "      <td>3600</td>\n",
       "    </tr>\n",
       "    <tr>\n",
       "      <th>150894</th>\n",
       "      <td>43080952</td>\n",
       "      <td>B001AITGWE</td>\n",
       "      <td>Falling Down</td>\n",
       "      <td>4</td>\n",
       "      <td>200</td>\n",
       "      <td>4961</td>\n",
       "    </tr>\n",
       "    <tr>\n",
       "      <th>28625</th>\n",
       "      <td>43080952</td>\n",
       "      <td>B00IMYSCR4</td>\n",
       "      <td>Gravity</td>\n",
       "      <td>3</td>\n",
       "      <td>200</td>\n",
       "      <td>15</td>\n",
       "    </tr>\n",
       "    <tr>\n",
       "      <th>55116</th>\n",
       "      <td>43080952</td>\n",
       "      <td>B00HYTSTNU</td>\n",
       "      <td>Captain Phillips</td>\n",
       "      <td>3</td>\n",
       "      <td>200</td>\n",
       "      <td>47</td>\n",
       "    </tr>\n",
       "    <tr>\n",
       "      <th>142138</th>\n",
       "      <td>43080952</td>\n",
       "      <td>B00HZ4ASEC</td>\n",
       "      <td>Last Vegas</td>\n",
       "      <td>3</td>\n",
       "      <td>200</td>\n",
       "      <td>104</td>\n",
       "    </tr>\n",
       "    <tr>\n",
       "      <th>6913</th>\n",
       "      <td>43080952</td>\n",
       "      <td>B00JP5ONY0</td>\n",
       "      <td>The Secret Life of Walter Mitty</td>\n",
       "      <td>3</td>\n",
       "      <td>200</td>\n",
       "      <td>117</td>\n",
       "    </tr>\n",
       "    <tr>\n",
       "      <th>112562</th>\n",
       "      <td>43080952</td>\n",
       "      <td>B00J2PRBNS</td>\n",
       "      <td>American Hustle</td>\n",
       "      <td>3</td>\n",
       "      <td>200</td>\n",
       "      <td>136</td>\n",
       "    </tr>\n",
       "    <tr>\n",
       "      <th>56580</th>\n",
       "      <td>43080952</td>\n",
       "      <td>B00QGKVB4W</td>\n",
       "      <td>The Hundred-Foot Journey (Theatrical)</td>\n",
       "      <td>3</td>\n",
       "      <td>200</td>\n",
       "      <td>199</td>\n",
       "    </tr>\n",
       "    <tr>\n",
       "      <th>50080</th>\n",
       "      <td>43080952</td>\n",
       "      <td>B00JJH3HCS</td>\n",
       "      <td>August: Osage County</td>\n",
       "      <td>3</td>\n",
       "      <td>200</td>\n",
       "      <td>209</td>\n",
       "    </tr>\n",
       "    <tr>\n",
       "      <th>40084</th>\n",
       "      <td>43080952</td>\n",
       "      <td>B00L23RCPU</td>\n",
       "      <td>The Grand Budapest Hotel</td>\n",
       "      <td>3</td>\n",
       "      <td>200</td>\n",
       "      <td>227</td>\n",
       "    </tr>\n",
       "    <tr>\n",
       "      <th>74850</th>\n",
       "      <td>43080952</td>\n",
       "      <td>B00H8C4HZ2</td>\n",
       "      <td>Lee Daniels' The Butler</td>\n",
       "      <td>3</td>\n",
       "      <td>200</td>\n",
       "      <td>228</td>\n",
       "    </tr>\n",
       "    <tr>\n",
       "      <th>97041</th>\n",
       "      <td>43080952</td>\n",
       "      <td>B00HAQAQME</td>\n",
       "      <td>Blue Jasmine</td>\n",
       "      <td>3</td>\n",
       "      <td>200</td>\n",
       "      <td>270</td>\n",
       "    </tr>\n",
       "    <tr>\n",
       "      <th>45571</th>\n",
       "      <td>43080952</td>\n",
       "      <td>B00VFTBPSG</td>\n",
       "      <td>Wild</td>\n",
       "      <td>3</td>\n",
       "      <td>200</td>\n",
       "      <td>353</td>\n",
       "    </tr>\n",
       "    <tr>\n",
       "      <th>43350</th>\n",
       "      <td>43080952</td>\n",
       "      <td>B00HNBS8MQ</td>\n",
       "      <td>Thanks For Sharing</td>\n",
       "      <td>3</td>\n",
       "      <td>200</td>\n",
       "      <td>713</td>\n",
       "    </tr>\n",
       "    <tr>\n",
       "      <th>121649</th>\n",
       "      <td>43080952</td>\n",
       "      <td>B00WG1FMCW</td>\n",
       "      <td>Cake</td>\n",
       "      <td>3</td>\n",
       "      <td>200</td>\n",
       "      <td>1171</td>\n",
       "    </tr>\n",
       "    <tr>\n",
       "      <th>155565</th>\n",
       "      <td>43080952</td>\n",
       "      <td>B00G32OMF8</td>\n",
       "      <td>Before Midnight</td>\n",
       "      <td>3</td>\n",
       "      <td>200</td>\n",
       "      <td>2465</td>\n",
       "    </tr>\n",
       "    <tr>\n",
       "      <th>74333</th>\n",
       "      <td>43080952</td>\n",
       "      <td>B00ST1OBS4</td>\n",
       "      <td>The Judge (2014)</td>\n",
       "      <td>2</td>\n",
       "      <td>200</td>\n",
       "      <td>34</td>\n",
       "    </tr>\n",
       "    <tr>\n",
       "      <th>97168</th>\n",
       "      <td>43080952</td>\n",
       "      <td>B00RVC3YKI</td>\n",
       "      <td>Boyhood</td>\n",
       "      <td>2</td>\n",
       "      <td>200</td>\n",
       "      <td>558</td>\n",
       "    </tr>\n",
       "    <tr>\n",
       "      <th>72804</th>\n",
       "      <td>43080952</td>\n",
       "      <td>B00U7B21A4</td>\n",
       "      <td>Foxcatcher</td>\n",
       "      <td>2</td>\n",
       "      <td>200</td>\n",
       "      <td>865</td>\n",
       "    </tr>\n",
       "    <tr>\n",
       "      <th>57296</th>\n",
       "      <td>43080952</td>\n",
       "      <td>B001DM1VXE</td>\n",
       "      <td>Pi</td>\n",
       "      <td>2</td>\n",
       "      <td>200</td>\n",
       "      <td>1788</td>\n",
       "    </tr>\n",
       "    <tr>\n",
       "      <th>29821</th>\n",
       "      <td>43080952</td>\n",
       "      <td>B005KL3R6I</td>\n",
       "      <td>Bridesmaids</td>\n",
       "      <td>1</td>\n",
       "      <td>200</td>\n",
       "      <td>555</td>\n",
       "    </tr>\n",
       "    <tr>\n",
       "      <th>115522</th>\n",
       "      <td>43080952</td>\n",
       "      <td>B001H6BIOS</td>\n",
       "      <td>Then She Found Me</td>\n",
       "      <td>1</td>\n",
       "      <td>200</td>\n",
       "      <td>1731</td>\n",
       "    </tr>\n",
       "  </tbody>\n",
       "</table>\n",
       "</div>"
      ],
      "text/plain": [
       "        customer_id  product_id                          product_title  \\\n",
       "60486      43080952  B00DTOYJJ2          Breaking Bad The Final Season   \n",
       "14249      43080952  B00VFTA70I                     The Imitation Game   \n",
       "28407      43080952  B00KG2NGPS                      The Monuments Men   \n",
       "71978      43080952  B00TPJHW7Q               The Theory of Everything   \n",
       "6753       43080952  B00IIVJU3Q                              Philomena   \n",
       "84419      43080952  B0047WJ12K                              Inception   \n",
       "161384     43080952  B00DGNO3WE                                Quartet   \n",
       "119440     43080952  B0059R5Q08                              Jane Eyre   \n",
       "167594     43080952  B001VLKWUA                          Out of Africa   \n",
       "136597     43080952  B00TF87WQI                              Rosewater   \n",
       "118790     43080952  B001P4NZ9I                    Louis CK: Chewed Up   \n",
       "99775      43080952  B00SH00N3Y                                   Lucy   \n",
       "40897      43080952  B00I8H6MGS                     Dallas Buyers Club   \n",
       "102549     43080952  B00S65TBHY                              Gone Girl   \n",
       "40443      43080952  B00J8CG6KE                    Wolf Of Wall Street   \n",
       "27118      43080952  B00TPJE3ZK                                Birdman   \n",
       "3368       43080952  B00XVPL8G6                        American Sniper   \n",
       "45654      43080952  B00J2PEU3W                       Saving Mr. Banks   \n",
       "28279      43080952  B00IMY9TNK                               Nebraska   \n",
       "93385      43080952  B00TF874XE                           Nightcrawler   \n",
       "34018      43080952  B00RNRD8RA                          The Interview   \n",
       "20026      43080952  B00XJDYITO                            Still Alice   \n",
       "12546      43080952  B006IGZWB2                               The Help   \n",
       "123745     43080952  B001Q2J8BS                     Burn After Reading   \n",
       "26130      43080952  B00797MB0O                            Young Adult   \n",
       "150894     43080952  B001AITGWE                           Falling Down   \n",
       "28625      43080952  B00IMYSCR4                                Gravity   \n",
       "55116      43080952  B00HYTSTNU                       Captain Phillips   \n",
       "142138     43080952  B00HZ4ASEC                             Last Vegas   \n",
       "6913       43080952  B00JP5ONY0        The Secret Life of Walter Mitty   \n",
       "112562     43080952  B00J2PRBNS                        American Hustle   \n",
       "56580      43080952  B00QGKVB4W  The Hundred-Foot Journey (Theatrical)   \n",
       "50080      43080952  B00JJH3HCS                   August: Osage County   \n",
       "40084      43080952  B00L23RCPU               The Grand Budapest Hotel   \n",
       "74850      43080952  B00H8C4HZ2                Lee Daniels' The Butler   \n",
       "97041      43080952  B00HAQAQME                           Blue Jasmine   \n",
       "45571      43080952  B00VFTBPSG                                   Wild   \n",
       "43350      43080952  B00HNBS8MQ                     Thanks For Sharing   \n",
       "121649     43080952  B00WG1FMCW                                   Cake   \n",
       "155565     43080952  B00G32OMF8                        Before Midnight   \n",
       "74333      43080952  B00ST1OBS4                       The Judge (2014)   \n",
       "97168      43080952  B00RVC3YKI                                Boyhood   \n",
       "72804      43080952  B00U7B21A4                             Foxcatcher   \n",
       "57296      43080952  B001DM1VXE                                     Pi   \n",
       "29821      43080952  B005KL3R6I                            Bridesmaids   \n",
       "115522     43080952  B001H6BIOS                      Then She Found Me   \n",
       "\n",
       "        star_rating  user  item  \n",
       "60486             5   200    76  \n",
       "14249             5   200    87  \n",
       "28407             5   200   150  \n",
       "71978             5   200   155  \n",
       "6753              5   200   180  \n",
       "84419             5   200   473  \n",
       "161384            5   200  1111  \n",
       "119440            5   200  2611  \n",
       "167594            5   200  3174  \n",
       "136597            5   200  3459  \n",
       "118790            5   200  3653  \n",
       "99775             4   200    26  \n",
       "40897             4   200    40  \n",
       "102549            4   200    41  \n",
       "40443             4   200    46  \n",
       "27118             4   200    71  \n",
       "3368              4   200    97  \n",
       "45654             4   200   113  \n",
       "28279             4   200   195  \n",
       "93385             4   200   273  \n",
       "34018             4   200   367  \n",
       "20026             4   200   385  \n",
       "12546             4   200   457  \n",
       "123745            4   200  3160  \n",
       "26130             4   200  3600  \n",
       "150894            4   200  4961  \n",
       "28625             3   200    15  \n",
       "55116             3   200    47  \n",
       "142138            3   200   104  \n",
       "6913              3   200   117  \n",
       "112562            3   200   136  \n",
       "56580             3   200   199  \n",
       "50080             3   200   209  \n",
       "40084             3   200   227  \n",
       "74850             3   200   228  \n",
       "97041             3   200   270  \n",
       "45571             3   200   353  \n",
       "43350             3   200   713  \n",
       "121649            3   200  1171  \n",
       "155565            3   200  2465  \n",
       "74333             2   200    34  \n",
       "97168             2   200   558  \n",
       "72804             2   200   865  \n",
       "57296             2   200  1788  \n",
       "29821             1   200   555  \n",
       "115522            1   200  1731  "
      ]
     },
     "execution_count": 95,
     "metadata": {},
     "output_type": "execute_result"
    },
    {
     "data": {
      "text/html": [
       "<div>\n",
       "<style scoped>\n",
       "    .dataframe tbody tr th:only-of-type {\n",
       "        vertical-align: middle;\n",
       "    }\n",
       "\n",
       "    .dataframe tbody tr th {\n",
       "        vertical-align: top;\n",
       "    }\n",
       "\n",
       "    .dataframe thead th {\n",
       "        text-align: right;\n",
       "    }\n",
       "</style>\n",
       "<table border=\"1\" class=\"dataframe\">\n",
       "  <thead>\n",
       "    <tr style=\"text-align: right;\">\n",
       "      <th></th>\n",
       "      <th>customer_id</th>\n",
       "      <th>product_id</th>\n",
       "      <th>product_title</th>\n",
       "      <th>star_rating</th>\n",
       "      <th>user</th>\n",
       "      <th>item</th>\n",
       "    </tr>\n",
       "  </thead>\n",
       "  <tbody>\n",
       "    <tr>\n",
       "      <th>89545</th>\n",
       "      <td>51970325</td>\n",
       "      <td>B00IUBXPEY</td>\n",
       "      <td>The Hunger Games: Catching Fire</td>\n",
       "      <td>5</td>\n",
       "      <td>201</td>\n",
       "      <td>28</td>\n",
       "    </tr>\n",
       "    <tr>\n",
       "      <th>21229</th>\n",
       "      <td>51970325</td>\n",
       "      <td>B00CW8DRU8</td>\n",
       "      <td>The Newsroom: Season 1</td>\n",
       "      <td>5</td>\n",
       "      <td>201</td>\n",
       "      <td>215</td>\n",
       "    </tr>\n",
       "    <tr>\n",
       "      <th>6616</th>\n",
       "      <td>51970325</td>\n",
       "      <td>B00ESNE696</td>\n",
       "      <td>The Good Wife, Season 5</td>\n",
       "      <td>5</td>\n",
       "      <td>201</td>\n",
       "      <td>342</td>\n",
       "    </tr>\n",
       "    <tr>\n",
       "      <th>25844</th>\n",
       "      <td>51970325</td>\n",
       "      <td>B00COGXGNQ</td>\n",
       "      <td>Safe Haven</td>\n",
       "      <td>5</td>\n",
       "      <td>201</td>\n",
       "      <td>582</td>\n",
       "    </tr>\n",
       "    <tr>\n",
       "      <th>96626</th>\n",
       "      <td>51970325</td>\n",
       "      <td>B00DQIT734</td>\n",
       "      <td>Suits Season 3</td>\n",
       "      <td>5</td>\n",
       "      <td>201</td>\n",
       "      <td>605</td>\n",
       "    </tr>\n",
       "    <tr>\n",
       "      <th>9313</th>\n",
       "      <td>51970325</td>\n",
       "      <td>B0064MGU98</td>\n",
       "      <td>The Good Wife, Season 1</td>\n",
       "      <td>5</td>\n",
       "      <td>201</td>\n",
       "      <td>673</td>\n",
       "    </tr>\n",
       "    <tr>\n",
       "      <th>148312</th>\n",
       "      <td>51970325</td>\n",
       "      <td>B009JZWO3I</td>\n",
       "      <td>The Good Wife, Season 4</td>\n",
       "      <td>5</td>\n",
       "      <td>201</td>\n",
       "      <td>1221</td>\n",
       "    </tr>\n",
       "    <tr>\n",
       "      <th>47048</th>\n",
       "      <td>51970325</td>\n",
       "      <td>B004BGQA8A</td>\n",
       "      <td>As Time Goes By Season 1</td>\n",
       "      <td>5</td>\n",
       "      <td>201</td>\n",
       "      <td>1477</td>\n",
       "    </tr>\n",
       "    <tr>\n",
       "      <th>104031</th>\n",
       "      <td>51970325</td>\n",
       "      <td>B008BQ8VOC</td>\n",
       "      <td>Suits Season 2</td>\n",
       "      <td>5</td>\n",
       "      <td>201</td>\n",
       "      <td>1622</td>\n",
       "    </tr>\n",
       "    <tr>\n",
       "      <th>151569</th>\n",
       "      <td>51970325</td>\n",
       "      <td>B007O62JG6</td>\n",
       "      <td>Tangled Ever After (Short)</td>\n",
       "      <td>5</td>\n",
       "      <td>201</td>\n",
       "      <td>1891</td>\n",
       "    </tr>\n",
       "    <tr>\n",
       "      <th>112770</th>\n",
       "      <td>51970325</td>\n",
       "      <td>B005544V6A</td>\n",
       "      <td>Suits Season 1</td>\n",
       "      <td>5</td>\n",
       "      <td>201</td>\n",
       "      <td>2058</td>\n",
       "    </tr>\n",
       "    <tr>\n",
       "      <th>78467</th>\n",
       "      <td>51970325</td>\n",
       "      <td>B0031KE9C6</td>\n",
       "      <td>Veronica Mars Season One</td>\n",
       "      <td>5</td>\n",
       "      <td>201</td>\n",
       "      <td>2143</td>\n",
       "    </tr>\n",
       "    <tr>\n",
       "      <th>66576</th>\n",
       "      <td>51970325</td>\n",
       "      <td>B004BGS3C6</td>\n",
       "      <td>As Time Goes By Season 2</td>\n",
       "      <td>5</td>\n",
       "      <td>201</td>\n",
       "      <td>2161</td>\n",
       "    </tr>\n",
       "    <tr>\n",
       "      <th>47019</th>\n",
       "      <td>51970325</td>\n",
       "      <td>B004BGSGLO</td>\n",
       "      <td>As Time Goes By Season 3</td>\n",
       "      <td>5</td>\n",
       "      <td>201</td>\n",
       "      <td>2237</td>\n",
       "    </tr>\n",
       "    <tr>\n",
       "      <th>66608</th>\n",
       "      <td>51970325</td>\n",
       "      <td>B004BTUON4</td>\n",
       "      <td>As Time Goes By Season 5</td>\n",
       "      <td>5</td>\n",
       "      <td>201</td>\n",
       "      <td>2841</td>\n",
       "    </tr>\n",
       "    <tr>\n",
       "      <th>9349</th>\n",
       "      <td>51970325</td>\n",
       "      <td>B005HFB85Y</td>\n",
       "      <td>Philly Season 1</td>\n",
       "      <td>5</td>\n",
       "      <td>201</td>\n",
       "      <td>4179</td>\n",
       "    </tr>\n",
       "    <tr>\n",
       "      <th>110522</th>\n",
       "      <td>51970325</td>\n",
       "      <td>B007IVN8QW</td>\n",
       "      <td>Dance Academy Season 1</td>\n",
       "      <td>5</td>\n",
       "      <td>201</td>\n",
       "      <td>4308</td>\n",
       "    </tr>\n",
       "    <tr>\n",
       "      <th>170853</th>\n",
       "      <td>51970325</td>\n",
       "      <td>B00196YNWU</td>\n",
       "      <td>Annie</td>\n",
       "      <td>5</td>\n",
       "      <td>201</td>\n",
       "      <td>6078</td>\n",
       "    </tr>\n",
       "    <tr>\n",
       "      <th>131848</th>\n",
       "      <td>51970325</td>\n",
       "      <td>B00A954YS0</td>\n",
       "      <td>Dance Academy Season 2</td>\n",
       "      <td>5</td>\n",
       "      <td>201</td>\n",
       "      <td>6286</td>\n",
       "    </tr>\n",
       "    <tr>\n",
       "      <th>102589</th>\n",
       "      <td>51970325</td>\n",
       "      <td>B00S65TBHY</td>\n",
       "      <td>Gone Girl</td>\n",
       "      <td>4</td>\n",
       "      <td>201</td>\n",
       "      <td>41</td>\n",
       "    </tr>\n",
       "    <tr>\n",
       "      <th>128557</th>\n",
       "      <td>51970325</td>\n",
       "      <td>B00EY8BRGU</td>\n",
       "      <td>Now You See Me</td>\n",
       "      <td>4</td>\n",
       "      <td>201</td>\n",
       "      <td>96</td>\n",
       "    </tr>\n",
       "    <tr>\n",
       "      <th>142164</th>\n",
       "      <td>51970325</td>\n",
       "      <td>B00HZ4ASEC</td>\n",
       "      <td>Last Vegas</td>\n",
       "      <td>4</td>\n",
       "      <td>201</td>\n",
       "      <td>104</td>\n",
       "    </tr>\n",
       "    <tr>\n",
       "      <th>25406</th>\n",
       "      <td>51970325</td>\n",
       "      <td>B00LI1DYRG</td>\n",
       "      <td>Extant, Season 1</td>\n",
       "      <td>4</td>\n",
       "      <td>201</td>\n",
       "      <td>700</td>\n",
       "    </tr>\n",
       "    <tr>\n",
       "      <th>7933</th>\n",
       "      <td>51970325</td>\n",
       "      <td>B00B8P8O9K</td>\n",
       "      <td>The Americans Season 1</td>\n",
       "      <td>4</td>\n",
       "      <td>201</td>\n",
       "      <td>765</td>\n",
       "    </tr>\n",
       "    <tr>\n",
       "      <th>22270</th>\n",
       "      <td>51970325</td>\n",
       "      <td>B009329Y30</td>\n",
       "      <td>The Lucky One</td>\n",
       "      <td>4</td>\n",
       "      <td>201</td>\n",
       "      <td>961</td>\n",
       "    </tr>\n",
       "    <tr>\n",
       "      <th>78084</th>\n",
       "      <td>51970325</td>\n",
       "      <td>B00B8C6MR4</td>\n",
       "      <td>The Guardian Season 1</td>\n",
       "      <td>4</td>\n",
       "      <td>201</td>\n",
       "      <td>1124</td>\n",
       "    </tr>\n",
       "    <tr>\n",
       "      <th>9249</th>\n",
       "      <td>51970325</td>\n",
       "      <td>B00OUNOG4E</td>\n",
       "      <td>Laggies</td>\n",
       "      <td>4</td>\n",
       "      <td>201</td>\n",
       "      <td>1145</td>\n",
       "    </tr>\n",
       "    <tr>\n",
       "      <th>9847</th>\n",
       "      <td>51970325</td>\n",
       "      <td>B005MLOOJA</td>\n",
       "      <td>The Good Wife, Season 2</td>\n",
       "      <td>4</td>\n",
       "      <td>201</td>\n",
       "      <td>1769</td>\n",
       "    </tr>\n",
       "    <tr>\n",
       "      <th>7487</th>\n",
       "      <td>51970325</td>\n",
       "      <td>B00MYFAR6G</td>\n",
       "      <td>Breathless Season 1</td>\n",
       "      <td>4</td>\n",
       "      <td>201</td>\n",
       "      <td>2312</td>\n",
       "    </tr>\n",
       "    <tr>\n",
       "      <th>112402</th>\n",
       "      <td>51970325</td>\n",
       "      <td>B004LFJWL8</td>\n",
       "      <td>Due Date</td>\n",
       "      <td>4</td>\n",
       "      <td>201</td>\n",
       "      <td>2445</td>\n",
       "    </tr>\n",
       "    <tr>\n",
       "      <th>121424</th>\n",
       "      <td>51970325</td>\n",
       "      <td>B005PK553C</td>\n",
       "      <td>American Horror Story: Murder House</td>\n",
       "      <td>4</td>\n",
       "      <td>201</td>\n",
       "      <td>2667</td>\n",
       "    </tr>\n",
       "    <tr>\n",
       "      <th>120863</th>\n",
       "      <td>51970325</td>\n",
       "      <td>B000MVN8GK</td>\n",
       "      <td>Veronica Mars Season 3</td>\n",
       "      <td>4</td>\n",
       "      <td>201</td>\n",
       "      <td>2875</td>\n",
       "    </tr>\n",
       "    <tr>\n",
       "      <th>101894</th>\n",
       "      <td>51970325</td>\n",
       "      <td>B000U5Q0BS</td>\n",
       "      <td>The Starter Wife Season 1</td>\n",
       "      <td>4</td>\n",
       "      <td>201</td>\n",
       "      <td>2960</td>\n",
       "    </tr>\n",
       "    <tr>\n",
       "      <th>164117</th>\n",
       "      <td>51970325</td>\n",
       "      <td>B005DJREJS</td>\n",
       "      <td>Awkward. Season 1</td>\n",
       "      <td>4</td>\n",
       "      <td>201</td>\n",
       "      <td>4773</td>\n",
       "    </tr>\n",
       "    <tr>\n",
       "      <th>97410</th>\n",
       "      <td>51970325</td>\n",
       "      <td>B00JM036XM</td>\n",
       "      <td>Gimme Shelter</td>\n",
       "      <td>4</td>\n",
       "      <td>201</td>\n",
       "      <td>4845</td>\n",
       "    </tr>\n",
       "    <tr>\n",
       "      <th>168217</th>\n",
       "      <td>51970325</td>\n",
       "      <td>B003E3CMW4</td>\n",
       "      <td>This Emotional Life</td>\n",
       "      <td>4</td>\n",
       "      <td>201</td>\n",
       "      <td>5765</td>\n",
       "    </tr>\n",
       "    <tr>\n",
       "      <th>74377</th>\n",
       "      <td>51970325</td>\n",
       "      <td>B00ST1OBS4</td>\n",
       "      <td>The Judge (2014)</td>\n",
       "      <td>3</td>\n",
       "      <td>201</td>\n",
       "      <td>34</td>\n",
       "    </tr>\n",
       "    <tr>\n",
       "      <th>29520</th>\n",
       "      <td>51970325</td>\n",
       "      <td>B00GLX1MG6</td>\n",
       "      <td>We're the Millers</td>\n",
       "      <td>3</td>\n",
       "      <td>201</td>\n",
       "      <td>110</td>\n",
       "    </tr>\n",
       "    <tr>\n",
       "      <th>21906</th>\n",
       "      <td>51970325</td>\n",
       "      <td>B00N40G62E</td>\n",
       "      <td>Words and Pictures</td>\n",
       "      <td>3</td>\n",
       "      <td>201</td>\n",
       "      <td>664</td>\n",
       "    </tr>\n",
       "    <tr>\n",
       "      <th>25447</th>\n",
       "      <td>51970325</td>\n",
       "      <td>B00BMT9SQA</td>\n",
       "      <td>The Guilt Trip</td>\n",
       "      <td>3</td>\n",
       "      <td>201</td>\n",
       "      <td>1198</td>\n",
       "    </tr>\n",
       "    <tr>\n",
       "      <th>108069</th>\n",
       "      <td>51970325</td>\n",
       "      <td>B003VXMMTK</td>\n",
       "      <td>Tess of the D'urbervilles Season 1</td>\n",
       "      <td>3</td>\n",
       "      <td>201</td>\n",
       "      <td>3789</td>\n",
       "    </tr>\n",
       "    <tr>\n",
       "      <th>161321</th>\n",
       "      <td>51970325</td>\n",
       "      <td>B001O3JX2I</td>\n",
       "      <td>The Duchess</td>\n",
       "      <td>3</td>\n",
       "      <td>201</td>\n",
       "      <td>4396</td>\n",
       "    </tr>\n",
       "    <tr>\n",
       "      <th>149365</th>\n",
       "      <td>51970325</td>\n",
       "      <td>B002GJO6GC</td>\n",
       "      <td>Warehouse 13 Season 1</td>\n",
       "      <td>2</td>\n",
       "      <td>201</td>\n",
       "      <td>4423</td>\n",
       "    </tr>\n",
       "    <tr>\n",
       "      <th>23111</th>\n",
       "      <td>51970325</td>\n",
       "      <td>B00I3MOT0Y</td>\n",
       "      <td>Transparent Season 1</td>\n",
       "      <td>1</td>\n",
       "      <td>201</td>\n",
       "      <td>1421</td>\n",
       "    </tr>\n",
       "    <tr>\n",
       "      <th>126322</th>\n",
       "      <td>51970325</td>\n",
       "      <td>B00HNBVR1K</td>\n",
       "      <td>Thanks For Sharing</td>\n",
       "      <td>1</td>\n",
       "      <td>201</td>\n",
       "      <td>1664</td>\n",
       "    </tr>\n",
       "    <tr>\n",
       "      <th>159434</th>\n",
       "      <td>51970325</td>\n",
       "      <td>B006RXQ8RI</td>\n",
       "      <td>Kill Bill: Volume 1</td>\n",
       "      <td>1</td>\n",
       "      <td>201</td>\n",
       "      <td>5799</td>\n",
       "    </tr>\n",
       "  </tbody>\n",
       "</table>\n",
       "</div>"
      ],
      "text/plain": [
       "        customer_id  product_id                        product_title  \\\n",
       "89545      51970325  B00IUBXPEY      The Hunger Games: Catching Fire   \n",
       "21229      51970325  B00CW8DRU8               The Newsroom: Season 1   \n",
       "6616       51970325  B00ESNE696              The Good Wife, Season 5   \n",
       "25844      51970325  B00COGXGNQ                           Safe Haven   \n",
       "96626      51970325  B00DQIT734                       Suits Season 3   \n",
       "9313       51970325  B0064MGU98              The Good Wife, Season 1   \n",
       "148312     51970325  B009JZWO3I              The Good Wife, Season 4   \n",
       "47048      51970325  B004BGQA8A             As Time Goes By Season 1   \n",
       "104031     51970325  B008BQ8VOC                       Suits Season 2   \n",
       "151569     51970325  B007O62JG6           Tangled Ever After (Short)   \n",
       "112770     51970325  B005544V6A                       Suits Season 1   \n",
       "78467      51970325  B0031KE9C6             Veronica Mars Season One   \n",
       "66576      51970325  B004BGS3C6             As Time Goes By Season 2   \n",
       "47019      51970325  B004BGSGLO             As Time Goes By Season 3   \n",
       "66608      51970325  B004BTUON4             As Time Goes By Season 5   \n",
       "9349       51970325  B005HFB85Y                      Philly Season 1   \n",
       "110522     51970325  B007IVN8QW               Dance Academy Season 1   \n",
       "170853     51970325  B00196YNWU                                Annie   \n",
       "131848     51970325  B00A954YS0               Dance Academy Season 2   \n",
       "102589     51970325  B00S65TBHY                            Gone Girl   \n",
       "128557     51970325  B00EY8BRGU                       Now You See Me   \n",
       "142164     51970325  B00HZ4ASEC                           Last Vegas   \n",
       "25406      51970325  B00LI1DYRG                     Extant, Season 1   \n",
       "7933       51970325  B00B8P8O9K               The Americans Season 1   \n",
       "22270      51970325  B009329Y30                        The Lucky One   \n",
       "78084      51970325  B00B8C6MR4                The Guardian Season 1   \n",
       "9249       51970325  B00OUNOG4E                              Laggies   \n",
       "9847       51970325  B005MLOOJA              The Good Wife, Season 2   \n",
       "7487       51970325  B00MYFAR6G                  Breathless Season 1   \n",
       "112402     51970325  B004LFJWL8                             Due Date   \n",
       "121424     51970325  B005PK553C  American Horror Story: Murder House   \n",
       "120863     51970325  B000MVN8GK               Veronica Mars Season 3   \n",
       "101894     51970325  B000U5Q0BS            The Starter Wife Season 1   \n",
       "164117     51970325  B005DJREJS                    Awkward. Season 1   \n",
       "97410      51970325  B00JM036XM                        Gimme Shelter   \n",
       "168217     51970325  B003E3CMW4                  This Emotional Life   \n",
       "74377      51970325  B00ST1OBS4                     The Judge (2014)   \n",
       "29520      51970325  B00GLX1MG6                    We're the Millers   \n",
       "21906      51970325  B00N40G62E                   Words and Pictures   \n",
       "25447      51970325  B00BMT9SQA                       The Guilt Trip   \n",
       "108069     51970325  B003VXMMTK   Tess of the D'urbervilles Season 1   \n",
       "161321     51970325  B001O3JX2I                          The Duchess   \n",
       "149365     51970325  B002GJO6GC                Warehouse 13 Season 1   \n",
       "23111      51970325  B00I3MOT0Y                 Transparent Season 1   \n",
       "126322     51970325  B00HNBVR1K                   Thanks For Sharing   \n",
       "159434     51970325  B006RXQ8RI                  Kill Bill: Volume 1   \n",
       "\n",
       "        star_rating  user  item  \n",
       "89545             5   201    28  \n",
       "21229             5   201   215  \n",
       "6616              5   201   342  \n",
       "25844             5   201   582  \n",
       "96626             5   201   605  \n",
       "9313              5   201   673  \n",
       "148312            5   201  1221  \n",
       "47048             5   201  1477  \n",
       "104031            5   201  1622  \n",
       "151569            5   201  1891  \n",
       "112770            5   201  2058  \n",
       "78467             5   201  2143  \n",
       "66576             5   201  2161  \n",
       "47019             5   201  2237  \n",
       "66608             5   201  2841  \n",
       "9349              5   201  4179  \n",
       "110522            5   201  4308  \n",
       "170853            5   201  6078  \n",
       "131848            5   201  6286  \n",
       "102589            4   201    41  \n",
       "128557            4   201    96  \n",
       "142164            4   201   104  \n",
       "25406             4   201   700  \n",
       "7933              4   201   765  \n",
       "22270             4   201   961  \n",
       "78084             4   201  1124  \n",
       "9249              4   201  1145  \n",
       "9847              4   201  1769  \n",
       "7487              4   201  2312  \n",
       "112402            4   201  2445  \n",
       "121424            4   201  2667  \n",
       "120863            4   201  2875  \n",
       "101894            4   201  2960  \n",
       "164117            4   201  4773  \n",
       "97410             4   201  4845  \n",
       "168217            4   201  5765  \n",
       "74377             3   201    34  \n",
       "29520             3   201   110  \n",
       "21906             3   201   664  \n",
       "25447             3   201  1198  \n",
       "108069            3   201  3789  \n",
       "161321            3   201  4396  \n",
       "149365            2   201  4423  \n",
       "23111             1   201  1421  \n",
       "126322            1   201  1664  \n",
       "159434            1   201  5799  "
      ]
     },
     "execution_count": 95,
     "metadata": {},
     "output_type": "execute_result"
    }
   ],
   "source": [
    "reduced_df[reduced_df['user'] == 200].sort_values(\n",
    "    ['star_rating', 'item'], ascending=[False, True]) # Enter your code here\n",
    "\n",
    "reduced_df[reduced_df['user'] == 201].sort_values(\n",
    "    ['star_rating', 'item'], ascending=[False, True]) # Enter your code here"
   ]
  },
  {
   "cell_type": "markdown",
   "metadata": {},
   "source": [
    "As you can see, this user likes to watch comedies, romance, and light-hearted movies and dislikes drama and fantasy movies. Let's see how your model predicts movie ratings for this user."
   ]
  },
  {
   "cell_type": "code",
   "execution_count": 74,
   "metadata": {},
   "outputs": [
    {
     "data": {
      "text/plain": [
       "(6659, 17095)"
      ]
     },
     "execution_count": 74,
     "metadata": {},
     "output_type": "execute_result"
    }
   ],
   "source": [
    "# basically I am take this user and check how he would rate every single movie.\n",
    "def prepare_predictions(user_id, number_movies, columns):\n",
    "    # Create the sparse matrix \n",
    "    X = lil_matrix((number_movies, columns)).astype('float32')\n",
    "    movie_index_start = columns - number_movies\n",
    "\n",
    "    # Fill out the matrix. Each row will be the same user with every possible movie.\n",
    "    for row in range(number_movies):\n",
    "        X[row, user_id - 1] = 1\n",
    "        X[row, movie_index_start + row] = 1\n",
    "\n",
    "    return X\n",
    "\n",
    "user_200 = prepare_predictions(200, products.shape[0], customers.shape[0] + products.shape[0])\n",
    "\n",
    "user_200.shape"
   ]
  },
  {
   "cell_type": "markdown",
   "metadata": {},
   "source": [
    "Now create a list of all the ratings that the model would predict for user 200 for all movies."
   ]
  },
  {
   "cell_type": "code",
   "execution_count": 70,
   "metadata": {},
   "outputs": [],
   "source": [
    "pred_200 = []\n",
    "for i in range(0, user_200.shape[0], 5):\n",
    "    preds = fm_predictor.predict(user_200[i:i+5].toarray())['predictions']\n",
    "    p = [pred_200.append(x['score']) for x in preds]\n"
   ]
  },
  {
   "cell_type": "markdown",
   "metadata": {},
   "source": [
    "Now loop through and predict user 200's ratings for every common video in the catalog to see which ones to recommend or not recommend. \n",
    "\n",
    "Create a new dataframe `titles` by using the `reduced_df` dataframe to group by the items. Use the `product_title` column and create another column `score` and add the values from `pred_200` to it."
   ]
  },
  {
   "cell_type": "code",
   "execution_count": 80,
   "metadata": {},
   "outputs": [
    {
     "data": {
      "text/plain": [
       "0       3.648757\n",
       "1       3.808252\n",
       "2       3.489566\n",
       "3       3.895629\n",
       "4       3.454374\n",
       "          ...   \n",
       "6654    3.668333\n",
       "6655    3.670460\n",
       "6656    3.667374\n",
       "6657    3.649661\n",
       "6658    3.666352\n",
       "Name: score, Length: 6659, dtype: float64"
      ]
     },
     "execution_count": 80,
     "metadata": {},
     "output_type": "execute_result"
    }
   ],
   "source": [
    "titles = reduced_df.groupby('item')['product_title'].first().reset_index()\n",
    "titles['score'] = pred_200# Enter your code here"
   ]
  },
  {
   "cell_type": "markdown",
   "metadata": {},
   "source": [
    "**Question:** What products got the highest score?  \n",
    "\n",
    "**Hint**: Use the `sort_values` function to sort columns `score` and `item` and use parameter `asecnding=[False,True]`"
   ]
  },
  {
   "cell_type": "code",
   "execution_count": 81,
   "metadata": {},
   "outputs": [
    {
     "data": {
      "text/html": [
       "<div>\n",
       "<style scoped>\n",
       "    .dataframe tbody tr th:only-of-type {\n",
       "        vertical-align: middle;\n",
       "    }\n",
       "\n",
       "    .dataframe tbody tr th {\n",
       "        vertical-align: top;\n",
       "    }\n",
       "\n",
       "    .dataframe thead th {\n",
       "        text-align: right;\n",
       "    }\n",
       "</style>\n",
       "<table border=\"1\" class=\"dataframe\">\n",
       "  <thead>\n",
       "    <tr style=\"text-align: right;\">\n",
       "      <th></th>\n",
       "      <th>item</th>\n",
       "      <th>product_title</th>\n",
       "      <th>score</th>\n",
       "    </tr>\n",
       "  </thead>\n",
       "  <tbody>\n",
       "    <tr>\n",
       "      <th>1732</th>\n",
       "      <td>1732</td>\n",
       "      <td>Quigley Down Under</td>\n",
       "      <td>3.955348</td>\n",
       "    </tr>\n",
       "    <tr>\n",
       "      <th>554</th>\n",
       "      <td>554</td>\n",
       "      <td>Sherlock Season 2</td>\n",
       "      <td>3.948371</td>\n",
       "    </tr>\n",
       "    <tr>\n",
       "      <th>933</th>\n",
       "      <td>933</td>\n",
       "      <td>Almost Human: The Complete First Season</td>\n",
       "      <td>3.947686</td>\n",
       "    </tr>\n",
       "    <tr>\n",
       "      <th>254</th>\n",
       "      <td>254</td>\n",
       "      <td>The Book Thief</td>\n",
       "      <td>3.945947</td>\n",
       "    </tr>\n",
       "    <tr>\n",
       "      <th>5996</th>\n",
       "      <td>5996</td>\n",
       "      <td>PEEP and the Big Wide World Volume 1</td>\n",
       "      <td>3.944601</td>\n",
       "    </tr>\n",
       "    <tr>\n",
       "      <th>...</th>\n",
       "      <td>...</td>\n",
       "      <td>...</td>\n",
       "      <td>...</td>\n",
       "    </tr>\n",
       "    <tr>\n",
       "      <th>493</th>\n",
       "      <td>493</td>\n",
       "      <td>The Legend Of Hercules</td>\n",
       "      <td>3.404263</td>\n",
       "    </tr>\n",
       "    <tr>\n",
       "      <th>1136</th>\n",
       "      <td>1136</td>\n",
       "      <td>Enemy</td>\n",
       "      <td>3.395414</td>\n",
       "    </tr>\n",
       "    <tr>\n",
       "      <th>380</th>\n",
       "      <td>380</td>\n",
       "      <td>Under the Skin</td>\n",
       "      <td>3.393128</td>\n",
       "    </tr>\n",
       "    <tr>\n",
       "      <th>2494</th>\n",
       "      <td>2494</td>\n",
       "      <td>They Came Together</td>\n",
       "      <td>3.388895</td>\n",
       "    </tr>\n",
       "    <tr>\n",
       "      <th>468</th>\n",
       "      <td>468</td>\n",
       "      <td>Fifty Shades of Grey</td>\n",
       "      <td>3.383630</td>\n",
       "    </tr>\n",
       "  </tbody>\n",
       "</table>\n",
       "<p>6659 rows × 3 columns</p>\n",
       "</div>"
      ],
      "text/plain": [
       "      item                            product_title     score\n",
       "1732  1732                       Quigley Down Under  3.955348\n",
       "554    554                        Sherlock Season 2  3.948371\n",
       "933    933  Almost Human: The Complete First Season  3.947686\n",
       "254    254                           The Book Thief  3.945947\n",
       "5996  5996     PEEP and the Big Wide World Volume 1  3.944601\n",
       "...    ...                                      ...       ...\n",
       "493    493                   The Legend Of Hercules  3.404263\n",
       "1136  1136                                    Enemy  3.395414\n",
       "380    380                           Under the Skin  3.393128\n",
       "2494  2494                       They Came Together  3.388895\n",
       "468    468                     Fifty Shades of Grey  3.383630\n",
       "\n",
       "[6659 rows x 3 columns]"
      ]
     },
     "execution_count": 81,
     "metadata": {},
     "output_type": "execute_result"
    }
   ],
   "source": [
    "# Enter your code here\n",
    "titles.sort_values(['score', 'item'], ascending=[False, True])"
   ]
  },
  {
   "cell_type": "markdown",
   "metadata": {},
   "source": [
    "**Question:** What can you conclude from the highly rated and lowest rated shows for the user? "
   ]
  },
  {
   "cell_type": "code",
   "execution_count": 83,
   "metadata": {},
   "outputs": [],
   "source": [
    "# Enter your Answer here\n",
    "# I am not an expert on movies, but this person has rating between 3.28 to 3.95, \n",
    "# so his/her taste is pretty even.  I see some really old school movies at the top."
   ]
  },
  {
   "cell_type": "markdown",
   "metadata": {},
   "source": [
    "See if your recommendations have correlations with other users. Try user 201. Perform the same operations as you did for user 200."
   ]
  },
  {
   "cell_type": "code",
   "execution_count": 84,
   "metadata": {},
   "outputs": [],
   "source": [
    "user_201 = prepare_predictions(201, products.shape[0], customers.shape[0] + products.shape[0])\n",
    "\n",
    "pred_201 = []\n",
    "for i in range(0, user_201.shape[0], 5):\n",
    "    preds = fm_predictor.predict(user_201[i:i+5].toarray())['predictions']\n",
    "    p = [pred_201.append(x['score']) for x in preds]"
   ]
  },
  {
   "cell_type": "code",
   "execution_count": 85,
   "metadata": {},
   "outputs": [
    {
     "data": {
      "text/plain": [
       "<matplotlib.collections.PathCollection at 0x7fd8384007f0>"
      ]
     },
     "execution_count": 85,
     "metadata": {},
     "output_type": "execute_result"
    },
    {
     "data": {
      "image/png": "[encoded data removed]",
      "text/plain": [
       "<Figure size 432x288 with 1 Axes>"
      ]
     },
     "metadata": {
      "needs_background": "light"
     },
     "output_type": "display_data"
    }
   ],
   "source": [
    "plt.scatter(pred_200, pred_201)\n",
    "plt.show()"
   ]
  },
  {
   "cell_type": "markdown",
   "metadata": {},
   "source": [
    "**Question:** What can you conclude from the scatter plot between the two users?  "
   ]
  },
  {
   "cell_type": "code",
   "execution_count": 96,
   "metadata": {},
   "outputs": [],
   "source": [
    "# Enter your answer here:\n",
    "# user 200 and user 201's rating for every movie is perfectly corrolated, \n",
    "# so basically we are going to recommend the same movies for both, but their\n",
    "# preference or movie history were not the same.  Therefore, I question whether\n",
    "# this model is actually useful.  We should probably turn this into a binary\n",
    "# classification problem. 4-5 = recommend, 1-3 = Not Recommend"
   ]
  },
  {
   "cell_type": "markdown",
   "metadata": {},
   "source": [
    "Delete the endpoint you created for inference because you won't be using it anymore."
   ]
  },
  {
   "cell_type": "code",
   "execution_count": 97,
   "metadata": {},
   "outputs": [
    {
     "name": "stderr",
     "output_type": "stream",
     "text": [
      "The endpoint attribute has been renamed in sagemaker>=2.\n",
      "See: https://sagemaker.readthedocs.io/en/stable/v2.html for details.\n"
     ]
    }
   ],
   "source": [
    "sagemaker.Session().delete_endpoint(fm_predictor.endpoint)"
   ]
  },
  {
   "cell_type": "markdown",
   "metadata": {},
   "source": [
    "## <span style=\"color:red\"> End of Lab 3 </span>\n",
    "\n",
    "Save the project file to your local computer. Follow these steps:\n",
    "\n",
    "1. At the top of the page, click the **File** menu. \n",
    "\n",
    "1. Select **Download as**, and click **Notebook(.ipynb)**.  \n",
    "\n",
    "This downloads the current notebook to the default download folder on your computer."
   ]
  },
  {
   "cell_type": "markdown",
   "metadata": {},
   "source": [
    "# Iteration II\n",
    "\n",
    "# Step 4: Feature engineering\n",
    "\n",
    "You've now gone through one iteration of training and evaluating your model. Given that the outcome you reached for your model the first time probably wasn't sufficient for solving your business problem, what are some things you could change about your data to possibly improve model performance?\n",
    "\n",
    "### Key questions to consider:\n",
    "1. How might changing the machine learning problem help your dataset? You tried to use regression to solve the problem; can classification help?\n",
    "2. What do you need to do to change the machine learning problem to a machine learning classification problem? Write down the new problem statement for classification.\n",
    "\n",
    "#### <span style=\"color: blue;\">Project presentation: Record key decisions and methods you use in this section in your project presentations, as well as any new performance metrics you obtain after evaluating your model again.</span>"
   ]
  },
  {
   "cell_type": "markdown",
   "metadata": {},
   "source": [
    "Now change the training datasets to have a binary output depending on the rating they get. You will consider recommending something to a user when the rating is 5 stars, and you will save again as a protobuf format in Amazon S3. Do the following:  \n",
    "\n",
    "1. Use the `loadDataset` function with the option `regression=False` to create your training datasets.   \n",
    "2. Write the dataset as a protobuf format.  \n",
    "3. Retrain the model using `predictor_type='binary_classifier'`.   \n",
    "4. Deploy your model to an endpoint and evaluate the model, similar to how you did before on the test set.   \n",
    "5. Inspect how you did on the test set using a confusion matrix.   "
   ]
  },
  {
   "cell_type": "code",
   "execution_count": null,
   "metadata": {},
   "outputs": [],
   "source": [
    "X_train_class, Y_train_class = # Enter your code here\n",
    "X_test_class, Y_test_class = # Enter your code here"
   ]
  },
  {
   "cell_type": "code",
   "execution_count": null,
   "metadata": {},
   "outputs": [],
   "source": [
    "# Write dataset as a protobuf\n",
    "fm_train_data_path = writeDatasetToProtobuf(<CODE>) # Enter your code here    \n",
    "fm_test_data_path  = writeDatasetToProtobuf(<CODE>) # Enter your code here    \n",
    "  \n",
    "print(\"Training data S3 path: \", fm_train_data_path)\n",
    "print(\"Test data S3 path: \", fm_test_data_path)"
   ]
  },
  {
   "cell_type": "markdown",
   "metadata": {},
   "source": [
    "### Sample code\n",
    "\n",
    "```\n",
    "fm_train_data_path = writeDatasetToProtobuf(X_train_class, bucket, prefix, 'train_class', \"sparse\", Y_train_class)    \n",
    "fm_test_data_path  = writeDatasetToProtobuf(X_test_class, bucket, prefix, 'test_class', \"sparse\", Y_test_class) \n",
    "```"
   ]
  },
  {
   "cell_type": "markdown",
   "metadata": {},
   "source": [
    "Finally, retrain the model, changing from regression to binary classification. Use the same code and settings that you did when you trained your model previously, but change the `predictor_type='binary_classifier`."
   ]
  },
  {
   "cell_type": "code",
   "execution_count": null,
   "metadata": {
    "jupyter": {
     "outputs_hidden": true
    }
   },
   "outputs": [],
   "source": [
    "# Retrain your model\n",
    "# Enter your code here"
   ]
  },
  {
   "cell_type": "markdown",
   "metadata": {},
   "source": [
    "### Sample code \n",
    "```\n",
    "from sagemaker import get_execution_role\n",
    "from sagemaker import image_uris\n",
    "\n",
    "#output_prefix= 's3://<LabBucketName>/sagemaker-fm/model'\n",
    "\n",
    "output_prefix = 's3://' + bucket + '/sagemaker-fm/model'\n",
    "instance_type='ml.m4.xlarge'\n",
    "batch_size = 512\n",
    "\n",
    "fm = sagemaker.estimator.Estimator(\n",
    "    image_uris.retrieve(\"factorization-machines\",boto3.Session().region_name),\n",
    "    role, \n",
    "    instance_count=1, \n",
    "    instance_type=instance_type,\n",
    "    output_path=output_prefix,\n",
    "    sagemaker_session=sagemaker.Session()\n",
    ")\n",
    "\n",
    "fm.set_hyperparameters(feature_dim=X_train.shape[1],\n",
    "                     # predictor_type='regressor',\n",
    "                       predictor_type='binary_classifier',\n",
    "                       mini_batch_size=batch_size,\n",
    "                       num_factors=128,\n",
    "                       epochs=25,\n",
    "                       clip_gradient=5.0,\n",
    "                       rescale_grad=1.0/batch_size\n",
    "                       )\n",
    "\n",
    "fm.fit({'train': fm_train_data_path, 'test': fm_test_data_path})\n",
    "```"
   ]
  },
  {
   "cell_type": "markdown",
   "metadata": {},
   "source": [
    "Evaluate the performance of this new model. Deploy the model, determine a serializer, and then pass the test data."
   ]
  },
  {
   "cell_type": "code",
   "execution_count": null,
   "metadata": {},
   "outputs": [],
   "source": [
    "from sagemaker import deserializers\n",
    "fm_predictor = fm.deploy(initial_instance_count=1, \n",
    "                         instance_type='ml.m4.xlarge', \n",
    "                         serializer=fm_serializer, \n",
    "                         deserializer=JSONDeserializer())"
   ]
  },
  {
   "cell_type": "code",
   "execution_count": null,
   "metadata": {},
   "outputs": [],
   "source": [
    "# Pass the testing data to the classifier and get all the predictions\n",
    "Y_pred = []\n",
    "for i in range(0, X_test_class.shape[0], 5):\n",
    "    preds = fm_predictor.predict(X_test_class[i:i+5].toarray())['predictions']\n",
    "    p = [Y_pred.append(x['score']) for x in preds]"
   ]
  },
  {
   "cell_type": "markdown",
   "metadata": {},
   "source": [
    "#### Inspect the results\n",
    "\n",
    "To inspect how well the classifier is doing, calculate and plot a confusion matrix. Use the implementation from **Scikit-Learn**."
   ]
  },
  {
   "cell_type": "code",
   "execution_count": null,
   "metadata": {},
   "outputs": [],
   "source": [
    "from sklearn.metrics import confusion_matrix"
   ]
  },
  {
   "cell_type": "code",
   "execution_count": null,
   "metadata": {},
   "outputs": [],
   "source": [
    "true = Y_test_class.astype(int)\n",
    "predicted = [1 if value > 0.5 else 0 for value in Y_pred]\n",
    "conf_matrix = confusion_matrix(true, predicted)\n",
    "print(conf_matrix)\n",
    "sns.heatmap(conf_matrix)"
   ]
  },
  {
   "cell_type": "markdown",
   "metadata": {},
   "source": [
    "**Question:** What is the accuracy of your model?  \n",
    "\n",
    "**Hint**:\n",
    "$$ Accuracy = \\frac{TP + TN}{TP + FP + FN + TN} $$"
   ]
  },
  {
   "cell_type": "code",
   "execution_count": null,
   "metadata": {},
   "outputs": [],
   "source": [
    "# Accuracy\n",
    "# Enter your code here"
   ]
  },
  {
   "cell_type": "markdown",
   "metadata": {},
   "source": [
    "**Question:** How did your model do compared to a naive baseline model of predicting everything as 1?"
   ]
  },
  {
   "cell_type": "code",
   "execution_count": null,
   "metadata": {},
   "outputs": [],
   "source": [
    "(reduced_df.star_rating > 4).value_counts() / reduced_df.shape[0] * 100"
   ]
  },
  {
   "cell_type": "code",
   "execution_count": null,
   "metadata": {},
   "outputs": [],
   "source": [
    "# Enter your answer here"
   ]
  },
  {
   "cell_type": "code",
   "execution_count": null,
   "metadata": {},
   "outputs": [],
   "source": [
    "# Delete inference endpoint\n",
    "sagemaker.Session().delete_endpoint(fm_predictor.endpoint)"
   ]
  },
  {
   "cell_type": "markdown",
   "metadata": {},
   "source": [
    "## Combining powers with KNN\n",
    "\n",
    "You saw that your classifier model is doing a better job than the regressor model. Now, see if you can repackage it to fit a k-nearest neighbor (KNN) model to predict the *k closest* items to the one a customer likes and then recommend those, instead of predicting the ratings (regressor) or whether a user would like a movie or not (binary classification).\n",
    "\n",
    "Start by downloading the model from Amazon S3. Then, repackage it to fit a KNN model.\n",
    "\n",
    "**Note:** Make sure the kernel you are using is `conda_mxnet_p36` so you can run the next cells."
   ]
  },
  {
   "cell_type": "markdown",
   "metadata": {},
   "source": [
    "### Download model data"
   ]
  },
  {
   "cell_type": "code",
   "execution_count": null,
   "metadata": {},
   "outputs": [],
   "source": [
    "import mxnet as mx\n",
    "model_file_name = 'model.tar.gz'\n",
    "model_full_path = f'{fm.output_path}/{fm.latest_training_job.job_name}/output/{model_file_name}'\n",
    "print(f'Model Path: {model_full_path}')\n",
    "\n",
    "# Download FM model \n",
    "os.system('aws s3 cp ' + model_full_path + ' .')\n",
    "\n",
    "# Extract model file for loading to MXNet\n",
    "os.system('tar xzvf ' + model_file_name)\n",
    "os.system('unzip -o model_algo-1')\n",
    "os.system('mv symbol.json model-symbol.json')\n",
    "os.system('mv params model-0000.params')"
   ]
  },
  {
   "cell_type": "markdown",
   "metadata": {},
   "source": [
    "### Extract model data to create item and user latent matrixes"
   ]
  },
  {
   "cell_type": "markdown",
   "metadata": {},
   "source": [
    "Now you are going to extract the values that represent each user and item after training a factorization machine. The result of the training is two matrices that, when multiplied together, will represent the target values (zero or one) as closely as possible.\n",
    "\n",
    "In more mathematical terms, factorization machines model output consists of three N-dimensional arrays (ndarrays):\n",
    "\n",
    "    V – a (N x k) matrix, where:\n",
    "        k is the dimension of the latent space\n",
    "        N is the total count of users and items\n",
    "    w – an N-dimensional vector\n",
    "    b – a single number: the bias term\n",
    "\n",
    "To extract these values, which you will use as features, you need to first load the model. Then, extract the values of each of the three matrices and build the `knn_item_matrix` and t`knn_user_matrix` matrices."
   ]
  },
  {
   "cell_type": "code",
   "execution_count": null,
   "metadata": {},
   "outputs": [],
   "source": [
    "# Extract model data\n",
    "m = mx.module.Module.load('./model', 0, False, label_names=['out_label'])\n",
    "V = m._arg_params['v'].asnumpy()\n",
    "w = m._arg_params['w1_weight'].asnumpy()\n",
    "b = m._arg_params['w0_weight'].asnumpy()\n",
    "\n",
    "nb_users = customers.shape[0]\n",
    "nb_item = products.shape[0]\n",
    "\n",
    "# Item latent matrix - concat(V[i], w[i]).  \n",
    "knn_item_matrix = np.concatenate((V[nb_users:], w[nb_users:]), axis=1)\n",
    "knn_train_label = np.arange(1,nb_item+1)\n",
    "\n",
    "# User latent matrix - concat (V[u], 1) \n",
    "ones = np.ones(nb_users).reshape((nb_users, 1))\n",
    "knn_user_matrix = np.concatenate((V[:nb_users], ones), axis=1)"
   ]
  },
  {
   "cell_type": "markdown",
   "metadata": {},
   "source": [
    "## Building KNN model\n",
    "\n",
    "Now that you have the training data, you can now feed it to a KNN model. As you did before, you need to save the protobuf IO formatted data to Amazon S3, instantiate the model, and set the hyperparameters.\n",
    "\n",
    "Start by setting up the path and the estimator."
   ]
  },
  {
   "cell_type": "code",
   "execution_count": null,
   "metadata": {},
   "outputs": [],
   "source": [
    "print('KNN train features shape = ', knn_item_matrix.shape)\n",
    "knn_prefix = 'knn'\n",
    "train_key = 'train_knn'\n",
    "knn_output_prefix  = f's3://{bucket}/{knn_prefix}/output'\n",
    "knn_train_data_path = writeDatasetToProtobuf(knn_item_matrix, bucket, \n",
    "                                             knn_prefix, train_key, \n",
    "                                             \"dense\", \n",
    "                                             knn_train_label)\n",
    "print(f'Uploaded KNN train data: {knn_train_data_path}')\n",
    "\n",
    "nb_recommendations = 100\n",
    "\n",
    "# Set up the estimator\n",
    "knn = sagemaker.estimator.Estimator(\n",
    "    image_uris.retrieve(\"knn\",boto3.Session().region_name),\n",
    "    get_execution_role(),\n",
    "    instance_count=1,\n",
    "    instance_type=instance_type,\n",
    "    output_path=knn_output_prefix,\n",
    "    sagemaker_session=sagemaker.Session()\n",
    ")"
   ]
  },
  {
   "cell_type": "markdown",
   "metadata": {},
   "source": [
    "Now, you will set the hyperparameters. Note that this approach uses the default `index_type` parameter for KNN. It is precise but can be slow for large datasets. In such cases, you may want to use a different `index_type` parameter leading to an approximate, yet faster answer.\n",
    "\n",
    "For more information about index types, see [k-NN Hyperparameters](https://docs.aws.amazon.com/sagemaker/latest/dg/kNN_hyperparameters.html)."
   ]
  },
  {
   "cell_type": "code",
   "execution_count": null,
   "metadata": {
    "jupyter": {
     "outputs_hidden": true
    }
   },
   "outputs": [],
   "source": [
    "knn.set_hyperparameters(feature_dim=knn_item_matrix.shape[1], \n",
    "                        k=nb_recommendations, \n",
    "                        index_metric=\"INNER_PRODUCT\", \n",
    "                        predictor_type='classifier', \n",
    "                        sample_size=200000)\n",
    "\n",
    "\n",
    "knn.fit({'train': knn_train_data_path})"
   ]
  },
  {
   "cell_type": "markdown",
   "metadata": {},
   "source": [
    "Now that you have a trained model, save it so you can reference it for batch inference."
   ]
  },
  {
   "cell_type": "code",
   "execution_count": null,
   "metadata": {},
   "outputs": [],
   "source": [
    "knn_model_name =  knn.latest_training_job.job_name\n",
    "print(\"created model: \", knn_model_name)\n",
    "\n",
    "# Save the model so that you can reference it in the next step during batch inference\n",
    "sm = boto3.client(service_name='sagemaker')\n",
    "primary_container = {\n",
    "    'Image': knn.image_name,\n",
    "    'ModelDataUrl': knn.model_data,\n",
    "}\n",
    "\n",
    "knn_model = sm.create_model(\n",
    "        ModelName = knn.latest_training_job.job_name,\n",
    "        ExecutionRoleArn = knn.role,\n",
    "        PrimaryContainer = primary_container)\n",
    "print(\"saved the model\")"
   ]
  },
  {
   "cell_type": "markdown",
   "metadata": {},
   "source": [
    "## Batch transform\n",
    "\n",
    "To see the predictions your model made, you would have to create inferences and see if they make sense. You could repeat the process as last time and check one user at a time with all possible combinations of items. However, Amazon SageMaker provides a batch transform job that you can use to do inference over the entire dataset. For more information, see [Get Inferences for an Entire Dataset with Batch Transform](https://docs.aws.amazon.com/sagemaker/latest/dg/how-it-works-batch.html).\n",
    "\n",
    "In this section, you will use a batch transform to predict the top 100 recommendations for all the users."
   ]
  },
  {
   "cell_type": "code",
   "execution_count": null,
   "metadata": {
    "jupyter": {
     "outputs_hidden": true
    }
   },
   "outputs": [],
   "source": [
    "# Upload inference data to S3\n",
    "knn_batch_data_path = writeDatasetToProtobuf(knn_user_matrix,\n",
    "                                             bucket, \n",
    "                                             knn_prefix, \n",
    "                                             train_key, \n",
    "                                             \"dense\")\n",
    "print (\"Batch inference data path: \",knn_batch_data_path)\n",
    "\n",
    "# Initialize the transformer object\n",
    "transformer =sagemaker.transformer.Transformer(\n",
    "    base_transform_job_name=\"knn\",\n",
    "    model_name=knn_model_name,\n",
    "    instance_count=1,\n",
    "    instance_type=instance_type,\n",
    "    output_path=knn_output_prefix,\n",
    "    accept=\"application/jsonlines; verbose=true\",\n",
    "    \n",
    ")\n",
    "\n",
    "# Start a transform job\n",
    "transformer.transform(knn_batch_data_path, \n",
    "                      content_type='application/x-recordio-protobuf',\n",
    "                      split_type='RecordIO')\n",
    "transformer.wait()\n",
    "\n",
    " "
   ]
  },
  {
   "cell_type": "markdown",
   "metadata": {},
   "source": [
    "You are now free to examine the predictions. Download them first."
   ]
  },
  {
   "cell_type": "code",
   "execution_count": null,
   "metadata": {},
   "outputs": [],
   "source": [
    "# Download predictions \n",
    "results_file_name = \"inference_output\"\n",
    "inference_output_file = \"knn/output/train_knn.out\"\n",
    "s3_client = boto3.client('s3')\n",
    "s3_client.download_file(bucket, inference_output_file, results_file_name)"
   ]
  },
  {
   "cell_type": "code",
   "execution_count": null,
   "metadata": {},
   "outputs": [],
   "source": [
    "# Open file and load it to memory\n",
    "with open(results_file_name) as f:\n",
    "    results = f.readlines() "
   ]
  },
  {
   "cell_type": "markdown",
   "metadata": {},
   "source": [
    "The results contain the 100 nearest neighbor movie IDs with their corresponding distances. See how it looks for user number 200."
   ]
  },
  {
   "cell_type": "code",
   "execution_count": null,
   "metadata": {
    "scrolled": true
   },
   "outputs": [],
   "source": [
    "test_user_idx = 200\n",
    "u_one_json = json.loads(results[test_user_idx])\n",
    "recommended_movies = [int(movie_id) for movie_id in u_one_json['labels']]\n",
    "distances = [round(distance, 4) for distance in u_one_json['distances']]\n",
    "\n",
    "print(f'Recommended movie Ids for user #{test_user_idx} : {recommended_movies}')\n",
    "\n",
    "print(f'Movie distances for user #{test_user_idx} : {distances}')"
   ]
  },
  {
   "cell_type": "markdown",
   "metadata": {},
   "source": [
    "You got the movies closest to user 200's tastes. Now, you can see the titles."
   ]
  },
  {
   "cell_type": "code",
   "execution_count": null,
   "metadata": {},
   "outputs": [],
   "source": [
    "titles_200 = reduced_df[reduced_df.item.isin(recommended_movies)].product_title.unique()\n",
    "titles_200"
   ]
  },
  {
   "cell_type": "markdown",
   "metadata": {},
   "source": [
    "Compare them with the favorite movies for user 200."
   ]
  },
  {
   "cell_type": "code",
   "execution_count": null,
   "metadata": {},
   "outputs": [],
   "source": [
    "reduced_df.query('user==200 & star_rating == 5')"
   ]
  },
  {
   "cell_type": "markdown",
   "metadata": {},
   "source": [
    "**Question:** Do you think these recommendations make sense? Explain why or why not."
   ]
  },
  {
   "cell_type": "code",
   "execution_count": null,
   "metadata": {},
   "outputs": [],
   "source": [
    "# Enter your answer here:"
   ]
  },
  {
   "cell_type": "code",
   "execution_count": null,
   "metadata": {},
   "outputs": [],
   "source": [
    "np.isin(titles_200, titles.tail(100).product_title.unique()).sum()"
   ]
  },
  {
   "cell_type": "markdown",
   "metadata": {},
   "source": [
    "**Super bonus question:** Recover the predictions for user 201, and see how they compare with user 200. Are they still correlated? Do you think this approach was an improvement over the first regressor?"
   ]
  },
  {
   "cell_type": "code",
   "execution_count": null,
   "metadata": {},
   "outputs": [],
   "source": [
    "# Recover the predictions for user 201\n",
    "\n",
    "test_user_idx = 201\n",
    "u_one_json = json.loads(results[test_user_idx])\n",
    "recommended_movies_201 = [int(movie_id) for movie_id in u_one_json['labels']]"
   ]
  },
  {
   "cell_type": "code",
   "execution_count": null,
   "metadata": {},
   "outputs": [],
   "source": [
    "# Print out recommendations\n",
    "\n",
    "titles_201 = reduced_df[reduced_df.item.isin(recommended_movies_201)].product_title.unique()\n",
    "titles_201"
   ]
  },
  {
   "cell_type": "code",
   "execution_count": null,
   "metadata": {},
   "outputs": [],
   "source": [
    "# Compare the two predictions\n",
    "\n",
    "overlap = np.isin(titles_200, titles_201).sum()\n",
    "print(f'The recommendations for \"user 201\" that are present in \"user 200\" are: {overlap} out of: {len(titles_200)}')"
   ]
  },
  {
   "cell_type": "code",
   "execution_count": null,
   "metadata": {},
   "outputs": [],
   "source": [
    "# Compare with user 201 likes\n",
    "\n",
    "reduced_df.query('user==201 & star_rating == 5')"
   ]
  },
  {
   "cell_type": "code",
   "execution_count": null,
   "metadata": {},
   "outputs": [],
   "source": [
    "test_user_idx = 900\n",
    "u_one_json = json.loads(results[test_user_idx])\n",
    "recommended_movies_900 = [int(movie_id) for movie_id in u_one_json['labels']]\n",
    "titles_900 = reduced_df[reduced_df.item.isin(recommended_movies_201)].product_title.unique()\n",
    "overlap_900 = np.isin(titles_200, titles_900).sum()\n",
    "print(f'The recommendations for \"user 900\" that are present in \"user 200\" are: {overlap} out of: {len(titles_200)}')\n",
    "reduced_df.query('user==900 & star_rating == 5')"
   ]
  },
  {
   "cell_type": "code",
   "execution_count": null,
   "metadata": {},
   "outputs": [],
   "source": [
    "# Enter your answer here:"
   ]
  },
  {
   "cell_type": "markdown",
   "metadata": {},
   "source": [
    "There are a number of things you can do to improve these models, such as adding features besides rating, trying different feature selection, hyperparameter tuning, and changing the models. The most sophisticated recommendation algorithms are based on deep learning. This can also be explored."
   ]
  },
  {
   "cell_type": "markdown",
   "metadata": {},
   "source": [
    "That is it! You now have a working recommender system that can tell you the top 100 movies for a user. Feel free to optimize and play with the hyperparameters and data to see if you can create an even better recommender system."
   ]
  },
  {
   "cell_type": "markdown",
   "metadata": {},
   "source": [
    "## Final thoughts\n",
    "\n",
    "In this notebook, you used different techniques to create a recommendations system using only Amazon SageMaker built-in algorithms. You learned how to prepare data in different formats and do feature engineering. You were able to identify problems with your trained models and reframe the problem in different ways to achieve an end result. \n",
    "\n",
    "As you can see now, training a model requires a lot of steps, preparation, and validation. It is not a streamlined process but an iterative one. You can think of this as a virtuous cycle that usually has the following steps:\n",
    "\n",
    "- Define the (business) problem.\n",
    "- Frame the problem as a machine learning problem.\n",
    "- Prepare data and perform freature engineerin.\n",
    "- Train and evaluate the model.\n",
    "- Deploy the model (inference).\n",
    "- Monitor and evaluate.\n",
    "\n",
    "Every step has its own challenges, and each of the steps feeds each other. So it is important to pay attention to the entire pipeline, not only the model training.\n"
   ]
  }
 ],
 "metadata": {
  "kernelspec": {
   "display_name": "conda_mxnet_p36",
   "language": "python",
   "name": "conda_mxnet_p36"
  },
  "language_info": {
   "codemirror_mode": {
    "name": "ipython",
    "version": 3
   },
   "file_extension": ".py",
   "mimetype": "text/x-python",
   "name": "python",
   "nbconvert_exporter": "python",
   "pygments_lexer": "ipython3",
   "version": "3.6.10"
  }
 },
 "nbformat": 4,
 "nbformat_minor": 4
}
